{
  "cells": [
    {
      "cell_type": "markdown",
      "metadata": {
        "id": "view-in-github",
        "colab_type": "text"
      },
      "source": [
        "<a href=\"https://colab.research.google.com/github/uclqzz0/QM2/blob/main/FUNCTIONS_Airport_Data_Preparation_%26_Visualisation.ipynb\" target=\"_parent\"><img src=\"https://colab.research.google.com/assets/colab-badge.svg\" alt=\"Open In Colab\"/></a>"
      ]
    },
    {
      "cell_type": "markdown",
      "metadata": {
        "id": "3SgMfvcidG2i"
      },
      "source": [
        "# Setup"
      ]
    },
    {
      "cell_type": "code",
      "execution_count": null,
      "metadata": {
        "colab": {
          "base_uri": "https://localhost:8080/"
        },
        "id": "18J89Qp1rq6C",
        "outputId": "75c82088-53d0-4d46-e65e-d3ccef88bcaa"
      },
      "outputs": [
        {
          "output_type": "stream",
          "name": "stdout",
          "text": [
            "Requirement already satisfied: haversine in /usr/local/lib/python3.10/dist-packages (2.9.0)\n",
            "Requirement already satisfied: folium in /usr/local/lib/python3.10/dist-packages (0.19.2)\n",
            "Requirement already satisfied: basemap in /usr/local/lib/python3.10/dist-packages (1.4.1)\n",
            "Requirement already satisfied: ipywidgets in /usr/local/lib/python3.10/dist-packages (7.7.1)\n",
            "Requirement already satisfied: statsmodels in /usr/local/lib/python3.10/dist-packages (0.14.4)\n",
            "Requirement already satisfied: branca>=0.6.0 in /usr/local/lib/python3.10/dist-packages (from folium) (0.8.1)\n",
            "Requirement already satisfied: jinja2>=2.9 in /usr/local/lib/python3.10/dist-packages (from folium) (3.1.4)\n",
            "Requirement already satisfied: numpy in /usr/local/lib/python3.10/dist-packages (from folium) (1.26.4)\n",
            "Requirement already satisfied: requests in /usr/local/lib/python3.10/dist-packages (from folium) (2.32.3)\n",
            "Requirement already satisfied: xyzservices in /usr/local/lib/python3.10/dist-packages (from folium) (2024.9.0)\n",
            "Requirement already satisfied: basemap-data<1.4,>=1.3.2 in /usr/local/lib/python3.10/dist-packages (from basemap) (1.3.2)\n",
            "Requirement already satisfied: pyshp<2.4,>=1.2 in /usr/local/lib/python3.10/dist-packages (from basemap) (2.3.1)\n",
            "Requirement already satisfied: matplotlib<3.9,>=1.5 in /usr/local/lib/python3.10/dist-packages (from basemap) (3.8.0)\n",
            "Requirement already satisfied: pyproj<3.7.0,>=1.9.3 in /usr/local/lib/python3.10/dist-packages (from basemap) (3.6.1)\n",
            "Requirement already satisfied: packaging<24.0,>=16.0 in /usr/local/lib/python3.10/dist-packages (from basemap) (23.2)\n",
            "Requirement already satisfied: ipykernel>=4.5.1 in /usr/local/lib/python3.10/dist-packages (from ipywidgets) (5.5.6)\n",
            "Requirement already satisfied: ipython-genutils~=0.2.0 in /usr/local/lib/python3.10/dist-packages (from ipywidgets) (0.2.0)\n",
            "Requirement already satisfied: traitlets>=4.3.1 in /usr/local/lib/python3.10/dist-packages (from ipywidgets) (5.7.1)\n",
            "Requirement already satisfied: widgetsnbextension~=3.6.0 in /usr/local/lib/python3.10/dist-packages (from ipywidgets) (3.6.10)\n",
            "Requirement already satisfied: ipython>=4.0.0 in /usr/local/lib/python3.10/dist-packages (from ipywidgets) (7.34.0)\n",
            "Requirement already satisfied: jupyterlab-widgets>=1.0.0 in /usr/local/lib/python3.10/dist-packages (from ipywidgets) (3.0.13)\n",
            "Requirement already satisfied: scipy!=1.9.2,>=1.8 in /usr/local/lib/python3.10/dist-packages (from statsmodels) (1.13.1)\n",
            "Requirement already satisfied: pandas!=2.1.0,>=1.4 in /usr/local/lib/python3.10/dist-packages (from statsmodels) (2.2.2)\n",
            "Requirement already satisfied: patsy>=0.5.6 in /usr/local/lib/python3.10/dist-packages (from statsmodels) (1.0.1)\n",
            "Requirement already satisfied: jupyter-client in /usr/local/lib/python3.10/dist-packages (from ipykernel>=4.5.1->ipywidgets) (6.1.12)\n",
            "Requirement already satisfied: tornado>=4.2 in /usr/local/lib/python3.10/dist-packages (from ipykernel>=4.5.1->ipywidgets) (6.3.3)\n",
            "Requirement already satisfied: setuptools>=18.5 in /usr/local/lib/python3.10/dist-packages (from ipython>=4.0.0->ipywidgets) (75.1.0)\n",
            "Requirement already satisfied: jedi>=0.16 in /usr/local/lib/python3.10/dist-packages (from ipython>=4.0.0->ipywidgets) (0.19.2)\n",
            "Requirement already satisfied: decorator in /usr/local/lib/python3.10/dist-packages (from ipython>=4.0.0->ipywidgets) (4.4.2)\n",
            "Requirement already satisfied: pickleshare in /usr/local/lib/python3.10/dist-packages (from ipython>=4.0.0->ipywidgets) (0.7.5)\n",
            "Requirement already satisfied: prompt-toolkit!=3.0.0,!=3.0.1,<3.1.0,>=2.0.0 in /usr/local/lib/python3.10/dist-packages (from ipython>=4.0.0->ipywidgets) (3.0.48)\n",
            "Requirement already satisfied: pygments in /usr/local/lib/python3.10/dist-packages (from ipython>=4.0.0->ipywidgets) (2.18.0)\n",
            "Requirement already satisfied: backcall in /usr/local/lib/python3.10/dist-packages (from ipython>=4.0.0->ipywidgets) (0.2.0)\n",
            "Requirement already satisfied: matplotlib-inline in /usr/local/lib/python3.10/dist-packages (from ipython>=4.0.0->ipywidgets) (0.1.7)\n",
            "Requirement already satisfied: pexpect>4.3 in /usr/local/lib/python3.10/dist-packages (from ipython>=4.0.0->ipywidgets) (4.9.0)\n",
            "Requirement already satisfied: MarkupSafe>=2.0 in /usr/local/lib/python3.10/dist-packages (from jinja2>=2.9->folium) (3.0.2)\n",
            "Requirement already satisfied: contourpy>=1.0.1 in /usr/local/lib/python3.10/dist-packages (from matplotlib<3.9,>=1.5->basemap) (1.3.1)\n",
            "Requirement already satisfied: cycler>=0.10 in /usr/local/lib/python3.10/dist-packages (from matplotlib<3.9,>=1.5->basemap) (0.12.1)\n",
            "Requirement already satisfied: fonttools>=4.22.0 in /usr/local/lib/python3.10/dist-packages (from matplotlib<3.9,>=1.5->basemap) (4.55.3)\n",
            "Requirement already satisfied: kiwisolver>=1.0.1 in /usr/local/lib/python3.10/dist-packages (from matplotlib<3.9,>=1.5->basemap) (1.4.7)\n",
            "Requirement already satisfied: pillow>=6.2.0 in /usr/local/lib/python3.10/dist-packages (from matplotlib<3.9,>=1.5->basemap) (11.0.0)\n",
            "Requirement already satisfied: pyparsing>=2.3.1 in /usr/local/lib/python3.10/dist-packages (from matplotlib<3.9,>=1.5->basemap) (3.2.0)\n",
            "Requirement already satisfied: python-dateutil>=2.7 in /usr/local/lib/python3.10/dist-packages (from matplotlib<3.9,>=1.5->basemap) (2.8.2)\n",
            "Requirement already satisfied: pytz>=2020.1 in /usr/local/lib/python3.10/dist-packages (from pandas!=2.1.0,>=1.4->statsmodels) (2024.2)\n",
            "Requirement already satisfied: tzdata>=2022.7 in /usr/local/lib/python3.10/dist-packages (from pandas!=2.1.0,>=1.4->statsmodels) (2024.2)\n",
            "Requirement already satisfied: certifi in /usr/local/lib/python3.10/dist-packages (from pyproj<3.7.0,>=1.9.3->basemap) (2024.12.14)\n",
            "Requirement already satisfied: notebook>=4.4.1 in /usr/local/lib/python3.10/dist-packages (from widgetsnbextension~=3.6.0->ipywidgets) (6.5.5)\n",
            "Requirement already satisfied: charset-normalizer<4,>=2 in /usr/local/lib/python3.10/dist-packages (from requests->folium) (3.4.0)\n",
            "Requirement already satisfied: idna<4,>=2.5 in /usr/local/lib/python3.10/dist-packages (from requests->folium) (3.10)\n",
            "Requirement already satisfied: urllib3<3,>=1.21.1 in /usr/local/lib/python3.10/dist-packages (from requests->folium) (2.2.3)\n",
            "Requirement already satisfied: parso<0.9.0,>=0.8.4 in /usr/local/lib/python3.10/dist-packages (from jedi>=0.16->ipython>=4.0.0->ipywidgets) (0.8.4)\n",
            "Requirement already satisfied: pyzmq<25,>=17 in /usr/local/lib/python3.10/dist-packages (from notebook>=4.4.1->widgetsnbextension~=3.6.0->ipywidgets) (24.0.1)\n",
            "Requirement already satisfied: argon2-cffi in /usr/local/lib/python3.10/dist-packages (from notebook>=4.4.1->widgetsnbextension~=3.6.0->ipywidgets) (23.1.0)\n",
            "Requirement already satisfied: jupyter-core>=4.6.1 in /usr/local/lib/python3.10/dist-packages (from notebook>=4.4.1->widgetsnbextension~=3.6.0->ipywidgets) (5.7.2)\n",
            "Requirement already satisfied: nbformat in /usr/local/lib/python3.10/dist-packages (from notebook>=4.4.1->widgetsnbextension~=3.6.0->ipywidgets) (5.10.4)\n",
            "Requirement already satisfied: nbconvert>=5 in /usr/local/lib/python3.10/dist-packages (from notebook>=4.4.1->widgetsnbextension~=3.6.0->ipywidgets) (7.16.4)\n",
            "Requirement already satisfied: nest-asyncio>=1.5 in /usr/local/lib/python3.10/dist-packages (from notebook>=4.4.1->widgetsnbextension~=3.6.0->ipywidgets) (1.6.0)\n",
            "Requirement already satisfied: Send2Trash>=1.8.0 in /usr/local/lib/python3.10/dist-packages (from notebook>=4.4.1->widgetsnbextension~=3.6.0->ipywidgets) (1.8.3)\n",
            "Requirement already satisfied: terminado>=0.8.3 in /usr/local/lib/python3.10/dist-packages (from notebook>=4.4.1->widgetsnbextension~=3.6.0->ipywidgets) (0.18.1)\n",
            "Requirement already satisfied: prometheus-client in /usr/local/lib/python3.10/dist-packages (from notebook>=4.4.1->widgetsnbextension~=3.6.0->ipywidgets) (0.21.1)\n",
            "Requirement already satisfied: nbclassic>=0.4.7 in /usr/local/lib/python3.10/dist-packages (from notebook>=4.4.1->widgetsnbextension~=3.6.0->ipywidgets) (1.1.0)\n",
            "Requirement already satisfied: ptyprocess>=0.5 in /usr/local/lib/python3.10/dist-packages (from pexpect>4.3->ipython>=4.0.0->ipywidgets) (0.7.0)\n",
            "Requirement already satisfied: wcwidth in /usr/local/lib/python3.10/dist-packages (from prompt-toolkit!=3.0.0,!=3.0.1,<3.1.0,>=2.0.0->ipython>=4.0.0->ipywidgets) (0.2.13)\n",
            "Requirement already satisfied: six>=1.5 in /usr/local/lib/python3.10/dist-packages (from python-dateutil>=2.7->matplotlib<3.9,>=1.5->basemap) (1.17.0)\n",
            "Requirement already satisfied: platformdirs>=2.5 in /usr/local/lib/python3.10/dist-packages (from jupyter-core>=4.6.1->notebook>=4.4.1->widgetsnbextension~=3.6.0->ipywidgets) (4.3.6)\n",
            "Requirement already satisfied: notebook-shim>=0.2.3 in /usr/local/lib/python3.10/dist-packages (from nbclassic>=0.4.7->notebook>=4.4.1->widgetsnbextension~=3.6.0->ipywidgets) (0.2.4)\n",
            "Requirement already satisfied: beautifulsoup4 in /usr/local/lib/python3.10/dist-packages (from nbconvert>=5->notebook>=4.4.1->widgetsnbextension~=3.6.0->ipywidgets) (4.12.3)\n",
            "Requirement already satisfied: bleach!=5.0.0 in /usr/local/lib/python3.10/dist-packages (from nbconvert>=5->notebook>=4.4.1->widgetsnbextension~=3.6.0->ipywidgets) (6.2.0)\n",
            "Requirement already satisfied: defusedxml in /usr/local/lib/python3.10/dist-packages (from nbconvert>=5->notebook>=4.4.1->widgetsnbextension~=3.6.0->ipywidgets) (0.7.1)\n",
            "Requirement already satisfied: jupyterlab-pygments in /usr/local/lib/python3.10/dist-packages (from nbconvert>=5->notebook>=4.4.1->widgetsnbextension~=3.6.0->ipywidgets) (0.3.0)\n",
            "Requirement already satisfied: mistune<4,>=2.0.3 in /usr/local/lib/python3.10/dist-packages (from nbconvert>=5->notebook>=4.4.1->widgetsnbextension~=3.6.0->ipywidgets) (3.0.2)\n",
            "Requirement already satisfied: nbclient>=0.5.0 in /usr/local/lib/python3.10/dist-packages (from nbconvert>=5->notebook>=4.4.1->widgetsnbextension~=3.6.0->ipywidgets) (0.10.1)\n",
            "Requirement already satisfied: pandocfilters>=1.4.1 in /usr/local/lib/python3.10/dist-packages (from nbconvert>=5->notebook>=4.4.1->widgetsnbextension~=3.6.0->ipywidgets) (1.5.1)\n",
            "Requirement already satisfied: tinycss2 in /usr/local/lib/python3.10/dist-packages (from nbconvert>=5->notebook>=4.4.1->widgetsnbextension~=3.6.0->ipywidgets) (1.4.0)\n",
            "Requirement already satisfied: fastjsonschema>=2.15 in /usr/local/lib/python3.10/dist-packages (from nbformat->notebook>=4.4.1->widgetsnbextension~=3.6.0->ipywidgets) (2.21.1)\n",
            "Requirement already satisfied: jsonschema>=2.6 in /usr/local/lib/python3.10/dist-packages (from nbformat->notebook>=4.4.1->widgetsnbextension~=3.6.0->ipywidgets) (4.23.0)\n",
            "Requirement already satisfied: argon2-cffi-bindings in /usr/local/lib/python3.10/dist-packages (from argon2-cffi->notebook>=4.4.1->widgetsnbextension~=3.6.0->ipywidgets) (21.2.0)\n",
            "Requirement already satisfied: webencodings in /usr/local/lib/python3.10/dist-packages (from bleach!=5.0.0->nbconvert>=5->notebook>=4.4.1->widgetsnbextension~=3.6.0->ipywidgets) (0.5.1)\n",
            "Requirement already satisfied: attrs>=22.2.0 in /usr/local/lib/python3.10/dist-packages (from jsonschema>=2.6->nbformat->notebook>=4.4.1->widgetsnbextension~=3.6.0->ipywidgets) (24.3.0)\n",
            "Requirement already satisfied: jsonschema-specifications>=2023.03.6 in /usr/local/lib/python3.10/dist-packages (from jsonschema>=2.6->nbformat->notebook>=4.4.1->widgetsnbextension~=3.6.0->ipywidgets) (2024.10.1)\n",
            "Requirement already satisfied: referencing>=0.28.4 in /usr/local/lib/python3.10/dist-packages (from jsonschema>=2.6->nbformat->notebook>=4.4.1->widgetsnbextension~=3.6.0->ipywidgets) (0.35.1)\n",
            "Requirement already satisfied: rpds-py>=0.7.1 in /usr/local/lib/python3.10/dist-packages (from jsonschema>=2.6->nbformat->notebook>=4.4.1->widgetsnbextension~=3.6.0->ipywidgets) (0.22.3)\n",
            "Requirement already satisfied: jupyter-server<3,>=1.8 in /usr/local/lib/python3.10/dist-packages (from notebook-shim>=0.2.3->nbclassic>=0.4.7->notebook>=4.4.1->widgetsnbextension~=3.6.0->ipywidgets) (1.24.0)\n",
            "Requirement already satisfied: cffi>=1.0.1 in /usr/local/lib/python3.10/dist-packages (from argon2-cffi-bindings->argon2-cffi->notebook>=4.4.1->widgetsnbextension~=3.6.0->ipywidgets) (1.17.1)\n",
            "Requirement already satisfied: soupsieve>1.2 in /usr/local/lib/python3.10/dist-packages (from beautifulsoup4->nbconvert>=5->notebook>=4.4.1->widgetsnbextension~=3.6.0->ipywidgets) (2.6)\n",
            "Requirement already satisfied: pycparser in /usr/local/lib/python3.10/dist-packages (from cffi>=1.0.1->argon2-cffi-bindings->argon2-cffi->notebook>=4.4.1->widgetsnbextension~=3.6.0->ipywidgets) (2.22)\n",
            "Requirement already satisfied: anyio<4,>=3.1.0 in /usr/local/lib/python3.10/dist-packages (from jupyter-server<3,>=1.8->notebook-shim>=0.2.3->nbclassic>=0.4.7->notebook>=4.4.1->widgetsnbextension~=3.6.0->ipywidgets) (3.7.1)\n",
            "Requirement already satisfied: websocket-client in /usr/local/lib/python3.10/dist-packages (from jupyter-server<3,>=1.8->notebook-shim>=0.2.3->nbclassic>=0.4.7->notebook>=4.4.1->widgetsnbextension~=3.6.0->ipywidgets) (1.8.0)\n",
            "Requirement already satisfied: sniffio>=1.1 in /usr/local/lib/python3.10/dist-packages (from anyio<4,>=3.1.0->jupyter-server<3,>=1.8->notebook-shim>=0.2.3->nbclassic>=0.4.7->notebook>=4.4.1->widgetsnbextension~=3.6.0->ipywidgets) (1.3.1)\n",
            "Requirement already satisfied: exceptiongroup in /usr/local/lib/python3.10/dist-packages (from anyio<4,>=3.1.0->jupyter-server<3,>=1.8->notebook-shim>=0.2.3->nbclassic>=0.4.7->notebook>=4.4.1->widgetsnbextension~=3.6.0->ipywidgets) (1.2.2)\n"
          ]
        }
      ],
      "source": [
        "!pip install haversine folium basemap ipywidgets statsmodels"
      ]
    },
    {
      "cell_type": "code",
      "execution_count": null,
      "metadata": {
        "id": "zHfkynHPdG2j",
        "outputId": "e00ed2d6-4d57-49e4-e2d5-44fe4c2d909e",
        "colab": {
          "base_uri": "https://localhost:8080/"
        }
      },
      "outputs": [
        {
          "output_type": "stream",
          "name": "stdout",
          "text": [
            "Requirement already satisfied: statsmodels in /usr/local/lib/python3.10/dist-packages (0.14.4)\n",
            "Requirement already satisfied: numpy<3,>=1.22.3 in /usr/local/lib/python3.10/dist-packages (from statsmodels) (1.26.4)\n",
            "Requirement already satisfied: scipy!=1.9.2,>=1.8 in /usr/local/lib/python3.10/dist-packages (from statsmodels) (1.13.1)\n",
            "Requirement already satisfied: pandas!=2.1.0,>=1.4 in /usr/local/lib/python3.10/dist-packages (from statsmodels) (2.2.2)\n",
            "Requirement already satisfied: patsy>=0.5.6 in /usr/local/lib/python3.10/dist-packages (from statsmodels) (1.0.1)\n",
            "Requirement already satisfied: packaging>=21.3 in /usr/local/lib/python3.10/dist-packages (from statsmodels) (23.2)\n",
            "Requirement already satisfied: python-dateutil>=2.8.2 in /usr/local/lib/python3.10/dist-packages (from pandas!=2.1.0,>=1.4->statsmodels) (2.8.2)\n",
            "Requirement already satisfied: pytz>=2020.1 in /usr/local/lib/python3.10/dist-packages (from pandas!=2.1.0,>=1.4->statsmodels) (2024.2)\n",
            "Requirement already satisfied: tzdata>=2022.7 in /usr/local/lib/python3.10/dist-packages (from pandas!=2.1.0,>=1.4->statsmodels) (2024.2)\n",
            "Requirement already satisfied: six>=1.5 in /usr/local/lib/python3.10/dist-packages (from python-dateutil>=2.8.2->pandas!=2.1.0,>=1.4->statsmodels) (1.17.0)\n"
          ]
        }
      ],
      "source": [
        "import pandas as pd\n",
        "import haversine\n",
        "import folium\n",
        "import matplotlib.pyplot as plt\n",
        "import seaborn as sns\n",
        "from mpl_toolkits.basemap import Basemap  # For map visualization\n",
        "import matplotlib.colors as mcolors  # For custom color scales\n",
        "import ipywidgets as widgets  # For interactivity\n",
        "from ipywidgets import interact  # For dynamic updates\n",
        "from scipy.stats import pearsonr, spearmanr, ttest_rel, ttest_ind, linregress\n",
        "import base64\n",
        "import os\n",
        "!pip install statsmodels\n",
        "import numpy as np\n",
        "import statsmodels.api as sm\n",
        "from statsmodels.stats.diagnostic import het_breuschpagan\n",
        "from statsmodels.stats.stattools import durbin_watson"
      ]
    },
    {
      "cell_type": "code",
      "execution_count": null,
      "metadata": {
        "id": "F_kb_wrYdG2k"
      },
      "outputs": [],
      "source": [
        "# Name of the city where the airport is located\n",
        "CITY_NAME = \"Dallas\"\n",
        "# Name of the airport\n",
        "AIRPORT_NAME = \"Dallas Fort Worth International Airport\"\n",
        "# IATA Code for the airport\n",
        "AIRPORT_CODE = \"DFW\"\n",
        "# Latitude and Longitude of the airport\n",
        "AIRPORT_LAT, AIRPORT_LON = 32.8990, -97.0336\n",
        "# Latitude and Longitude for the Basemap\n",
        "BASEMAP_LAT, BASEMAP_LON = 32.8990, -97.0336\n",
        "# List of counties for the city the airport serves\n",
        "AIRPORT_CITY_COUNTIES = ['113', '439']\n",
        "# The state code for the airport\n",
        "AIRPORT_STATE_CODE = \"48\"\n",
        "# Radius that counts as 'near' the airport\n",
        "NEARBY_RADIUS = 20\n",
        "# Set the start and end dates for the analysis\n",
        "START_DATE, END_DATE = '1999-01-01', '2024-12-31'\n",
        "# Set the start and end years for the analysis\n",
        "START_YEAR, END_YEAR = 1999, 2024\n",
        "# Policy Year for the Hypothesis Test\n",
        "POLICY_YEAR = 2010"
      ]
    },
    {
      "cell_type": "code",
      "execution_count": null,
      "metadata": {
        "id": "AKT8uvZ1dG2k"
      },
      "outputs": [],
      "source": [
        "def pd_read_csv_cached(*args, **kwargs):\n",
        "    os.makedirs(\"./cached_data\", exist_ok=True)\n",
        "\n",
        "    file_name = args[0]\n",
        "    safe_file_name = base64.urlsafe_b64encode(file_name.encode('utf-8')).decode('utf-8')\n",
        "    cached_file_path = f\"./cached_data/{safe_file_name}\"\n",
        "\n",
        "    if os.path.exists(cached_file_path):\n",
        "        return pd.read_pickle(cached_file_path)\n",
        "    else:\n",
        "        df = pd.read_csv(*args, **kwargs)\n",
        "        df.to_pickle(cached_file_path)\n",
        "        return df"
      ]
    },
    {
      "cell_type": "markdown",
      "metadata": {
        "id": "6MJ9DQ9odG2k"
      },
      "source": [
        "# Add functions for Analysis"
      ]
    },
    {
      "cell_type": "code",
      "execution_count": null,
      "metadata": {
        "id": "GyoHeJGqdG2l"
      },
      "outputs": [],
      "source": [
        "def get_pollutant_data(parameter_code, nearby_site_ids_list, all_site_ids_list):\n",
        "    years = range(START_YEAR, END_YEAR + 1)\n",
        "    urls = [f\"https://aqs.epa.gov/aqsweb/airdata/daily_{parameter_code}_{year}.zip\" for year in years]\n",
        "\n",
        "    # our targeted sites = nearby + all\n",
        "    target_sites = nearby_site_ids_list + all_site_ids_list\n",
        "\n",
        "    all_data = []\n",
        "    for url in urls:\n",
        "        df = pd_read_csv_cached(url, compression='zip', low_memory=False)\n",
        "        # Formatting\n",
        "        df['State Code'] = df['State Code'].astype(str).str.zfill(2)\n",
        "        df['County Code'] = df['County Code'].astype(str).str.zfill(3)\n",
        "        df['Site Num'] = df['Site Num'].astype(str).str.zfill(4)\n",
        "        df['Site Id'] = df['State Code'] + '-' + df['County Code'] + '-' + df['Site Num']\n",
        "        df['Date Local'] = pd.to_datetime(df['Date Local'], errors='coerce')\n",
        "\n",
        "        # Filter to only get the targeted sites\n",
        "        df_target = df[df['Site Id'].isin(target_sites)]\n",
        "        all_data.append(df_target)\n",
        "\n",
        "    print(\"Len of all data: \", len(all_data))\n",
        "\n",
        "    # Merge each year's data\n",
        "    all_data = pd.concat(all_data, ignore_index=True)\n",
        "\n",
        "    # Extract the two sites' data respectively\n",
        "    df_nearby = all_data[all_data['Site Id'].isin(nearby_site_ids_list)].copy()\n",
        "    df_all = all_data[all_data['Site Id'].isin(all_site_ids_list)].copy()\n",
        "\n",
        "    print(\"Len of nearby data: \", len(df_nearby))\n",
        "    print(\"Len of all data: \", len(df_all))\n",
        "\n",
        "    # Extract daily data：in column 'Arithmetic Mean'\n",
        "\n",
        "    df_nearby_daily = df_nearby.groupby('Date Local')['Arithmetic Mean'].mean().reset_index(name='pollutant_mean_nearby')\n",
        "    df_all_daily = df_all.groupby('Date Local')['Arithmetic Mean'].mean().reset_index(name='pollutant_mean_all')\n",
        "    df_plot_daily = pd.merge(df_nearby_daily, df_all_daily, on='Date Local', how='inner')\n",
        "\n",
        "    print(\"Len of nearby daily data: \", len(df_nearby_daily))\n",
        "    print(\"Len of all daily data: \", len(df_all_daily))\n",
        "    print(\"Len of plot daily data: \", len(df_plot_daily))\n",
        "\n",
        "    # Add a 'Year' column to daily data\n",
        "    all_data['Year'] = all_data['Date Local'].dt.year\n",
        "\n",
        "    # Group data by 'Site Id' and 'Year', calculate annual average CO\n",
        "    df_siteyear = (\n",
        "        all_data\n",
        "        .groupby(['Site Id', 'Year'], as_index=False)['Arithmetic Mean']\n",
        "        .mean()\n",
        "        .rename(columns={'Arithmetic Mean': 'annual_pollutant'})\n",
        "    )\n",
        "\n",
        "    return df_nearby_daily, df_all_daily, df_plot_daily, df_nearby, df_all, df_siteyear\n"
      ]
    },
    {
      "cell_type": "code",
      "source": [
        "def test_homoscedasticity_independence(X, y, alpha=0.05):\n",
        "    \"\"\"\n",
        "    Tests for Homoscedasticity and Independence of residuals\n",
        "    using Breusch-Pagan and Durbin-Watson, respectively.\n",
        "\n",
        "    Parameters\n",
        "    ----------\n",
        "    X : array-like or pd.Series\n",
        "        The predictor(s).\n",
        "    y : array-like or pd.Series\n",
        "        The response (dependent variable).\n",
        "    alpha : float, default=0.05\n",
        "        Significance level for hypothesis tests.\n",
        "\n",
        "    Returns\n",
        "    -------\n",
        "    results_dict : dict\n",
        "        Dictionary containing the test statistics and p-values for\n",
        "        the Breusch-Pagan (homoscedasticity) and Durbin-Watson (independence).\n",
        "    \"\"\"\n",
        "\n",
        "    # Prepare design matrix\n",
        "    if isinstance(X, pd.Series) or len(X.shape) == 1:\n",
        "        # If X is a 1D series or array, reshape to 2D and add constant\n",
        "        X = sm.add_constant(X)\n",
        "    else:\n",
        "        # If X is already 2D, just add constant\n",
        "        X = sm.add_constant(X, has_constant='add')\n",
        "\n",
        "    # Fit OLS model to get residuals\n",
        "    model = sm.OLS(y, X).fit()\n",
        "    residuals = model.resid\n",
        "\n",
        "    # Breusch-Pagan test for Homoscedasticity\n",
        "    #    H0: residuals are homoscedastic\n",
        "    #    If p-value < alpha --> reject H0 --> likely heteroscedastic\n",
        "    bp_stat, bp_pvalue, bp_fvalue, bp_f_pvalue = het_breuschpagan(residuals, model.model.exog)\n",
        "\n",
        "    # Durbin-Watson test for Independence of errors\n",
        "    #    Values around 2 --> no autocorrelation\n",
        "    #    Values significantly < 2 --> positive autocorrelation\n",
        "    #    Values significantly > 2 --> negative autocorrelation\n",
        "    dw_stat = durbin_watson(residuals)\n",
        "\n",
        "    # Summarize & Print\n",
        "    print(\"=== Homoscedasticity Test (Breusch-Pagan) ===\")\n",
        "    print(f\"  Lagrange multiplier statistic = {bp_stat:.4f}\")\n",
        "    print(f\"  p-value                        = {bp_pvalue:.4g}\")\n",
        "    print(\"  => \" + (\"Likely Heteroscedastic\" if bp_pvalue < alpha else \"No evidence of Heteroscedasticity\"))\n",
        "\n",
        "    print(\"\\n=== Independence of Errors (Durbin-Watson) ===\")\n",
        "    print(f\"  Durbin-Watson Statistic = {dw_stat:.4f}\")\n",
        "    if dw_stat < 1.5:\n",
        "        interpretation = \"Possible positive autocorrelation\"\n",
        "    elif dw_stat > 2.5:\n",
        "        interpretation = \"Possible negative autocorrelation\"\n",
        "    else:\n",
        "        interpretation = \"No significant autocorrelation detected\"\n",
        "    print(\"  => \" + interpretation)\n",
        "\n",
        "    # Return a dictionary\n",
        "    results_dict = {\n",
        "        'breusch_pagan_stat': bp_stat,\n",
        "        'breusch_pagan_pvalue': bp_pvalue,\n",
        "        'durbin_watson_stat': dw_stat\n",
        "    }\n",
        "    return results_dict\n"
      ],
      "metadata": {
        "id": "6aULWnoKucSV"
      },
      "execution_count": null,
      "outputs": []
    },
    {
      "cell_type": "code",
      "execution_count": null,
      "metadata": {
        "id": "iG1Y57zddG2l"
      },
      "outputs": [],
      "source": [
        "def show_daily_line_chart(df_plot_daily, pollutant_name, pollutant_unit):\n",
        "    # Filter the dataframe df_plot_daily for the specified date range\n",
        "    df_daily_filtered = df_plot_daily[\n",
        "        (df_plot_daily['Date Local'] >= START_DATE) &\n",
        "        (df_plot_daily['Date Local'] <= END_DATE)\n",
        "    ].copy()\n",
        "\n",
        "\n",
        "    # Create a numeric_date column for regression analysis\n",
        "    df_daily_filtered['numeric_date'] = df_daily_filtered['Date Local'].map(pd.Timestamp.toordinal)\n",
        "\n",
        "    # Create X and Y, and perform the homoscedasticity & independence test\n",
        "    X = df_daily_filtered['numeric_date']              # Predictor\n",
        "    y = df_daily_filtered['pollutant_mean_all']           # Response\n",
        "    results = test_homoscedasticity_independence(X, y)\n",
        "    print(results)\n",
        "\n",
        "    # Perform linear regression for Nearby Sites\n",
        "    slope_near, intercept_near, r_value_near, p_value_near, std_err_near = linregress(\n",
        "        df_daily_filtered['numeric_date'],\n",
        "        df_daily_filtered['pollutant_mean_nearby']\n",
        "    )\n",
        "\n",
        "    # Perform linear regression for Other Sites\n",
        "    slope_all, intercept_all, r_value_all, p_value_all, std_err_all = linregress(\n",
        "        df_daily_filtered['numeric_date'],\n",
        "        df_daily_filtered['pollutant_mean_all']\n",
        "    )\n",
        "\n",
        "    # Print regression results\n",
        "    print(\"==== [DAILY] Regression Analysis (Filtered) ====\")\n",
        "    print(\"[Nearby Sites]:\")\n",
        "    print(f\"  Slope = {slope_near:.6f}, Intercept = {intercept_near:.6f}\")\n",
        "    print(f\"  R-value = {r_value_near:.4f},  P-value = {p_value_near:.4g},  StdErr = {std_err_near:.6f}\\n\")\n",
        "\n",
        "    print(\"[Other Sites]:\")\n",
        "    print(f\"  Slope = {slope_all:.6f}, Intercept = {intercept_all:.6f}\")\n",
        "    print(f\"  R-value = {r_value_all:.4f},  P-value = {p_value_all:.4g},  StdErr = {std_err_all:.6f}\\n\")\n",
        "\n",
        "    # Visualization Section\n",
        "    plt.figure(figsize=(10,6))\n",
        "\n",
        "    # 1) Line chart for the filtered date range\n",
        "    sns.lineplot(\n",
        "        x='Date Local',\n",
        "        y='pollutant_mean_nearby',\n",
        "        data=df_daily_filtered,\n",
        "        label=f'Nearby Sites Daily {pollutant_name} Mean'\n",
        "    )\n",
        "    sns.lineplot(\n",
        "        x='Date Local',\n",
        "        y='pollutant_mean_all',\n",
        "        data=df_daily_filtered,\n",
        "        label=f'Other Sites Daily {pollutant_name} Mean'\n",
        "    )\n",
        "\n",
        "    # 2) Add regression lines (calculate y_pred)\n",
        "    x_vals = df_daily_filtered['numeric_date']\n",
        "    y_pred_near = slope_near*x_vals + intercept_near\n",
        "    y_pred_all  = slope_all*x_vals + intercept_all\n",
        "\n",
        "    # Use the same Date Local as the x-axis\n",
        "    dates_for_plot = df_daily_filtered['Date Local']\n",
        "\n",
        "    plt.plot(\n",
        "        dates_for_plot,\n",
        "        y_pred_near,\n",
        "        color='red',\n",
        "        linestyle='--',\n",
        "        label='Regression (Nearby)'\n",
        "    )\n",
        "    plt.plot(\n",
        "        dates_for_plot,\n",
        "        y_pred_all,\n",
        "        color='blue',\n",
        "        linestyle='--',\n",
        "        label='Regression (Other)'\n",
        "    )\n",
        "\n",
        "    plt.title(f'Daily {pollutant_name} Concentration with Regression')\n",
        "    plt.xlabel('Date')\n",
        "    plt.ylabel(f'Daily Average {pollutant_name} ({pollutant_unit})')\n",
        "    plt.legend()\n",
        "    plt.tight_layout()\n",
        "    plt.show()"
      ]
    },
    {
      "cell_type": "code",
      "execution_count": null,
      "metadata": {
        "id": "ey-ODd5SdG2l"
      },
      "outputs": [],
      "source": [
        "def show_annual_line_chart(df_nearby_daily, df_all_daily, pollutant_name, pollutant_unit):\n",
        "    # Add a 'year' column to the daily data, extracting the year from the 'Date Local' column\n",
        "    df_nearby_daily['year'] = df_nearby_daily['Date Local'].dt.year\n",
        "    df_all_daily['year'] = df_all_daily['Date Local'].dt.year\n",
        "\n",
        "    # Group by 'year' and calculate the mean for each year\n",
        "    df_nearby_annual = df_nearby_daily.groupby('year')['pollutant_mean_nearby'].mean().reset_index()\n",
        "    df_all_annual = df_all_daily.groupby('year')['pollutant_mean_all'].mean().reset_index()\n",
        "\n",
        "\n",
        "    print(\"Annual mean for nearby sites:\\n\", df_nearby_annual)\n",
        "\n",
        "    print(f\"\\nAnnual mean for other sites in {CITY_NAME}\\n\", df_all_annual)\n",
        "\n",
        "    # Maybe looks a little bit messy but gives all the raw annual mean data\n",
        "\n",
        "    # Merge the two datasets on the 'year' column to facilitate plotting\n",
        "    df_plot_annual = pd.merge(df_nearby_annual, df_all_annual, on='year', how='inner')\n",
        "\n",
        "\n",
        "    # Filter the dataframe df_plot_annual for the specified year range\n",
        "    df_annual_filtered = df_plot_annual[\n",
        "        (df_plot_annual['year'] >= START_YEAR) &\n",
        "        (df_plot_annual['year'] <= END_YEAR)\n",
        "    ].copy()\n",
        "\n",
        "    # Extract the filtered years\n",
        "    x_year = df_annual_filtered['year']\n",
        "\n",
        "    # Perform linear regression for Nearby Sites\n",
        "    slope_near_annual, intercept_near_annual, r_value_near_annual, p_value_near_annual, std_err_near_annual = linregress(\n",
        "        x_year,\n",
        "        df_annual_filtered['pollutant_mean_nearby']\n",
        "    )\n",
        "\n",
        "    # Perform linear regression for Other Sites\n",
        "    slope_all_annual, intercept_all_annual, r_value_all_annual, p_value_all_annual, std_err_all_annual = linregress(\n",
        "        x_year,\n",
        "        df_annual_filtered['pollutant_mean_all']\n",
        "    )\n",
        "\n",
        "    # Print regression results\n",
        "    print(\"==== [ANNUAL] Regression Analysis (Filtered) ====\")\n",
        "    print(\"[Nearby Sites]:\")\n",
        "    print(f\"  Slope = {slope_near_annual:.6f}, Intercept = {intercept_near_annual:.6f}\")\n",
        "    print(f\"  R-value = {r_value_near_annual:.4f},  P-value = {p_value_near_annual:.4g},  StdErr = {std_err_near_annual:.6f}\\n\")\n",
        "\n",
        "    print(\"[Other Sites]:\")\n",
        "    print(f\"  Slope = {slope_all_annual:.6f}, Intercept = {intercept_all_annual:.6f}\")\n",
        "    print(f\"  R-value = {r_value_all_annual:.4f},  P-value = {p_value_all_annual:.4g},  StdErr = {std_err_all_annual:.6f}\\n\")\n",
        "\n",
        "    # Visualization Section\n",
        "    plt.figure(figsize=(10,5))\n",
        "\n",
        "    # Line chart for annual pollutant values (filtered by the specified year range)\n",
        "    sns.lineplot(\n",
        "        x='year',\n",
        "        y='pollutant_mean_nearby',\n",
        "        data=df_annual_filtered,\n",
        "        marker='o',\n",
        "        label=f'Nearby Sites Annual {pollutant_name} Mean'\n",
        "    )\n",
        "    sns.lineplot(\n",
        "        x='year',\n",
        "        y='pollutant_mean_all',\n",
        "        data=df_annual_filtered,\n",
        "        marker='o',\n",
        "        label=f'Other Sites Annual {pollutant_name} Mean'\n",
        "    )\n",
        "\n",
        "    # Add regression lines\n",
        "    y_pred_near_annual = slope_near_annual * x_year + intercept_near_annual\n",
        "    y_pred_all_annual  = slope_all_annual  * x_year + intercept_all_annual\n",
        "\n",
        "    plt.plot(\n",
        "        x_year,\n",
        "        y_pred_near_annual,\n",
        "        color='red',\n",
        "        linestyle='--',\n",
        "        label='Regression (Nearby)'\n",
        "    )\n",
        "    plt.plot(\n",
        "        x_year,\n",
        "        y_pred_all_annual,\n",
        "        color='blue',\n",
        "        linestyle='--',\n",
        "        label='Regression (Other)'\n",
        "    )\n",
        "\n",
        "    plt.title(f'Annual {pollutant_name} Concentration with Regression')\n",
        "    plt.xlabel('Year')\n",
        "    plt.ylabel(f'Annual Average {pollutant_name} ({pollutant_unit})')\n",
        "    plt.legend()\n",
        "    plt.tight_layout()\n",
        "    plt.show()\n"
      ]
    },
    {
      "cell_type": "code",
      "execution_count": null,
      "metadata": {
        "id": "tm9KLNAVdG2m"
      },
      "outputs": [],
      "source": [
        "def show_other_visualisations(df_nearby, df_all, pollutant_name, pollutant_unit):\n",
        "    # Calculate annual mean CO for nearby sites\n",
        "    df_nearby_annual = df_nearby.copy()\n",
        "    df_nearby_annual['Year'] = df_nearby_annual['Date Local'].dt.year\n",
        "    df_nearby_annual = (\n",
        "        df_nearby_annual.groupby('Year', as_index=False)['Arithmetic Mean']\n",
        "        .mean()\n",
        "        .rename(columns={'Arithmetic Mean': 'pollutant_annual_mean_nearby'})\n",
        "    )\n",
        "\n",
        "    # Calculate annual mean CO for all sites\n",
        "    df_all_annual = df_all.copy()\n",
        "    df_all_annual['Year'] = df_all_annual['Date Local'].dt.year\n",
        "    df_all_annual = (\n",
        "        df_all_annual.groupby('Year', as_index=False)['Arithmetic Mean']\n",
        "        .mean()\n",
        "        .rename(columns={'Arithmetic Mean': 'pollutant_annual_mean_all'})\n",
        "    )\n",
        "\n",
        "    df_nearby_annual = df_nearby_annual.loc[\n",
        "        (df_nearby_annual['Year'] >= START_YEAR) &\n",
        "        (df_nearby_annual['Year'] <= END_YEAR)\n",
        "    ]\n",
        "    df_all_annual = df_all_annual.loc[\n",
        "        (df_all_annual['Year'] >= START_YEAR) &\n",
        "        (df_all_annual['Year'] <= END_YEAR)\n",
        "    ]\n",
        "\n",
        "    # Prepare long-format data for visualization\n",
        "    df_nearby_long_annual = df_nearby_annual[['Year','pollutant_annual_mean_nearby']].rename(\n",
        "        columns={'pollutant_annual_mean_nearby':'pollutant_annual_mean'}\n",
        "    )\n",
        "    df_nearby_long_annual['Zone'] = 'Nearby'\n",
        "\n",
        "    df_all_long_annual = df_all_annual[['Year','pollutant_annual_mean_all']].rename(\n",
        "        columns={'pollutant_annual_mean_all':'pollutant_annual_mean'}\n",
        "    )\n",
        "    df_all_long_annual['Zone'] = 'Others'\n",
        "\n",
        "    # Combine nearby and all site data for visualization\n",
        "    df_annual_comparison = pd.concat([df_nearby_long_annual, df_all_long_annual], ignore_index=True)\n",
        "\n",
        "    # Create a box plot to compare annual mean pollutant distribution by zone\n",
        "    plt.figure(figsize=(8,6))\n",
        "    sns.boxplot(x='Zone', y='pollutant_annual_mean', data=df_annual_comparison)\n",
        "    plt.title(f'{pollutant_name} Distribution by Zone (Annual Mean)')\n",
        "    plt.ylabel(f'Annual Mean {pollutant_name} ({pollutant_unit})')\n",
        "    plt.show()\n",
        "\n",
        "    # Create a violin plot to compare annual mean pollutant distribution by zone\n",
        "    plt.figure(figsize=(8,6))\n",
        "    sns.violinplot(x='Zone', y='pollutant_annual_mean', data=df_annual_comparison)\n",
        "    plt.title(f'{pollutant_name} Distribution by Zone (Annual Mean) - Violin Plot')\n",
        "    plt.ylabel(f'Annual Mean {pollutant_name} ({pollutant_unit})')\n",
        "    plt.show()"
      ]
    },
    {
      "cell_type": "code",
      "execution_count": null,
      "metadata": {
        "id": "o1f4XIRvdG2m"
      },
      "outputs": [],
      "source": [
        "def spatial_analysis(df_siteyear, pollutant_name, pollutant_unit, site_locations):\n",
        "\n",
        "    # Merge with site coordinates\n",
        "    site_locations_reset = site_locations.reset_index()\n",
        "    df_siteyear_merged = pd.merge(\n",
        "        df_siteyear,\n",
        "        site_locations_reset[['Site Id', 'Latitude', 'Longitude']],\n",
        "        on='Site Id', how='inner'\n",
        "    )\n",
        "\n",
        "    # Clean data and define pollutant value range for color scaling\n",
        "    df_siteyear_merged.dropna(subset=['annual_pollutant', 'Latitude', 'Longitude'], inplace=True)\n",
        "    vmin, vmax = df_siteyear_merged['annual_pollutant'].min(), df_siteyear_merged['annual_pollutant'].max()\n",
        "\n",
        "    # Define custom color map (Green -> Yellow -> Red)\n",
        "    my_cmap = mcolors.LinearSegmentedColormap.from_list('colormap', ['green', 'yellow', 'red'])\n",
        "\n",
        "    # Function to plot map for a selected year\n",
        "    def plot_map_for_year(year):\n",
        "        \"\"\"Plot annual pollutant data for the given year.\"\"\"\n",
        "        df_year = df_siteyear_merged[df_siteyear_merged['Year'] == year]\n",
        "        plt.figure(figsize=(8, 8))\n",
        "\n",
        "        # Create Basemap focused on Atlanta\n",
        "        m = Basemap(projection='lcc', resolution='l', lat_0=BASEMAP_LAT, lon_0=BASEMAP_LON, width=4e5, height=4e5)\n",
        "        m.drawcoastlines(), m.drawcountries(), m.drawstates()\n",
        "\n",
        "        # Mark airport location with a star\n",
        "        x_airport, y_airport = m(AIRPORT_LON, AIRPORT_LAT)\n",
        "        m.plot(x_airport, y_airport, marker='*', color='black', markersize=14, label=f'{AIRPORT_CODE} Airport')\n",
        "\n",
        "        # Add a radius circle\n",
        "        m.tissot(AIRPORT_LON, AIRPORT_LAT, NEARBY_RADIUS / 111.0, 100, facecolor='none', edgecolor='red', linewidth=2, alpha=0.8)\n",
        "\n",
        "        # Plot pollutant levels for sites\n",
        "        x, y = m(df_year['Longitude'].values, df_year['Latitude'].values)\n",
        "        sc = m.scatter(x, y, c=df_year['annual_pollutant'], cmap=my_cmap, vmin=vmin, vmax=vmax, s=60, alpha=0.8, edgecolors='white', linewidths=0.5)\n",
        "\n",
        "        # Add colorbar and title\n",
        "        cbar = plt.colorbar(sc, orientation='vertical', shrink=0.7, pad=0.03)\n",
        "        cbar.set_label(f'Annual Average {pollutant_name} ({pollutant_unit})')\n",
        "        plt.title(f\"Annual {pollutant_name} in {CITY_NAME} Region - {year}\")\n",
        "        plt.legend(loc='lower left')\n",
        "        plt.show()\n",
        "\n",
        "    # Create interactive dropdown for year selection\n",
        "    all_years = sorted(df_siteyear_merged['Year'].unique())\n",
        "    interact(\n",
        "        plot_map_for_year,\n",
        "        year=widgets.Dropdown(options=all_years, value=all_years[0], description='Select Year:')\n",
        "    )"
      ]
    },
    {
      "cell_type": "code",
      "execution_count": null,
      "metadata": {
        "id": "uKnDKbCPdG2m"
      },
      "outputs": [],
      "source": [
        "def correlation_proximity_analysis(df_siteyear, pollutant_name, pollutant_unit, distances):\n",
        "    \"\"\"\n",
        "\n",
        "    Analyze the relationship between distance and pollutant concentration at the site level.\n",
        "\n",
        "    Instruction:\n",
        "    you can first calculate the pollutant concentration for a specific year (or multi-year average),\n",
        "    and then perform a correlation analysis with the site distances.\n",
        "    \"\"\"\n",
        "    num_years = (END_YEAR - START_YEAR)\n",
        "\n",
        "    # (1) Calculate the average pollutant for each site for the date range.\n",
        "    #   You can adjust this to other time periods or focus only on one specific year.\n",
        "    df_yr = df_siteyear[(df_siteyear['Year'] >= START_YEAR) & (df_siteyear['Year'] <= END_YEAR)]\n",
        "    df_yr_avg = df_yr.groupby('Site Id', as_index=False)['annual_pollutant'].mean().rename(columns={'annual_pollutant': 'pollutant_yr_mean'})\n",
        "\n",
        "    # (2) Merge with distance information\n",
        "    dist_df = pd.DataFrame(list(distances.items()), columns=['Site Id', 'distance_km'])\n",
        "    df_yr_merged = pd.merge(df_yr_avg, dist_df, on='Site Id', how='inner')\n",
        "\n",
        "    # (3) Perform correlation analysis\n",
        "    pearson_corr, pearson_pval = pearsonr(df_yr_merged['distance_km'], df_yr_merged['pollutant_yr_mean'])\n",
        "    spearman_corr, spearman_pval = spearmanr(df_yr_merged['distance_km'], df_yr_merged['pollutant_yr_mean'])\n",
        "\n",
        "    print(f\"Pearson correlation coefficient between {num_years}-year average {pollutant_name} and distance ({START_YEAR}-{END_YEAR}): {pearson_corr:.4f}, p-value: {pearson_pval:.4g}\")\n",
        "    print(f\"Spearman correlation coefficient between {num_years}-year average {pollutant_name} and distance ({START_YEAR}-{END_YEAR}): {spearman_corr:.4f}, p-value: {spearman_pval:.4g}\")\n",
        "\n",
        "    # Visualize scatter plot\n",
        "    plt.figure(figsize=(6,4))\n",
        "    sns.scatterplot(x='distance_km', y='pollutant_yr_mean', data=df_yr_merged, alpha=0.7)\n",
        "    plt.xlabel('Distance from Airport (km)')\n",
        "    plt.ylabel(f'Average {pollutant_name} ({pollutant_unit})')\n",
        "    plt.title(f'{pollutant_name} concentration vs. Distance ({START_YEAR}-{END_YEAR})')\n",
        "    plt.show()"
      ]
    },
    {
      "cell_type": "code",
      "execution_count": null,
      "metadata": {
        "id": "hRlO1A-0dG2m"
      },
      "outputs": [],
      "source": [
        "def get_hypothesis_testing_data(df_plot_daily):\n",
        "    # Filter the data for the study period\n",
        "    df_plot_daily['Year'] = df_plot_daily['Date Local'].dt.year\n",
        "    df_plot_daily_2 = df_plot_daily[\n",
        "        (df_plot_daily['Year'] >= START_YEAR) &\n",
        "        (df_plot_daily['Year'] <= END_YEAR)\n",
        "    ].dropna(subset=['pollutant_mean_nearby', 'pollutant_mean_all']).copy()\n",
        "\n",
        "    print(f\"After filtering {START_YEAR} to {END_YEAR}, total records: {len(df_plot_daily_2)}\")\n",
        "    return df_plot_daily_2"
      ]
    },
    {
      "cell_type": "code",
      "execution_count": null,
      "metadata": {
        "id": "Ujbkn1NIdG2n"
      },
      "outputs": [],
      "source": [
        "def test_proximity_hypothesis(df_plot_daily_hypothesis_testing, pollutant_name):\n",
        "    # Hypothesis 1: Near vs. Far (Paired t-test)\n",
        "    \"\"\"\n",
        "    H0: The mean daily pollutant concentration is the same for nearby and far sites.\n",
        "    H1: The mean daily pollutant concentration is different for the two groups.\n",
        "    (Using paired t-test, because each Date corresponds to a paired measurement:\n",
        "    one from near sites, one from far sites, on the same day.)\n",
        "    \"\"\"\n",
        "\n",
        "    print(f\"[Hypothesis 1] Paired t-test: near vs. far, daily {pollutant_name} from {START_YEAR} to {END_YEAR}\")\n",
        "\n",
        "    if len(df_plot_daily_hypothesis_testing) < 2: # Check if we have enough data available\n",
        "        print(\"Not enough daily paired records to perform t-test.\")\n",
        "    else:\n",
        "        # Prepare a DataFrame to display the pollutant values for nearby and far sites\n",
        "\n",
        "        # print(\"Comparison of pollutant values:\\n\") (uncomment if you want to see the comparison)\n",
        "        comparison_df = pd.DataFrame({\n",
        "            'Date': df_plot_daily_hypothesis_testing['Date Local'],\n",
        "            f'Nearby {pollutant_name}': df_plot_daily_hypothesis_testing['pollutant_mean_nearby'],\n",
        "            f'Far {pollutant_name}': df_plot_daily_hypothesis_testing['pollutant_mean_all']\n",
        "        })\n",
        "        # print(comparison_df.to_string(index=False))\n",
        "        # uncomment if you want to see all the daily data comparison\n",
        "\n",
        "\n",
        "        # Perform the paired t-test on the CO values\n",
        "        t_stat, p_val = ttest_rel(\n",
        "            df_plot_daily_hypothesis_testing['pollutant_mean_nearby'],\n",
        "            df_plot_daily_hypothesis_testing['pollutant_mean_all']\n",
        "        )\n",
        "        print(f\"\\nT-statistic = {t_stat:.4f}, p-value = {p_val:.4g}\")\n",
        "        if p_val < 0.05: # Significant difference found, identify which group has higher mean pollutant level\n",
        "            print(f\"=> Reject H0: There is a significant difference between {pollutant_name} concentration near and far from the airport.\")\n",
        "            if df_plot_daily_hypothesis_testing['pollutant_mean_nearby'].mean() > df_plot_daily_hypothesis_testing['pollutant_mean_all'].mean():\n",
        "                print(f\"=> Nearby sites have higher daily {pollutant_name} on average.\")\n",
        "            else:\n",
        "                print(f\"=> Far sites have higher daily {pollutant_name} on average.\")\n",
        "        else:\n",
        "            print(f\"=> Fail to reject H0: No significant difference was found.\")\n",
        "\n"
      ]
    },
    {
      "cell_type": "code",
      "execution_count": null,
      "metadata": {
        "id": "mHFTJRm5dG2n"
      },
      "outputs": [],
      "source": [
        "def test_policy_hypothesis(df_plot_daily_hypothesis_testing, pollutant_name, policy_year):\n",
        "    \"\"\"\n",
        "    Assume that Year=2010 is the dividing line for policy implementation.\n",
        "    Here, 'pollutant_mean_nearby' is used as an example with an independent samples t-test (Welch’s t-test),\n",
        "    because 'a certain day in 2009' and 'a certain day in 2010' are not paired observations; they are two independent groups.\n",
        "\n",
        "    H0: The mean daily pollutant (nearby) is the same before and after the policy.\n",
        "    H1: The mean daily pollutant (nearby) is different before and after the policy.\n",
        "    \"\"\"\n",
        "\n",
        "    print(f\"[Hypothesis 2] Policy effectiveness: before vs. after {policy_year} (nearby sites)\")\n",
        "\n",
        "    # Split the data into two groups: before and after the policy implementation year\n",
        "    before_policy = df_plot_daily_hypothesis_testing.loc[df_plot_daily_hypothesis_testing['Year'] < policy_year, 'pollutant_mean_nearby']\n",
        "    after_policy  = df_plot_daily_hypothesis_testing.loc[df_plot_daily_hypothesis_testing['Year'] >= policy_year, 'pollutant_mean_nearby']\n",
        "\n",
        "    # Perform Welch's t-test to compare the two groups\n",
        "    t_stat2, p_val2 = ttest_ind(before_policy, after_policy, equal_var=False)  # Welch’s t-test\n",
        "\n",
        "    # Output the test results\n",
        "    print(f\"T-statistic = {t_stat2:.4f}, p-value = {p_val2:.4g}\")\n",
        "    if p_val2 < 0.05:\n",
        "        # Significant difference found\n",
        "        print(f\"=> Reject H0: There is a significant difference in near-site {pollutant_name} before vs. after {policy_year}.\")\n",
        "        if after_policy.mean() < before_policy.mean(): # Evaluate policy effectiveness\n",
        "            print(\"=> Policy to reduce emissions is effective: emissions significantly decreased after implementation.\")\n",
        "        else:\n",
        "            print(\"=> Policy had an adverse effect: emissions significantly increased after implementation.\")\n",
        "    else:\n",
        "        # No significant difference found\n",
        "        print(\"=> Fail to reject H0: No significant difference was found.\")"
      ]
    },
    {
      "cell_type": "markdown",
      "metadata": {
        "id": "lQiWRrV1rX-p"
      },
      "source": [
        "# Read and merge monitoring station information and filter sites by distance"
      ]
    },
    {
      "cell_type": "code",
      "execution_count": null,
      "metadata": {
        "colab": {
          "base_uri": "https://localhost:8080/"
        },
        "id": "LzN_ksZhdG2n",
        "outputId": "5e0cce55-e5ae-4f5a-d275-8d2d4d5b0c86"
      },
      "outputs": [
        {
          "output_type": "stream",
          "name": "stdout",
          "text": [
            "Monitors within 20 km of Dallas Fort Worth International Airport:\n",
            "{'48-113-0044', '48-113-0048', '48-439-0004', '48-439-3009', '48-439-3001', '48-439-0029', '48-113-2002', '48-113-3002', '48-113-0061', '48-113-3001', '48-113-0067', '48-439-1001', '48-113-0070', '48-113-0039', '48-113-0069', '48-439-3007'}\n",
            "                                         First Year of Data Last Sample Date\n",
            "Parameter Code Parameter Name                                               \n",
            "42101          Carbon monoxide                       1979.0       2024-06-30\n",
            "42401          Sulfur dioxide                        1972.0       2024-06-30\n",
            "42602          Nitrogen dioxide (NO2)                1972.0       2024-06-30\n",
            "44201          Ozone                                 1973.0       2024-06-30\n",
            "81102          PM10 Total 0-10um STP                 1988.0       2024-06-30\n",
            "88101          PM2.5 - Local Conditions              1999.0       2024-06-30\n",
            "\n",
            "Other monitors within the specified counties and time range:\n",
            "{'48-113-0050', '48-439-3006', '48-439-3010', '48-113-0002', '48-113-0035', '48-113-3004', '48-113-0053', '48-439-0005', '48-113-0086', '48-113-0023', '48-113-0045', '48-439-0057', '48-113-0072', '48-113-0049', '48-113-0055', '48-439-1053', '48-113-0057', '48-113-0018', '48-113-1096', '48-113-0047', '48-439-0006', '48-439-0021', '48-439-0023', '48-113-0052', '48-439-1003', '48-439-2002', '48-113-1067', '48-113-1002', '48-113-0003', '48-439-0075', '48-113-3003', '48-113-0020', '48-439-2001', '48-439-3011', '48-113-0080', '48-439-1006', '48-439-1002', '48-439-2003', '48-113-1001', '48-439-0022', '48-113-0087', '48-439-0060', '48-113-0075', '48-439-0063', '48-113-1047', '48-439-0070'}\n",
            "                                         First Year of Data Last Sample Date\n",
            "Parameter Code Parameter Name                                               \n",
            "42101          Carbon monoxide                       1971.0       2024-06-30\n",
            "42401          Sulfur dioxide                        1968.0       1996-12-31\n",
            "42602          Nitrogen dioxide (NO2)                1973.0       2024-06-30\n",
            "44201          Ozone                                 1973.0       2024-06-30\n",
            "81102          PM10 Total 0-10um STP                 1985.0       2024-06-29\n",
            "88101          PM2.5 - Local Conditions              1999.0       2024-06-30\n"
          ]
        },
        {
          "output_type": "stream",
          "name": "stderr",
          "text": [
            "<ipython-input-33-e11c1ea89b16>:15: SettingWithCopyWarning: \n",
            "A value is trying to be set on a copy of a slice from a DataFrame.\n",
            "Try using .loc[row_indexer,col_indexer] = value instead\n",
            "\n",
            "See the caveats in the documentation: https://pandas.pydata.org/pandas-docs/stable/user_guide/indexing.html#returning-a-view-versus-a-copy\n",
            "  monitors['First Year of Data'] = pd.to_numeric(monitors['First Year of Data'], errors='coerce')\n",
            "<ipython-input-33-e11c1ea89b16>:16: SettingWithCopyWarning: \n",
            "A value is trying to be set on a copy of a slice from a DataFrame.\n",
            "Try using .loc[row_indexer,col_indexer] = value instead\n",
            "\n",
            "See the caveats in the documentation: https://pandas.pydata.org/pandas-docs/stable/user_guide/indexing.html#returning-a-view-versus-a-copy\n",
            "  monitors['Last Sample Date'] = pd.to_datetime(monitors['Last Sample Date'], errors='coerce')\n",
            "<ipython-input-33-e11c1ea89b16>:19: SettingWithCopyWarning: \n",
            "A value is trying to be set on a copy of a slice from a DataFrame.\n",
            "Try using .loc[row_indexer,col_indexer] = value instead\n",
            "\n",
            "See the caveats in the documentation: https://pandas.pydata.org/pandas-docs/stable/user_guide/indexing.html#returning-a-view-versus-a-copy\n",
            "  monitors['Last Year'] = monitors['Last Sample Date'].dt.year\n",
            "<ipython-input-33-e11c1ea89b16>:20: SettingWithCopyWarning: \n",
            "A value is trying to be set on a copy of a slice from a DataFrame.\n",
            "Try using .loc[row_indexer,col_indexer] = value instead\n",
            "\n",
            "See the caveats in the documentation: https://pandas.pydata.org/pandas-docs/stable/user_guide/indexing.html#returning-a-view-versus-a-copy\n",
            "  monitors['Fist Year'] = monitors['First Year of Data']\n"
          ]
        }
      ],
      "source": [
        "monitors = pd_read_csv_cached('https://aqs.epa.gov/aqsweb/airdata/aqs_monitors.zip', converters={'State Code': str, 'County Code': str, 'Site Number': str})\n",
        "monitors['Site Id'] = monitors['State Code'] + '-' + monitors['County Code'] + '-' + monitors['Site Number']\n",
        "# Creates a unique ID for each site\n",
        "monitors = monitors[monitors['Parameter Code'].isin([81102, 88101, 44201, 42401, 42101, 42602])]\n",
        "\"\"\"\n",
        "Extracting monitors that contain our desired pollutants (PM10, PM2.5, Ozone, SO2, NO₂, CO)\n",
        "Ozone (O₃ - ppm): 44201\n",
        "PM2.5 (µg/m3): 88101\n",
        "PM10 (µg/m3): 81102\n",
        "CO (ppm): 42101\n",
        "SO₂ (ppb): 42401\n",
        "NO₂ (ppb): 42602\n",
        "\"\"\"\n",
        "\n",
        "monitors['First Year of Data'] = pd.to_numeric(monitors['First Year of Data'], errors='coerce')\n",
        "monitors['Last Sample Date'] = pd.to_datetime(monitors['Last Sample Date'], errors='coerce')\n",
        "\n",
        "# Extract the 'year' part of the Last Sample Date column\n",
        "monitors['Last Year'] = monitors['Last Sample Date'].dt.year\n",
        "monitors['Fist Year'] = monitors['First Year of Data']\n",
        "\n",
        "# Filter the monitors, only leave those with 6 pollutants data available from 1999 to 2024.\n",
        "monitors = monitors[(monitors['State Code'] == AIRPORT_STATE_CODE) & (monitors['County Code'].isin(AIRPORT_CITY_COUNTIES))]\n",
        "\n",
        "site_locations = monitors[['Site Id', 'Latitude', 'Longitude']]\n",
        "# Filter the dataframe by Site ID and co-ordinates\n",
        "site_locations = site_locations.drop_duplicates()\n",
        "site_locations = site_locations.dropna()\n",
        "# Creates unique rows for each site and removes any sites that do not contain Latitudes and Longitudes\n",
        "site_locations = site_locations.set_index('Site Id')\n",
        "\n",
        "def get_site_distances_km(site_locations, lat, lng):\n",
        "    site_distances = {}\n",
        "    for site_id, site_row in site_locations.iterrows():\n",
        "        site_distances[site_id] = haversine.haversine((lat, lng), (site_row['Latitude'], site_row['Longitude']))\n",
        "    return site_distances\n",
        "# A function that finds the distance between inputted co-ordinates and each site. This returns a dictionary of site number and distance.\n",
        "\n",
        "distances = get_site_distances_km(site_locations, AIRPORT_LAT, AIRPORT_LON)\n",
        "\n",
        "nearby_site_ids = [site_id for site_id, distance in distances.items() if distance < NEARBY_RADIUS]\n",
        "# This retrieves all of the site IDs within a specified radius from the airport.\n",
        "all_site_ids = set(site_locations.index.tolist()) - set(nearby_site_ids)\n",
        "# All eligible sites in airport area, excluding those within a specified radius.\n",
        "\n",
        "# Print the results\n",
        "print(f\"Monitors within {NEARBY_RADIUS} km of {AIRPORT_NAME}:\")\n",
        "print(set(nearby_site_ids))\n",
        "nearby_site_ids_list = list(nearby_site_ids)\n",
        "print(monitors[monitors['Site Id'].isin(nearby_site_ids)][['Site Id', 'Parameter Code', 'Parameter Name', 'First Year of Data', 'Last Sample Date']].dropna().groupby(['Parameter Code', 'Parameter Name']).agg({'First Year of Data': 'min', 'Last Sample Date': 'max'}))\n",
        "\n",
        "print(\"\\nOther monitors within the specified counties and time range:\")\n",
        "print(set(all_site_ids))\n",
        "all_site_ids_list = list(all_site_ids)\n",
        "print(monitors[monitors['Site Id'].isin(all_site_ids)][['Site Id', 'Parameter Code', 'Parameter Name', 'First Year of Data', 'Last Sample Date']].dropna().groupby(['Parameter Code', 'Parameter Name']).agg({'First Year of Data': 'min', 'Last Sample Date': 'max'}))\n"
      ]
    },
    {
      "cell_type": "markdown",
      "metadata": {
        "id": "mol5PBMwkgKI"
      },
      "source": [
        "# Plot Monitoring Sites on the map"
      ]
    },
    {
      "cell_type": "code",
      "execution_count": null,
      "metadata": {
        "colab": {
          "base_uri": "https://localhost:8080/",
          "height": 626
        },
        "id": "F46Wf9qtklAG",
        "outputId": "95fb84c2-14d6-4e1d-e7b5-cbd1fa1a47cf"
      },
      "outputs": [
        {
          "output_type": "execute_result",
          "data": {
            "text/plain": [
              "<folium.folium.Map at 0x791e91c56710>"
            ],
            "text/html": [
              "<div style=\"width:100%;\"><div style=\"position:relative;width:100%;height:0;padding-bottom:60%;\"><span style=\"color:#565656\">Make this Notebook Trusted to load map: File -> Trust Notebook</span><iframe srcdoc=\"&lt;!DOCTYPE html&gt;\n",
              "&lt;html&gt;\n",
              "&lt;head&gt;\n",
              "    \n",
              "    &lt;meta http-equiv=&quot;content-type&quot; content=&quot;text/html; charset=UTF-8&quot; /&gt;\n",
              "    \n",
              "        &lt;script&gt;\n",
              "            L_NO_TOUCH = false;\n",
              "            L_DISABLE_3D = false;\n",
              "        &lt;/script&gt;\n",
              "    \n",
              "    &lt;style&gt;html, body {width: 100%;height: 100%;margin: 0;padding: 0;}&lt;/style&gt;\n",
              "    &lt;style&gt;#map {position:absolute;top:0;bottom:0;right:0;left:0;}&lt;/style&gt;\n",
              "    &lt;script src=&quot;https://cdn.jsdelivr.net/npm/leaflet@1.9.3/dist/leaflet.js&quot;&gt;&lt;/script&gt;\n",
              "    &lt;script src=&quot;https://code.jquery.com/jquery-3.7.1.min.js&quot;&gt;&lt;/script&gt;\n",
              "    &lt;script src=&quot;https://cdn.jsdelivr.net/npm/bootstrap@5.2.2/dist/js/bootstrap.bundle.min.js&quot;&gt;&lt;/script&gt;\n",
              "    &lt;script src=&quot;https://cdnjs.cloudflare.com/ajax/libs/Leaflet.awesome-markers/2.0.2/leaflet.awesome-markers.js&quot;&gt;&lt;/script&gt;\n",
              "    &lt;link rel=&quot;stylesheet&quot; href=&quot;https://cdn.jsdelivr.net/npm/leaflet@1.9.3/dist/leaflet.css&quot;/&gt;\n",
              "    &lt;link rel=&quot;stylesheet&quot; href=&quot;https://cdn.jsdelivr.net/npm/bootstrap@5.2.2/dist/css/bootstrap.min.css&quot;/&gt;\n",
              "    &lt;link rel=&quot;stylesheet&quot; href=&quot;https://netdna.bootstrapcdn.com/bootstrap/3.0.0/css/bootstrap-glyphicons.css&quot;/&gt;\n",
              "    &lt;link rel=&quot;stylesheet&quot; href=&quot;https://cdn.jsdelivr.net/npm/@fortawesome/fontawesome-free@6.2.0/css/all.min.css&quot;/&gt;\n",
              "    &lt;link rel=&quot;stylesheet&quot; href=&quot;https://cdnjs.cloudflare.com/ajax/libs/Leaflet.awesome-markers/2.0.2/leaflet.awesome-markers.css&quot;/&gt;\n",
              "    &lt;link rel=&quot;stylesheet&quot; href=&quot;https://cdn.jsdelivr.net/gh/python-visualization/folium/folium/templates/leaflet.awesome.rotate.min.css&quot;/&gt;\n",
              "    \n",
              "            &lt;meta name=&quot;viewport&quot; content=&quot;width=device-width,\n",
              "                initial-scale=1.0, maximum-scale=1.0, user-scalable=no&quot; /&gt;\n",
              "            &lt;style&gt;\n",
              "                #map_b3ef0a901766b62eefe44dd736611518 {\n",
              "                    position: relative;\n",
              "                    width: 100.0%;\n",
              "                    height: 100.0%;\n",
              "                    left: 0.0%;\n",
              "                    top: 0.0%;\n",
              "                }\n",
              "                .leaflet-container { font-size: 1rem; }\n",
              "            &lt;/style&gt;\n",
              "        \n",
              "&lt;/head&gt;\n",
              "&lt;body&gt;\n",
              "    \n",
              "    \n",
              "            &lt;div class=&quot;folium-map&quot; id=&quot;map_b3ef0a901766b62eefe44dd736611518&quot; &gt;&lt;/div&gt;\n",
              "        \n",
              "&lt;/body&gt;\n",
              "&lt;script&gt;\n",
              "    \n",
              "    \n",
              "            var map_b3ef0a901766b62eefe44dd736611518 = L.map(\n",
              "                &quot;map_b3ef0a901766b62eefe44dd736611518&quot;,\n",
              "                {\n",
              "                    center: [32.899, -97.0336],\n",
              "                    crs: L.CRS.EPSG3857,\n",
              "                    ...{\n",
              "  &quot;zoom&quot;: 10,\n",
              "  &quot;zoomControl&quot;: true,\n",
              "  &quot;preferCanvas&quot;: false,\n",
              "}\n",
              "\n",
              "                }\n",
              "            );\n",
              "\n",
              "            \n",
              "\n",
              "        \n",
              "    \n",
              "            var tile_layer_ca7a8ffad92101b3a6b15b4f871df7de = L.tileLayer(\n",
              "                &quot;https://tile.openstreetmap.org/{z}/{x}/{y}.png&quot;,\n",
              "                {\n",
              "  &quot;minZoom&quot;: 0,\n",
              "  &quot;maxZoom&quot;: 19,\n",
              "  &quot;maxNativeZoom&quot;: 19,\n",
              "  &quot;noWrap&quot;: false,\n",
              "  &quot;attribution&quot;: &quot;\\u0026copy; \\u003ca href=\\&quot;https://www.openstreetmap.org/copyright\\&quot;\\u003eOpenStreetMap\\u003c/a\\u003e contributors&quot;,\n",
              "  &quot;subdomains&quot;: &quot;abc&quot;,\n",
              "  &quot;detectRetina&quot;: false,\n",
              "  &quot;tms&quot;: false,\n",
              "  &quot;opacity&quot;: 1,\n",
              "}\n",
              "\n",
              "            );\n",
              "        \n",
              "    \n",
              "            tile_layer_ca7a8ffad92101b3a6b15b4f871df7de.addTo(map_b3ef0a901766b62eefe44dd736611518);\n",
              "        \n",
              "    \n",
              "            var circle_c7caba77f076e5cf1d77f9730478acf0 = L.circle(\n",
              "                [32.899, -97.0336],\n",
              "                {&quot;bubblingMouseEvents&quot;: true, &quot;color&quot;: &quot;red&quot;, &quot;dashArray&quot;: null, &quot;dashOffset&quot;: null, &quot;fill&quot;: false, &quot;fillColor&quot;: &quot;red&quot;, &quot;fillOpacity&quot;: 0.2, &quot;fillRule&quot;: &quot;evenodd&quot;, &quot;lineCap&quot;: &quot;round&quot;, &quot;lineJoin&quot;: &quot;round&quot;, &quot;opacity&quot;: 1.0, &quot;radius&quot;: 20000, &quot;stroke&quot;: true, &quot;weight&quot;: 3}\n",
              "            ).addTo(map_b3ef0a901766b62eefe44dd736611518);\n",
              "        \n",
              "    \n",
              "        var popup_c8c58d984c927fd49f3721cc3850ff9b = L.popup({\n",
              "  &quot;maxWidth&quot;: &quot;100%&quot;,\n",
              "});\n",
              "\n",
              "        \n",
              "            \n",
              "                var html_406df352e0c8999811048c27485aed82 = $(`&lt;div id=&quot;html_406df352e0c8999811048c27485aed82&quot; style=&quot;width: 100.0%; height: 100.0%;&quot;&gt;20 km Radius&lt;/div&gt;`)[0];\n",
              "                popup_c8c58d984c927fd49f3721cc3850ff9b.setContent(html_406df352e0c8999811048c27485aed82);\n",
              "            \n",
              "        \n",
              "\n",
              "        circle_c7caba77f076e5cf1d77f9730478acf0.bindPopup(popup_c8c58d984c927fd49f3721cc3850ff9b)\n",
              "        ;\n",
              "\n",
              "        \n",
              "    \n",
              "    \n",
              "            var marker_3f6ce8be1c1bea7e03bcfea15e2a1c2a = L.marker(\n",
              "                [32.872349, -96.887782],\n",
              "                {\n",
              "}\n",
              "            ).addTo(map_b3ef0a901766b62eefe44dd736611518);\n",
              "        \n",
              "    \n",
              "            var icon_44b30d0a40b0be17cf02573dc5c1e853 = L.AwesomeMarkers.icon(\n",
              "                {\n",
              "  &quot;markerColor&quot;: &quot;red&quot;,\n",
              "  &quot;iconColor&quot;: &quot;white&quot;,\n",
              "  &quot;icon&quot;: &quot;info-sign&quot;,\n",
              "  &quot;prefix&quot;: &quot;glyphicon&quot;,\n",
              "  &quot;extraClasses&quot;: &quot;fa-rotate-0&quot;,\n",
              "}\n",
              "            );\n",
              "            marker_3f6ce8be1c1bea7e03bcfea15e2a1c2a.setIcon(icon_44b30d0a40b0be17cf02573dc5c1e853);\n",
              "        \n",
              "    \n",
              "        var popup_892a99a812dd36e11f597125e138f137 = L.popup({\n",
              "  &quot;maxWidth&quot;: &quot;100%&quot;,\n",
              "});\n",
              "\n",
              "        \n",
              "            \n",
              "                var html_1e090172f7e36eb2b6c7f86b1fcdb7c6 = $(`&lt;div id=&quot;html_1e090172f7e36eb2b6c7f86b1fcdb7c6&quot; style=&quot;width: 100.0%; height: 100.0%;&quot;&gt;Nearby site: 48-113-0039&lt;/div&gt;`)[0];\n",
              "                popup_892a99a812dd36e11f597125e138f137.setContent(html_1e090172f7e36eb2b6c7f86b1fcdb7c6);\n",
              "            \n",
              "        \n",
              "\n",
              "        marker_3f6ce8be1c1bea7e03bcfea15e2a1c2a.bindPopup(popup_892a99a812dd36e11f597125e138f137)\n",
              "        ;\n",
              "\n",
              "        \n",
              "    \n",
              "    \n",
              "            var marker_3f35ae153335ff9a2690de187504e630 = L.marker(\n",
              "                [32.825833, -96.863889],\n",
              "                {\n",
              "}\n",
              "            ).addTo(map_b3ef0a901766b62eefe44dd736611518);\n",
              "        \n",
              "    \n",
              "            var icon_dcabb0f41f8c3b78e7cfaaae3d0794f3 = L.AwesomeMarkers.icon(\n",
              "                {\n",
              "  &quot;markerColor&quot;: &quot;red&quot;,\n",
              "  &quot;iconColor&quot;: &quot;white&quot;,\n",
              "  &quot;icon&quot;: &quot;info-sign&quot;,\n",
              "  &quot;prefix&quot;: &quot;glyphicon&quot;,\n",
              "  &quot;extraClasses&quot;: &quot;fa-rotate-0&quot;,\n",
              "}\n",
              "            );\n",
              "            marker_3f35ae153335ff9a2690de187504e630.setIcon(icon_dcabb0f41f8c3b78e7cfaaae3d0794f3);\n",
              "        \n",
              "    \n",
              "        var popup_540c6b9f95a53ee2880322745968017e = L.popup({\n",
              "  &quot;maxWidth&quot;: &quot;100%&quot;,\n",
              "});\n",
              "\n",
              "        \n",
              "            \n",
              "                var html_0ab517c0d0b9b1e57fc571ca3d1a88cd = $(`&lt;div id=&quot;html_0ab517c0d0b9b1e57fc571ca3d1a88cd&quot; style=&quot;width: 100.0%; height: 100.0%;&quot;&gt;Nearby site: 48-113-0044&lt;/div&gt;`)[0];\n",
              "                popup_540c6b9f95a53ee2880322745968017e.setContent(html_0ab517c0d0b9b1e57fc571ca3d1a88cd);\n",
              "            \n",
              "        \n",
              "\n",
              "        marker_3f35ae153335ff9a2690de187504e630.bindPopup(popup_540c6b9f95a53ee2880322745968017e)\n",
              "        ;\n",
              "\n",
              "        \n",
              "    \n",
              "    \n",
              "            var marker_f9bf249f62810a3a23e5fa9d2898b87d = L.marker(\n",
              "                [32.773611, -96.904167],\n",
              "                {\n",
              "}\n",
              "            ).addTo(map_b3ef0a901766b62eefe44dd736611518);\n",
              "        \n",
              "    \n",
              "            var icon_93d197931fa0b0aaf7af3386a1f929f2 = L.AwesomeMarkers.icon(\n",
              "                {\n",
              "  &quot;markerColor&quot;: &quot;red&quot;,\n",
              "  &quot;iconColor&quot;: &quot;white&quot;,\n",
              "  &quot;icon&quot;: &quot;info-sign&quot;,\n",
              "  &quot;prefix&quot;: &quot;glyphicon&quot;,\n",
              "  &quot;extraClasses&quot;: &quot;fa-rotate-0&quot;,\n",
              "}\n",
              "            );\n",
              "            marker_f9bf249f62810a3a23e5fa9d2898b87d.setIcon(icon_93d197931fa0b0aaf7af3386a1f929f2);\n",
              "        \n",
              "    \n",
              "        var popup_fb6d9efd31a1c2493ba9d773c6006272 = L.popup({\n",
              "  &quot;maxWidth&quot;: &quot;100%&quot;,\n",
              "});\n",
              "\n",
              "        \n",
              "            \n",
              "                var html_13fbc234ebd9b316ae887925647a13ec = $(`&lt;div id=&quot;html_13fbc234ebd9b316ae887925647a13ec&quot; style=&quot;width: 100.0%; height: 100.0%;&quot;&gt;Nearby site: 48-113-0048&lt;/div&gt;`)[0];\n",
              "                popup_fb6d9efd31a1c2493ba9d773c6006272.setContent(html_13fbc234ebd9b316ae887925647a13ec);\n",
              "            \n",
              "        \n",
              "\n",
              "        marker_f9bf249f62810a3a23e5fa9d2898b87d.bindPopup(popup_fb6d9efd31a1c2493ba9d773c6006272)\n",
              "        ;\n",
              "\n",
              "        \n",
              "    \n",
              "    \n",
              "            var marker_867c6c8860599977c9f256a0478ab877 = L.marker(\n",
              "                [32.785359, -96.876571],\n",
              "                {\n",
              "}\n",
              "            ).addTo(map_b3ef0a901766b62eefe44dd736611518);\n",
              "        \n",
              "    \n",
              "            var icon_44a876b2d0c6f64d388434268c22abef = L.AwesomeMarkers.icon(\n",
              "                {\n",
              "  &quot;markerColor&quot;: &quot;red&quot;,\n",
              "  &quot;iconColor&quot;: &quot;white&quot;,\n",
              "  &quot;icon&quot;: &quot;info-sign&quot;,\n",
              "  &quot;prefix&quot;: &quot;glyphicon&quot;,\n",
              "  &quot;extraClasses&quot;: &quot;fa-rotate-0&quot;,\n",
              "}\n",
              "            );\n",
              "            marker_867c6c8860599977c9f256a0478ab877.setIcon(icon_44a876b2d0c6f64d388434268c22abef);\n",
              "        \n",
              "    \n",
              "        var popup_5d31d98124297c4f941670219a26c680 = L.popup({\n",
              "  &quot;maxWidth&quot;: &quot;100%&quot;,\n",
              "});\n",
              "\n",
              "        \n",
              "            \n",
              "                var html_008d81b32a137ca10cdf194770ac8837 = $(`&lt;div id=&quot;html_008d81b32a137ca10cdf194770ac8837&quot; style=&quot;width: 100.0%; height: 100.0%;&quot;&gt;Nearby site: 48-113-0061&lt;/div&gt;`)[0];\n",
              "                popup_5d31d98124297c4f941670219a26c680.setContent(html_008d81b32a137ca10cdf194770ac8837);\n",
              "            \n",
              "        \n",
              "\n",
              "        marker_867c6c8860599977c9f256a0478ab877.bindPopup(popup_5d31d98124297c4f941670219a26c680)\n",
              "        ;\n",
              "\n",
              "        \n",
              "    \n",
              "    \n",
              "            var marker_d6c5842c08fa2573d17ec268536b459e = L.marker(\n",
              "                [32.779852, -96.875837],\n",
              "                {\n",
              "}\n",
              "            ).addTo(map_b3ef0a901766b62eefe44dd736611518);\n",
              "        \n",
              "    \n",
              "            var icon_c8fe0c34ad63fc80858dc145ab506f92 = L.AwesomeMarkers.icon(\n",
              "                {\n",
              "  &quot;markerColor&quot;: &quot;red&quot;,\n",
              "  &quot;iconColor&quot;: &quot;white&quot;,\n",
              "  &quot;icon&quot;: &quot;info-sign&quot;,\n",
              "  &quot;prefix&quot;: &quot;glyphicon&quot;,\n",
              "  &quot;extraClasses&quot;: &quot;fa-rotate-0&quot;,\n",
              "}\n",
              "            );\n",
              "            marker_d6c5842c08fa2573d17ec268536b459e.setIcon(icon_c8fe0c34ad63fc80858dc145ab506f92);\n",
              "        \n",
              "    \n",
              "        var popup_03a48911d53a23219d4f6d2da3306cc0 = L.popup({\n",
              "  &quot;maxWidth&quot;: &quot;100%&quot;,\n",
              "});\n",
              "\n",
              "        \n",
              "            \n",
              "                var html_d6690a6802bde133f5c469d43a0ae28f = $(`&lt;div id=&quot;html_d6690a6802bde133f5c469d43a0ae28f&quot; style=&quot;width: 100.0%; height: 100.0%;&quot;&gt;Nearby site: 48-113-0067&lt;/div&gt;`)[0];\n",
              "                popup_03a48911d53a23219d4f6d2da3306cc0.setContent(html_d6690a6802bde133f5c469d43a0ae28f);\n",
              "            \n",
              "        \n",
              "\n",
              "        marker_d6c5842c08fa2573d17ec268536b459e.bindPopup(popup_03a48911d53a23219d4f6d2da3306cc0)\n",
              "        ;\n",
              "\n",
              "        \n",
              "    \n",
              "    \n",
              "            var marker_c17f714d46585bcde1dd3a142efaabbb = L.marker(\n",
              "                [32.820061, -96.860117],\n",
              "                {\n",
              "}\n",
              "            ).addTo(map_b3ef0a901766b62eefe44dd736611518);\n",
              "        \n",
              "    \n",
              "            var icon_4c117ed62cb674aaa1b1471e7d513c91 = L.AwesomeMarkers.icon(\n",
              "                {\n",
              "  &quot;markerColor&quot;: &quot;red&quot;,\n",
              "  &quot;iconColor&quot;: &quot;white&quot;,\n",
              "  &quot;icon&quot;: &quot;info-sign&quot;,\n",
              "  &quot;prefix&quot;: &quot;glyphicon&quot;,\n",
              "  &quot;extraClasses&quot;: &quot;fa-rotate-0&quot;,\n",
              "}\n",
              "            );\n",
              "            marker_c17f714d46585bcde1dd3a142efaabbb.setIcon(icon_4c117ed62cb674aaa1b1471e7d513c91);\n",
              "        \n",
              "    \n",
              "        var popup_0c52fdf831ef97cec1822755f34551a4 = L.popup({\n",
              "  &quot;maxWidth&quot;: &quot;100%&quot;,\n",
              "});\n",
              "\n",
              "        \n",
              "            \n",
              "                var html_c995fa3b9182ce55854512cdc7634c48 = $(`&lt;div id=&quot;html_c995fa3b9182ce55854512cdc7634c48&quot; style=&quot;width: 100.0%; height: 100.0%;&quot;&gt;Nearby site: 48-113-0069&lt;/div&gt;`)[0];\n",
              "                popup_0c52fdf831ef97cec1822755f34551a4.setContent(html_c995fa3b9182ce55854512cdc7634c48);\n",
              "            \n",
              "        \n",
              "\n",
              "        marker_c17f714d46585bcde1dd3a142efaabbb.bindPopup(popup_0c52fdf831ef97cec1822755f34551a4)\n",
              "        ;\n",
              "\n",
              "        \n",
              "    \n",
              "    \n",
              "            var marker_ab80d6b69cbe9947fef11ba49ffc561f = L.marker(\n",
              "                [32.764722, -96.929444],\n",
              "                {\n",
              "}\n",
              "            ).addTo(map_b3ef0a901766b62eefe44dd736611518);\n",
              "        \n",
              "    \n",
              "            var icon_0fcf1e33271d7ed24df0a297066d2f06 = L.AwesomeMarkers.icon(\n",
              "                {\n",
              "  &quot;markerColor&quot;: &quot;red&quot;,\n",
              "  &quot;iconColor&quot;: &quot;white&quot;,\n",
              "  &quot;icon&quot;: &quot;info-sign&quot;,\n",
              "  &quot;prefix&quot;: &quot;glyphicon&quot;,\n",
              "  &quot;extraClasses&quot;: &quot;fa-rotate-0&quot;,\n",
              "}\n",
              "            );\n",
              "            marker_ab80d6b69cbe9947fef11ba49ffc561f.setIcon(icon_0fcf1e33271d7ed24df0a297066d2f06);\n",
              "        \n",
              "    \n",
              "        var popup_d6d201a5f90924020daf44fdb24e626d = L.popup({\n",
              "  &quot;maxWidth&quot;: &quot;100%&quot;,\n",
              "});\n",
              "\n",
              "        \n",
              "            \n",
              "                var html_e02c23ed1557f00d9bf79bb29c9e8cd8 = $(`&lt;div id=&quot;html_e02c23ed1557f00d9bf79bb29c9e8cd8&quot; style=&quot;width: 100.0%; height: 100.0%;&quot;&gt;Nearby site: 48-113-0070&lt;/div&gt;`)[0];\n",
              "                popup_d6d201a5f90924020daf44fdb24e626d.setContent(html_e02c23ed1557f00d9bf79bb29c9e8cd8);\n",
              "            \n",
              "        \n",
              "\n",
              "        marker_ab80d6b69cbe9947fef11ba49ffc561f.bindPopup(popup_d6d201a5f90924020daf44fdb24e626d)\n",
              "        ;\n",
              "\n",
              "        \n",
              "    \n",
              "    \n",
              "            var marker_dacaced1b5e25ee84e14857c5dceddc0 = L.marker(\n",
              "                [32.741667, -97.008333],\n",
              "                {\n",
              "}\n",
              "            ).addTo(map_b3ef0a901766b62eefe44dd736611518);\n",
              "        \n",
              "    \n",
              "            var icon_5be5fbc7ddbb42e8554fe6a297b7d137 = L.AwesomeMarkers.icon(\n",
              "                {\n",
              "  &quot;markerColor&quot;: &quot;red&quot;,\n",
              "  &quot;iconColor&quot;: &quot;white&quot;,\n",
              "  &quot;icon&quot;: &quot;info-sign&quot;,\n",
              "  &quot;prefix&quot;: &quot;glyphicon&quot;,\n",
              "  &quot;extraClasses&quot;: &quot;fa-rotate-0&quot;,\n",
              "}\n",
              "            );\n",
              "            marker_dacaced1b5e25ee84e14857c5dceddc0.setIcon(icon_5be5fbc7ddbb42e8554fe6a297b7d137);\n",
              "        \n",
              "    \n",
              "        var popup_7bb0d8db48853507da8b8d8b6b48ffdf = L.popup({\n",
              "  &quot;maxWidth&quot;: &quot;100%&quot;,\n",
              "});\n",
              "\n",
              "        \n",
              "            \n",
              "                var html_4bf643e13db5c829565e8849a16f0f77 = $(`&lt;div id=&quot;html_4bf643e13db5c829565e8849a16f0f77&quot; style=&quot;width: 100.0%; height: 100.0%;&quot;&gt;Nearby site: 48-113-2002&lt;/div&gt;`)[0];\n",
              "                popup_7bb0d8db48853507da8b8d8b6b48ffdf.setContent(html_4bf643e13db5c829565e8849a16f0f77);\n",
              "            \n",
              "        \n",
              "\n",
              "        marker_dacaced1b5e25ee84e14857c5dceddc0.bindPopup(popup_7bb0d8db48853507da8b8d8b6b48ffdf)\n",
              "        ;\n",
              "\n",
              "        \n",
              "    \n",
              "    \n",
              "            var marker_91ef91e09c1e95c15e6d0efaee6c822a = L.marker(\n",
              "                [32.856111, -96.968333],\n",
              "                {\n",
              "}\n",
              "            ).addTo(map_b3ef0a901766b62eefe44dd736611518);\n",
              "        \n",
              "    \n",
              "            var icon_087dde4f686ab8057974a30cfd5ba3d3 = L.AwesomeMarkers.icon(\n",
              "                {\n",
              "  &quot;markerColor&quot;: &quot;red&quot;,\n",
              "  &quot;iconColor&quot;: &quot;white&quot;,\n",
              "  &quot;icon&quot;: &quot;info-sign&quot;,\n",
              "  &quot;prefix&quot;: &quot;glyphicon&quot;,\n",
              "  &quot;extraClasses&quot;: &quot;fa-rotate-0&quot;,\n",
              "}\n",
              "            );\n",
              "            marker_91ef91e09c1e95c15e6d0efaee6c822a.setIcon(icon_087dde4f686ab8057974a30cfd5ba3d3);\n",
              "        \n",
              "    \n",
              "        var popup_f138089cb85dcffef0b7c8ca78b93ce6 = L.popup({\n",
              "  &quot;maxWidth&quot;: &quot;100%&quot;,\n",
              "});\n",
              "\n",
              "        \n",
              "            \n",
              "                var html_91aa8f555cc11f6382ab249475c254c1 = $(`&lt;div id=&quot;html_91aa8f555cc11f6382ab249475c254c1&quot; style=&quot;width: 100.0%; height: 100.0%;&quot;&gt;Nearby site: 48-113-3001&lt;/div&gt;`)[0];\n",
              "                popup_f138089cb85dcffef0b7c8ca78b93ce6.setContent(html_91aa8f555cc11f6382ab249475c254c1);\n",
              "            \n",
              "        \n",
              "\n",
              "        marker_91ef91e09c1e95c15e6d0efaee6c822a.bindPopup(popup_f138089cb85dcffef0b7c8ca78b93ce6)\n",
              "        ;\n",
              "\n",
              "        \n",
              "    \n",
              "    \n",
              "            var marker_b99faea25fc74748405cfbbfc9f9dd39 = L.marker(\n",
              "                [32.823333, -96.933611],\n",
              "                {\n",
              "}\n",
              "            ).addTo(map_b3ef0a901766b62eefe44dd736611518);\n",
              "        \n",
              "    \n",
              "            var icon_0ec314dcdbde708c1f49a9017122af95 = L.AwesomeMarkers.icon(\n",
              "                {\n",
              "  &quot;markerColor&quot;: &quot;red&quot;,\n",
              "  &quot;iconColor&quot;: &quot;white&quot;,\n",
              "  &quot;icon&quot;: &quot;info-sign&quot;,\n",
              "  &quot;prefix&quot;: &quot;glyphicon&quot;,\n",
              "  &quot;extraClasses&quot;: &quot;fa-rotate-0&quot;,\n",
              "}\n",
              "            );\n",
              "            marker_b99faea25fc74748405cfbbfc9f9dd39.setIcon(icon_0ec314dcdbde708c1f49a9017122af95);\n",
              "        \n",
              "    \n",
              "        var popup_3da115f08d3c52ac833e2f73cf15eccb = L.popup({\n",
              "  &quot;maxWidth&quot;: &quot;100%&quot;,\n",
              "});\n",
              "\n",
              "        \n",
              "            \n",
              "                var html_03a2695ef81638d61bdb1f582d5876da = $(`&lt;div id=&quot;html_03a2695ef81638d61bdb1f582d5876da&quot; style=&quot;width: 100.0%; height: 100.0%;&quot;&gt;Nearby site: 48-113-3002&lt;/div&gt;`)[0];\n",
              "                popup_3da115f08d3c52ac833e2f73cf15eccb.setContent(html_03a2695ef81638d61bdb1f582d5876da);\n",
              "            \n",
              "        \n",
              "\n",
              "        marker_b99faea25fc74748405cfbbfc9f9dd39.bindPopup(popup_3da115f08d3c52ac833e2f73cf15eccb)\n",
              "        ;\n",
              "\n",
              "        \n",
              "    \n",
              "    \n",
              "            var marker_edadfdcf23e2fe1ee8dae3e1f3d5d93f = L.marker(\n",
              "                [32.75, -97.053889],\n",
              "                {\n",
              "}\n",
              "            ).addTo(map_b3ef0a901766b62eefe44dd736611518);\n",
              "        \n",
              "    \n",
              "            var icon_13c3736224a8720b81fa7c50d35e41fe = L.AwesomeMarkers.icon(\n",
              "                {\n",
              "  &quot;markerColor&quot;: &quot;red&quot;,\n",
              "  &quot;iconColor&quot;: &quot;white&quot;,\n",
              "  &quot;icon&quot;: &quot;info-sign&quot;,\n",
              "  &quot;prefix&quot;: &quot;glyphicon&quot;,\n",
              "  &quot;extraClasses&quot;: &quot;fa-rotate-0&quot;,\n",
              "}\n",
              "            );\n",
              "            marker_edadfdcf23e2fe1ee8dae3e1f3d5d93f.setIcon(icon_13c3736224a8720b81fa7c50d35e41fe);\n",
              "        \n",
              "    \n",
              "        var popup_63abf9b68740718e86f9c1c757a51f91 = L.popup({\n",
              "  &quot;maxWidth&quot;: &quot;100%&quot;,\n",
              "});\n",
              "\n",
              "        \n",
              "            \n",
              "                var html_893d3d224926e3b260b72e5938c53c43 = $(`&lt;div id=&quot;html_893d3d224926e3b260b72e5938c53c43&quot; style=&quot;width: 100.0%; height: 100.0%;&quot;&gt;Nearby site: 48-439-0004&lt;/div&gt;`)[0];\n",
              "                popup_63abf9b68740718e86f9c1c757a51f91.setContent(html_893d3d224926e3b260b72e5938c53c43);\n",
              "            \n",
              "        \n",
              "\n",
              "        marker_edadfdcf23e2fe1ee8dae3e1f3d5d93f.bindPopup(popup_63abf9b68740718e86f9c1c757a51f91)\n",
              "        ;\n",
              "\n",
              "        \n",
              "    \n",
              "    \n",
              "            var marker_533cf7f2d50dda0f5a6d5cb8a5abcb26 = L.marker(\n",
              "                [32.831389, -97.063889],\n",
              "                {\n",
              "}\n",
              "            ).addTo(map_b3ef0a901766b62eefe44dd736611518);\n",
              "        \n",
              "    \n",
              "            var icon_f788980330147f7e3a6c6afcf145b83d = L.AwesomeMarkers.icon(\n",
              "                {\n",
              "  &quot;markerColor&quot;: &quot;red&quot;,\n",
              "  &quot;iconColor&quot;: &quot;white&quot;,\n",
              "  &quot;icon&quot;: &quot;info-sign&quot;,\n",
              "  &quot;prefix&quot;: &quot;glyphicon&quot;,\n",
              "  &quot;extraClasses&quot;: &quot;fa-rotate-0&quot;,\n",
              "}\n",
              "            );\n",
              "            marker_533cf7f2d50dda0f5a6d5cb8a5abcb26.setIcon(icon_f788980330147f7e3a6c6afcf145b83d);\n",
              "        \n",
              "    \n",
              "        var popup_0338573b343c0bb21debf36e31e4d733 = L.popup({\n",
              "  &quot;maxWidth&quot;: &quot;100%&quot;,\n",
              "});\n",
              "\n",
              "        \n",
              "            \n",
              "                var html_7e50497d68a529e7bbd4411d40af1a25 = $(`&lt;div id=&quot;html_7e50497d68a529e7bbd4411d40af1a25&quot; style=&quot;width: 100.0%; height: 100.0%;&quot;&gt;Nearby site: 48-439-0029&lt;/div&gt;`)[0];\n",
              "                popup_0338573b343c0bb21debf36e31e4d733.setContent(html_7e50497d68a529e7bbd4411d40af1a25);\n",
              "            \n",
              "        \n",
              "\n",
              "        marker_533cf7f2d50dda0f5a6d5cb8a5abcb26.bindPopup(popup_0338573b343c0bb21debf36e31e4d733)\n",
              "        ;\n",
              "\n",
              "        \n",
              "    \n",
              "    \n",
              "            var marker_5544950390ae75745022537d7b3d97d7 = L.marker(\n",
              "                [32.841389, -97.098056],\n",
              "                {\n",
              "}\n",
              "            ).addTo(map_b3ef0a901766b62eefe44dd736611518);\n",
              "        \n",
              "    \n",
              "            var icon_e67e80edd620b4d42a0ad4a318f0d3a0 = L.AwesomeMarkers.icon(\n",
              "                {\n",
              "  &quot;markerColor&quot;: &quot;red&quot;,\n",
              "  &quot;iconColor&quot;: &quot;white&quot;,\n",
              "  &quot;icon&quot;: &quot;info-sign&quot;,\n",
              "  &quot;prefix&quot;: &quot;glyphicon&quot;,\n",
              "  &quot;extraClasses&quot;: &quot;fa-rotate-0&quot;,\n",
              "}\n",
              "            );\n",
              "            marker_5544950390ae75745022537d7b3d97d7.setIcon(icon_e67e80edd620b4d42a0ad4a318f0d3a0);\n",
              "        \n",
              "    \n",
              "        var popup_f1d122c57502d8633e0749d60b0e2d18 = L.popup({\n",
              "  &quot;maxWidth&quot;: &quot;100%&quot;,\n",
              "});\n",
              "\n",
              "        \n",
              "            \n",
              "                var html_8119b0a45c84df71bbaabf6c627a2681 = $(`&lt;div id=&quot;html_8119b0a45c84df71bbaabf6c627a2681&quot; style=&quot;width: 100.0%; height: 100.0%;&quot;&gt;Nearby site: 48-439-1001&lt;/div&gt;`)[0];\n",
              "                popup_f1d122c57502d8633e0749d60b0e2d18.setContent(html_8119b0a45c84df71bbaabf6c627a2681);\n",
              "            \n",
              "        \n",
              "\n",
              "        marker_5544950390ae75745022537d7b3d97d7.bindPopup(popup_f1d122c57502d8633e0749d60b0e2d18)\n",
              "        ;\n",
              "\n",
              "        \n",
              "    \n",
              "    \n",
              "            var marker_b983db39acc08c6d64c7edb839974ae5 = L.marker(\n",
              "                [32.950556, -97.055556],\n",
              "                {\n",
              "}\n",
              "            ).addTo(map_b3ef0a901766b62eefe44dd736611518);\n",
              "        \n",
              "    \n",
              "            var icon_219ee4e287691c49a2c2195534a83b06 = L.AwesomeMarkers.icon(\n",
              "                {\n",
              "  &quot;markerColor&quot;: &quot;red&quot;,\n",
              "  &quot;iconColor&quot;: &quot;white&quot;,\n",
              "  &quot;icon&quot;: &quot;info-sign&quot;,\n",
              "  &quot;prefix&quot;: &quot;glyphicon&quot;,\n",
              "  &quot;extraClasses&quot;: &quot;fa-rotate-0&quot;,\n",
              "}\n",
              "            );\n",
              "            marker_b983db39acc08c6d64c7edb839974ae5.setIcon(icon_219ee4e287691c49a2c2195534a83b06);\n",
              "        \n",
              "    \n",
              "        var popup_236fb77dd55b5314b5582a2184b4b1ac = L.popup({\n",
              "  &quot;maxWidth&quot;: &quot;100%&quot;,\n",
              "});\n",
              "\n",
              "        \n",
              "            \n",
              "                var html_d7e4a29893b1f2e26118f9135b7699a5 = $(`&lt;div id=&quot;html_d7e4a29893b1f2e26118f9135b7699a5&quot; style=&quot;width: 100.0%; height: 100.0%;&quot;&gt;Nearby site: 48-439-3001&lt;/div&gt;`)[0];\n",
              "                popup_236fb77dd55b5314b5582a2184b4b1ac.setContent(html_d7e4a29893b1f2e26118f9135b7699a5);\n",
              "            \n",
              "        \n",
              "\n",
              "        marker_b983db39acc08c6d64c7edb839974ae5.bindPopup(popup_236fb77dd55b5314b5582a2184b4b1ac)\n",
              "        ;\n",
              "\n",
              "        \n",
              "    \n",
              "    \n",
              "            var marker_3f5da5f95c14d1c5344bd69ba373656f = L.marker(\n",
              "                [32.8319, -97.0661],\n",
              "                {\n",
              "}\n",
              "            ).addTo(map_b3ef0a901766b62eefe44dd736611518);\n",
              "        \n",
              "    \n",
              "            var icon_ffcf7ad995340378eb3f33b0c8ea90a7 = L.AwesomeMarkers.icon(\n",
              "                {\n",
              "  &quot;markerColor&quot;: &quot;red&quot;,\n",
              "  &quot;iconColor&quot;: &quot;white&quot;,\n",
              "  &quot;icon&quot;: &quot;info-sign&quot;,\n",
              "  &quot;prefix&quot;: &quot;glyphicon&quot;,\n",
              "  &quot;extraClasses&quot;: &quot;fa-rotate-0&quot;,\n",
              "}\n",
              "            );\n",
              "            marker_3f5da5f95c14d1c5344bd69ba373656f.setIcon(icon_ffcf7ad995340378eb3f33b0c8ea90a7);\n",
              "        \n",
              "    \n",
              "        var popup_38d251b120c102c3ee6b5b6ef8f236d5 = L.popup({\n",
              "  &quot;maxWidth&quot;: &quot;100%&quot;,\n",
              "});\n",
              "\n",
              "        \n",
              "            \n",
              "                var html_a5e91d495cad97aaa570e556cc7d4a51 = $(`&lt;div id=&quot;html_a5e91d495cad97aaa570e556cc7d4a51&quot; style=&quot;width: 100.0%; height: 100.0%;&quot;&gt;Nearby site: 48-439-3007&lt;/div&gt;`)[0];\n",
              "                popup_38d251b120c102c3ee6b5b6ef8f236d5.setContent(html_a5e91d495cad97aaa570e556cc7d4a51);\n",
              "            \n",
              "        \n",
              "\n",
              "        marker_3f5da5f95c14d1c5344bd69ba373656f.bindPopup(popup_38d251b120c102c3ee6b5b6ef8f236d5)\n",
              "        ;\n",
              "\n",
              "        \n",
              "    \n",
              "    \n",
              "            var marker_fe09a7bee0e4e0071e986808e78af34b = L.marker(\n",
              "                [32.98426, -97.063721],\n",
              "                {\n",
              "}\n",
              "            ).addTo(map_b3ef0a901766b62eefe44dd736611518);\n",
              "        \n",
              "    \n",
              "            var icon_3d0d24bc4ffc2264c28393ada47c9084 = L.AwesomeMarkers.icon(\n",
              "                {\n",
              "  &quot;markerColor&quot;: &quot;red&quot;,\n",
              "  &quot;iconColor&quot;: &quot;white&quot;,\n",
              "  &quot;icon&quot;: &quot;info-sign&quot;,\n",
              "  &quot;prefix&quot;: &quot;glyphicon&quot;,\n",
              "  &quot;extraClasses&quot;: &quot;fa-rotate-0&quot;,\n",
              "}\n",
              "            );\n",
              "            marker_fe09a7bee0e4e0071e986808e78af34b.setIcon(icon_3d0d24bc4ffc2264c28393ada47c9084);\n",
              "        \n",
              "    \n",
              "        var popup_51709168cbed2667f5b4fd0f8de41547 = L.popup({\n",
              "  &quot;maxWidth&quot;: &quot;100%&quot;,\n",
              "});\n",
              "\n",
              "        \n",
              "            \n",
              "                var html_4500a2f55deeb647c9063969fe835f0d = $(`&lt;div id=&quot;html_4500a2f55deeb647c9063969fe835f0d&quot; style=&quot;width: 100.0%; height: 100.0%;&quot;&gt;Nearby site: 48-439-3009&lt;/div&gt;`)[0];\n",
              "                popup_51709168cbed2667f5b4fd0f8de41547.setContent(html_4500a2f55deeb647c9063969fe835f0d);\n",
              "            \n",
              "        \n",
              "\n",
              "        marker_fe09a7bee0e4e0071e986808e78af34b.bindPopup(popup_51709168cbed2667f5b4fd0f8de41547)\n",
              "        ;\n",
              "\n",
              "        \n",
              "    \n",
              "    \n",
              "            var marker_c882a88bde22805eb779c6c952ca842e = L.marker(\n",
              "                [32.774262, -96.797686],\n",
              "                {\n",
              "}\n",
              "            ).addTo(map_b3ef0a901766b62eefe44dd736611518);\n",
              "        \n",
              "    \n",
              "            var icon_2dea06c8de7002153b6dcceb51a6f9ad = L.AwesomeMarkers.icon(\n",
              "                {\n",
              "  &quot;markerColor&quot;: &quot;blue&quot;,\n",
              "  &quot;iconColor&quot;: &quot;white&quot;,\n",
              "  &quot;icon&quot;: &quot;info-sign&quot;,\n",
              "  &quot;prefix&quot;: &quot;glyphicon&quot;,\n",
              "  &quot;extraClasses&quot;: &quot;fa-rotate-0&quot;,\n",
              "}\n",
              "            );\n",
              "            marker_c882a88bde22805eb779c6c952ca842e.setIcon(icon_2dea06c8de7002153b6dcceb51a6f9ad);\n",
              "        \n",
              "    \n",
              "        var popup_f03be6e6161b2a94db3294a96754e623 = L.popup({\n",
              "  &quot;maxWidth&quot;: &quot;100%&quot;,\n",
              "});\n",
              "\n",
              "        \n",
              "            \n",
              "                var html_a590bc365c8c276964b5a921b0f39e75 = $(`&lt;div id=&quot;html_a590bc365c8c276964b5a921b0f39e75&quot; style=&quot;width: 100.0%; height: 100.0%;&quot;&gt;Other site: 48-113-0050&lt;/div&gt;`)[0];\n",
              "                popup_f03be6e6161b2a94db3294a96754e623.setContent(html_a590bc365c8c276964b5a921b0f39e75);\n",
              "            \n",
              "        \n",
              "\n",
              "        marker_c882a88bde22805eb779c6c952ca842e.bindPopup(popup_f03be6e6161b2a94db3294a96754e623)\n",
              "        ;\n",
              "\n",
              "        \n",
              "    \n",
              "    \n",
              "            var marker_a8821c458f38b10cc8b553139a309984 = L.marker(\n",
              "                [32.693056, -97.248611],\n",
              "                {\n",
              "}\n",
              "            ).addTo(map_b3ef0a901766b62eefe44dd736611518);\n",
              "        \n",
              "    \n",
              "            var icon_c11ff04e6cbc5837b80fa4b7eb8d9c6a = L.AwesomeMarkers.icon(\n",
              "                {\n",
              "  &quot;markerColor&quot;: &quot;blue&quot;,\n",
              "  &quot;iconColor&quot;: &quot;white&quot;,\n",
              "  &quot;icon&quot;: &quot;info-sign&quot;,\n",
              "  &quot;prefix&quot;: &quot;glyphicon&quot;,\n",
              "  &quot;extraClasses&quot;: &quot;fa-rotate-0&quot;,\n",
              "}\n",
              "            );\n",
              "            marker_a8821c458f38b10cc8b553139a309984.setIcon(icon_c11ff04e6cbc5837b80fa4b7eb8d9c6a);\n",
              "        \n",
              "    \n",
              "        var popup_aa200fdf31008ceb03631c73716de163 = L.popup({\n",
              "  &quot;maxWidth&quot;: &quot;100%&quot;,\n",
              "});\n",
              "\n",
              "        \n",
              "            \n",
              "                var html_ce65eb2a8e3b5f1508c38a769d42e647 = $(`&lt;div id=&quot;html_ce65eb2a8e3b5f1508c38a769d42e647&quot; style=&quot;width: 100.0%; height: 100.0%;&quot;&gt;Other site: 48-439-3006&lt;/div&gt;`)[0];\n",
              "                popup_aa200fdf31008ceb03631c73716de163.setContent(html_ce65eb2a8e3b5f1508c38a769d42e647);\n",
              "            \n",
              "        \n",
              "\n",
              "        marker_a8821c458f38b10cc8b553139a309984.bindPopup(popup_aa200fdf31008ceb03631c73716de163)\n",
              "        ;\n",
              "\n",
              "        \n",
              "    \n",
              "    \n",
              "            var marker_87daa6b8f3cda23c52daf3dd70dee1e1 = L.marker(\n",
              "                [32.7392, -97.47033],\n",
              "                {\n",
              "}\n",
              "            ).addTo(map_b3ef0a901766b62eefe44dd736611518);\n",
              "        \n",
              "    \n",
              "            var icon_7a1965223585c18d21deeec8d6c8924c = L.AwesomeMarkers.icon(\n",
              "                {\n",
              "  &quot;markerColor&quot;: &quot;blue&quot;,\n",
              "  &quot;iconColor&quot;: &quot;white&quot;,\n",
              "  &quot;icon&quot;: &quot;info-sign&quot;,\n",
              "  &quot;prefix&quot;: &quot;glyphicon&quot;,\n",
              "  &quot;extraClasses&quot;: &quot;fa-rotate-0&quot;,\n",
              "}\n",
              "            );\n",
              "            marker_87daa6b8f3cda23c52daf3dd70dee1e1.setIcon(icon_7a1965223585c18d21deeec8d6c8924c);\n",
              "        \n",
              "    \n",
              "        var popup_b14ecd23fdceb69b97e3fec600a59943 = L.popup({\n",
              "  &quot;maxWidth&quot;: &quot;100%&quot;,\n",
              "});\n",
              "\n",
              "        \n",
              "            \n",
              "                var html_8cdc2a364a9d13c0592f66fd849f41fe = $(`&lt;div id=&quot;html_8cdc2a364a9d13c0592f66fd849f41fe&quot; style=&quot;width: 100.0%; height: 100.0%;&quot;&gt;Other site: 48-439-3010&lt;/div&gt;`)[0];\n",
              "                popup_b14ecd23fdceb69b97e3fec600a59943.setContent(html_8cdc2a364a9d13c0592f66fd849f41fe);\n",
              "            \n",
              "        \n",
              "\n",
              "        marker_87daa6b8f3cda23c52daf3dd70dee1e1.bindPopup(popup_b14ecd23fdceb69b97e3fec600a59943)\n",
              "        ;\n",
              "\n",
              "        \n",
              "    \n",
              "    \n",
              "            var marker_6c8d2fca1137cd01d8500e9a0cf3f815 = L.marker(\n",
              "                [32.744575, -96.873892],\n",
              "                {\n",
              "}\n",
              "            ).addTo(map_b3ef0a901766b62eefe44dd736611518);\n",
              "        \n",
              "    \n",
              "            var icon_2ac01c1d10bf856098290b0ec29c3407 = L.AwesomeMarkers.icon(\n",
              "                {\n",
              "  &quot;markerColor&quot;: &quot;blue&quot;,\n",
              "  &quot;iconColor&quot;: &quot;white&quot;,\n",
              "  &quot;icon&quot;: &quot;info-sign&quot;,\n",
              "  &quot;prefix&quot;: &quot;glyphicon&quot;,\n",
              "  &quot;extraClasses&quot;: &quot;fa-rotate-0&quot;,\n",
              "}\n",
              "            );\n",
              "            marker_6c8d2fca1137cd01d8500e9a0cf3f815.setIcon(icon_2ac01c1d10bf856098290b0ec29c3407);\n",
              "        \n",
              "    \n",
              "        var popup_dd63dbeb837b4df35cc7fbf4c93e8d7d = L.popup({\n",
              "  &quot;maxWidth&quot;: &quot;100%&quot;,\n",
              "});\n",
              "\n",
              "        \n",
              "            \n",
              "                var html_f3373a00c43a8a03b560248390756fe0 = $(`&lt;div id=&quot;html_f3373a00c43a8a03b560248390756fe0&quot; style=&quot;width: 100.0%; height: 100.0%;&quot;&gt;Other site: 48-113-0002&lt;/div&gt;`)[0];\n",
              "                popup_dd63dbeb837b4df35cc7fbf4c93e8d7d.setContent(html_f3373a00c43a8a03b560248390756fe0);\n",
              "            \n",
              "        \n",
              "\n",
              "        marker_6c8d2fca1137cd01d8500e9a0cf3f815.bindPopup(popup_dd63dbeb837b4df35cc7fbf4c93e8d7d)\n",
              "        ;\n",
              "\n",
              "        \n",
              "    \n",
              "    \n",
              "            var marker_28be3eca181c8ea17f25aff2aef25a67 = L.marker(\n",
              "                [32.916792, -96.768889],\n",
              "                {\n",
              "}\n",
              "            ).addTo(map_b3ef0a901766b62eefe44dd736611518);\n",
              "        \n",
              "    \n",
              "            var icon_36413920c130da4fdd36ef0e892829ee = L.AwesomeMarkers.icon(\n",
              "                {\n",
              "  &quot;markerColor&quot;: &quot;blue&quot;,\n",
              "  &quot;iconColor&quot;: &quot;white&quot;,\n",
              "  &quot;icon&quot;: &quot;info-sign&quot;,\n",
              "  &quot;prefix&quot;: &quot;glyphicon&quot;,\n",
              "  &quot;extraClasses&quot;: &quot;fa-rotate-0&quot;,\n",
              "}\n",
              "            );\n",
              "            marker_28be3eca181c8ea17f25aff2aef25a67.setIcon(icon_36413920c130da4fdd36ef0e892829ee);\n",
              "        \n",
              "    \n",
              "        var popup_34632d790ddddd1610a292a5e69570c5 = L.popup({\n",
              "  &quot;maxWidth&quot;: &quot;100%&quot;,\n",
              "});\n",
              "\n",
              "        \n",
              "            \n",
              "                var html_c3184aadd73553f90fbb24c57ee93a54 = $(`&lt;div id=&quot;html_c3184aadd73553f90fbb24c57ee93a54&quot; style=&quot;width: 100.0%; height: 100.0%;&quot;&gt;Other site: 48-113-0035&lt;/div&gt;`)[0];\n",
              "                popup_34632d790ddddd1610a292a5e69570c5.setContent(html_c3184aadd73553f90fbb24c57ee93a54);\n",
              "            \n",
              "        \n",
              "\n",
              "        marker_28be3eca181c8ea17f25aff2aef25a67.bindPopup(popup_34632d790ddddd1610a292a5e69570c5)\n",
              "        ;\n",
              "\n",
              "        \n",
              "    \n",
              "    \n",
              "            var marker_6e1bb2402ee2283bbbaa54e1f32a3d34 = L.marker(\n",
              "                [32.7106, -96.8033],\n",
              "                {\n",
              "}\n",
              "            ).addTo(map_b3ef0a901766b62eefe44dd736611518);\n",
              "        \n",
              "    \n",
              "            var icon_6b9ea977f83148423483540cb4737c08 = L.AwesomeMarkers.icon(\n",
              "                {\n",
              "  &quot;markerColor&quot;: &quot;blue&quot;,\n",
              "  &quot;iconColor&quot;: &quot;white&quot;,\n",
              "  &quot;icon&quot;: &quot;info-sign&quot;,\n",
              "  &quot;prefix&quot;: &quot;glyphicon&quot;,\n",
              "  &quot;extraClasses&quot;: &quot;fa-rotate-0&quot;,\n",
              "}\n",
              "            );\n",
              "            marker_6e1bb2402ee2283bbbaa54e1f32a3d34.setIcon(icon_6b9ea977f83148423483540cb4737c08);\n",
              "        \n",
              "    \n",
              "        var popup_08c1cca564453e26fdfc35e3377ab33f = L.popup({\n",
              "  &quot;maxWidth&quot;: &quot;100%&quot;,\n",
              "});\n",
              "\n",
              "        \n",
              "            \n",
              "                var html_f0fe776962a1db739281ebe85ea3276b = $(`&lt;div id=&quot;html_f0fe776962a1db739281ebe85ea3276b&quot; style=&quot;width: 100.0%; height: 100.0%;&quot;&gt;Other site: 48-113-3004&lt;/div&gt;`)[0];\n",
              "                popup_08c1cca564453e26fdfc35e3377ab33f.setContent(html_f0fe776962a1db739281ebe85ea3276b);\n",
              "            \n",
              "        \n",
              "\n",
              "        marker_6e1bb2402ee2283bbbaa54e1f32a3d34.bindPopup(popup_08c1cca564453e26fdfc35e3377ab33f)\n",
              "        ;\n",
              "\n",
              "        \n",
              "    \n",
              "    \n",
              "            var marker_ba40e3366e54e9be741ad004ca444ef7 = L.marker(\n",
              "                [32.783462, -96.797501],\n",
              "                {\n",
              "}\n",
              "            ).addTo(map_b3ef0a901766b62eefe44dd736611518);\n",
              "        \n",
              "    \n",
              "            var icon_28852a8783005aef3bcdf76d2f5d8200 = L.AwesomeMarkers.icon(\n",
              "                {\n",
              "  &quot;markerColor&quot;: &quot;blue&quot;,\n",
              "  &quot;iconColor&quot;: &quot;white&quot;,\n",
              "  &quot;icon&quot;: &quot;info-sign&quot;,\n",
              "  &quot;prefix&quot;: &quot;glyphicon&quot;,\n",
              "  &quot;extraClasses&quot;: &quot;fa-rotate-0&quot;,\n",
              "}\n",
              "            );\n",
              "            marker_ba40e3366e54e9be741ad004ca444ef7.setIcon(icon_28852a8783005aef3bcdf76d2f5d8200);\n",
              "        \n",
              "    \n",
              "        var popup_51e863ee679836f2d0ed3a794e2ad869 = L.popup({\n",
              "  &quot;maxWidth&quot;: &quot;100%&quot;,\n",
              "});\n",
              "\n",
              "        \n",
              "            \n",
              "                var html_fddbd0ed8db5e771ce9bb13868ad8495 = $(`&lt;div id=&quot;html_fddbd0ed8db5e771ce9bb13868ad8495&quot; style=&quot;width: 100.0%; height: 100.0%;&quot;&gt;Other site: 48-113-0053&lt;/div&gt;`)[0];\n",
              "                popup_51e863ee679836f2d0ed3a794e2ad869.setContent(html_fddbd0ed8db5e771ce9bb13868ad8495);\n",
              "            \n",
              "        \n",
              "\n",
              "        marker_ba40e3366e54e9be741ad004ca444ef7.bindPopup(popup_51e863ee679836f2d0ed3a794e2ad869)\n",
              "        ;\n",
              "\n",
              "        \n",
              "    \n",
              "    \n",
              "            var marker_75bad9b4542ed4c949ea314b13a4af21 = L.marker(\n",
              "                [32.663889, -97.1],\n",
              "                {\n",
              "}\n",
              "            ).addTo(map_b3ef0a901766b62eefe44dd736611518);\n",
              "        \n",
              "    \n",
              "            var icon_798e91876e42a2b26d857ff8dc052499 = L.AwesomeMarkers.icon(\n",
              "                {\n",
              "  &quot;markerColor&quot;: &quot;blue&quot;,\n",
              "  &quot;iconColor&quot;: &quot;white&quot;,\n",
              "  &quot;icon&quot;: &quot;info-sign&quot;,\n",
              "  &quot;prefix&quot;: &quot;glyphicon&quot;,\n",
              "  &quot;extraClasses&quot;: &quot;fa-rotate-0&quot;,\n",
              "}\n",
              "            );\n",
              "            marker_75bad9b4542ed4c949ea314b13a4af21.setIcon(icon_798e91876e42a2b26d857ff8dc052499);\n",
              "        \n",
              "    \n",
              "        var popup_4eeded6f3e0cc03471e7431d1593334c = L.popup({\n",
              "  &quot;maxWidth&quot;: &quot;100%&quot;,\n",
              "});\n",
              "\n",
              "        \n",
              "            \n",
              "                var html_d0aae87b746c9795d138e6c8355a1f15 = $(`&lt;div id=&quot;html_d0aae87b746c9795d138e6c8355a1f15&quot; style=&quot;width: 100.0%; height: 100.0%;&quot;&gt;Other site: 48-439-0005&lt;/div&gt;`)[0];\n",
              "                popup_4eeded6f3e0cc03471e7431d1593334c.setContent(html_d0aae87b746c9795d138e6c8355a1f15);\n",
              "            \n",
              "        \n",
              "\n",
              "        marker_75bad9b4542ed4c949ea314b13a4af21.bindPopup(popup_4eeded6f3e0cc03471e7431d1593334c)\n",
              "        ;\n",
              "\n",
              "        \n",
              "    \n",
              "    \n",
              "            var marker_16336954ea75a9eb473be06b38527eb4 = L.marker(\n",
              "                [32.986222, -96.762221],\n",
              "                {\n",
              "}\n",
              "            ).addTo(map_b3ef0a901766b62eefe44dd736611518);\n",
              "        \n",
              "    \n",
              "            var icon_78d74d607115b333bdadaf91b95826b9 = L.AwesomeMarkers.icon(\n",
              "                {\n",
              "  &quot;markerColor&quot;: &quot;blue&quot;,\n",
              "  &quot;iconColor&quot;: &quot;white&quot;,\n",
              "  &quot;icon&quot;: &quot;info-sign&quot;,\n",
              "  &quot;prefix&quot;: &quot;glyphicon&quot;,\n",
              "  &quot;extraClasses&quot;: &quot;fa-rotate-0&quot;,\n",
              "}\n",
              "            );\n",
              "            marker_16336954ea75a9eb473be06b38527eb4.setIcon(icon_78d74d607115b333bdadaf91b95826b9);\n",
              "        \n",
              "    \n",
              "        var popup_89056e852586d9cb480f21c8bebd6056 = L.popup({\n",
              "  &quot;maxWidth&quot;: &quot;100%&quot;,\n",
              "});\n",
              "\n",
              "        \n",
              "            \n",
              "                var html_ee480a87f9330711b95038fabe00409b = $(`&lt;div id=&quot;html_ee480a87f9330711b95038fabe00409b&quot; style=&quot;width: 100.0%; height: 100.0%;&quot;&gt;Other site: 48-113-0086&lt;/div&gt;`)[0];\n",
              "                popup_89056e852586d9cb480f21c8bebd6056.setContent(html_ee480a87f9330711b95038fabe00409b);\n",
              "            \n",
              "        \n",
              "\n",
              "        marker_16336954ea75a9eb473be06b38527eb4.bindPopup(popup_89056e852586d9cb480f21c8bebd6056)\n",
              "        ;\n",
              "\n",
              "        \n",
              "    \n",
              "    \n",
              "            var marker_7a1bfe80d5f1e077573703cb12336c25 = L.marker(\n",
              "                [32.780711, -96.855845],\n",
              "                {\n",
              "}\n",
              "            ).addTo(map_b3ef0a901766b62eefe44dd736611518);\n",
              "        \n",
              "    \n",
              "            var icon_0ca4d8ace987b7cdaded02f1a2ce61c7 = L.AwesomeMarkers.icon(\n",
              "                {\n",
              "  &quot;markerColor&quot;: &quot;blue&quot;,\n",
              "  &quot;iconColor&quot;: &quot;white&quot;,\n",
              "  &quot;icon&quot;: &quot;info-sign&quot;,\n",
              "  &quot;prefix&quot;: &quot;glyphicon&quot;,\n",
              "  &quot;extraClasses&quot;: &quot;fa-rotate-0&quot;,\n",
              "}\n",
              "            );\n",
              "            marker_7a1bfe80d5f1e077573703cb12336c25.setIcon(icon_0ca4d8ace987b7cdaded02f1a2ce61c7);\n",
              "        \n",
              "    \n",
              "        var popup_26d222daa7057ed840472db7236c0a1a = L.popup({\n",
              "  &quot;maxWidth&quot;: &quot;100%&quot;,\n",
              "});\n",
              "\n",
              "        \n",
              "            \n",
              "                var html_c5a1917f59255f09517500a0af8ba100 = $(`&lt;div id=&quot;html_c5a1917f59255f09517500a0af8ba100&quot; style=&quot;width: 100.0%; height: 100.0%;&quot;&gt;Other site: 48-113-0023&lt;/div&gt;`)[0];\n",
              "                popup_26d222daa7057ed840472db7236c0a1a.setContent(html_c5a1917f59255f09517500a0af8ba100);\n",
              "            \n",
              "        \n",
              "\n",
              "        marker_7a1bfe80d5f1e077573703cb12336c25.bindPopup(popup_26d222daa7057ed840472db7236c0a1a)\n",
              "        ;\n",
              "\n",
              "        \n",
              "    \n",
              "    \n",
              "            var marker_a6c5efd9a95d9787a332432ccdb18b97 = L.marker(\n",
              "                [32.919722, -96.808056],\n",
              "                {\n",
              "}\n",
              "            ).addTo(map_b3ef0a901766b62eefe44dd736611518);\n",
              "        \n",
              "    \n",
              "            var icon_26b32053beb23340cbf7af25b7775266 = L.AwesomeMarkers.icon(\n",
              "                {\n",
              "  &quot;markerColor&quot;: &quot;blue&quot;,\n",
              "  &quot;iconColor&quot;: &quot;white&quot;,\n",
              "  &quot;icon&quot;: &quot;info-sign&quot;,\n",
              "  &quot;prefix&quot;: &quot;glyphicon&quot;,\n",
              "  &quot;extraClasses&quot;: &quot;fa-rotate-0&quot;,\n",
              "}\n",
              "            );\n",
              "            marker_a6c5efd9a95d9787a332432ccdb18b97.setIcon(icon_26b32053beb23340cbf7af25b7775266);\n",
              "        \n",
              "    \n",
              "        var popup_0173d7f562559681003f1c6abeae0c92 = L.popup({\n",
              "  &quot;maxWidth&quot;: &quot;100%&quot;,\n",
              "});\n",
              "\n",
              "        \n",
              "            \n",
              "                var html_6655bd30be5306b1c462649abff119e1 = $(`&lt;div id=&quot;html_6655bd30be5306b1c462649abff119e1&quot; style=&quot;width: 100.0%; height: 100.0%;&quot;&gt;Other site: 48-113-0045&lt;/div&gt;`)[0];\n",
              "                popup_0173d7f562559681003f1c6abeae0c92.setContent(html_6655bd30be5306b1c462649abff119e1);\n",
              "            \n",
              "        \n",
              "\n",
              "        marker_a6c5efd9a95d9787a332432ccdb18b97.bindPopup(popup_0173d7f562559681003f1c6abeae0c92)\n",
              "        ;\n",
              "\n",
              "        \n",
              "    \n",
              "    \n",
              "            var marker_9b6c088c03829ba167d1c6efa4dad453 = L.marker(\n",
              "                [32.706944, -97.093611],\n",
              "                {\n",
              "}\n",
              "            ).addTo(map_b3ef0a901766b62eefe44dd736611518);\n",
              "        \n",
              "    \n",
              "            var icon_e168590d607b7c2c0417427c0e43cffc = L.AwesomeMarkers.icon(\n",
              "                {\n",
              "  &quot;markerColor&quot;: &quot;blue&quot;,\n",
              "  &quot;iconColor&quot;: &quot;white&quot;,\n",
              "  &quot;icon&quot;: &quot;info-sign&quot;,\n",
              "  &quot;prefix&quot;: &quot;glyphicon&quot;,\n",
              "  &quot;extraClasses&quot;: &quot;fa-rotate-0&quot;,\n",
              "}\n",
              "            );\n",
              "            marker_9b6c088c03829ba167d1c6efa4dad453.setIcon(icon_e168590d607b7c2c0417427c0e43cffc);\n",
              "        \n",
              "    \n",
              "        var popup_3675fb60ecfaaeab4165dc47523a89f7 = L.popup({\n",
              "  &quot;maxWidth&quot;: &quot;100%&quot;,\n",
              "});\n",
              "\n",
              "        \n",
              "            \n",
              "                var html_9e70700e635f8882377b809ee0713db3 = $(`&lt;div id=&quot;html_9e70700e635f8882377b809ee0713db3&quot; style=&quot;width: 100.0%; height: 100.0%;&quot;&gt;Other site: 48-439-0057&lt;/div&gt;`)[0];\n",
              "                popup_3675fb60ecfaaeab4165dc47523a89f7.setContent(html_9e70700e635f8882377b809ee0713db3);\n",
              "            \n",
              "        \n",
              "\n",
              "        marker_9b6c088c03829ba167d1c6efa4dad453.bindPopup(popup_3675fb60ecfaaeab4165dc47523a89f7)\n",
              "        ;\n",
              "\n",
              "        \n",
              "    \n",
              "    \n",
              "            var marker_f774ed66db8f5ee089412d8fcb6cca3d = L.marker(\n",
              "                [32.588889, -96.963333],\n",
              "                {\n",
              "}\n",
              "            ).addTo(map_b3ef0a901766b62eefe44dd736611518);\n",
              "        \n",
              "    \n",
              "            var icon_1b38b25207a7606faffad9791ef2c2e9 = L.AwesomeMarkers.icon(\n",
              "                {\n",
              "  &quot;markerColor&quot;: &quot;blue&quot;,\n",
              "  &quot;iconColor&quot;: &quot;white&quot;,\n",
              "  &quot;icon&quot;: &quot;info-sign&quot;,\n",
              "  &quot;prefix&quot;: &quot;glyphicon&quot;,\n",
              "  &quot;extraClasses&quot;: &quot;fa-rotate-0&quot;,\n",
              "}\n",
              "            );\n",
              "            marker_f774ed66db8f5ee089412d8fcb6cca3d.setIcon(icon_1b38b25207a7606faffad9791ef2c2e9);\n",
              "        \n",
              "    \n",
              "        var popup_963e94718b35fa5b39235ab7c7a3dbc8 = L.popup({\n",
              "  &quot;maxWidth&quot;: &quot;100%&quot;,\n",
              "});\n",
              "\n",
              "        \n",
              "            \n",
              "                var html_d93dbb7c46d1c6d90ca1b8604111da81 = $(`&lt;div id=&quot;html_d93dbb7c46d1c6d90ca1b8604111da81&quot; style=&quot;width: 100.0%; height: 100.0%;&quot;&gt;Other site: 48-113-0072&lt;/div&gt;`)[0];\n",
              "                popup_963e94718b35fa5b39235ab7c7a3dbc8.setContent(html_d93dbb7c46d1c6d90ca1b8604111da81);\n",
              "            \n",
              "        \n",
              "\n",
              "        marker_f774ed66db8f5ee089412d8fcb6cca3d.bindPopup(popup_963e94718b35fa5b39235ab7c7a3dbc8)\n",
              "        ;\n",
              "\n",
              "        \n",
              "    \n",
              "    \n",
              "            var marker_619f4215855de0b72017e59c216ad635 = L.marker(\n",
              "                [32.783611, -96.861111],\n",
              "                {\n",
              "}\n",
              "            ).addTo(map_b3ef0a901766b62eefe44dd736611518);\n",
              "        \n",
              "    \n",
              "            var icon_ea72e40eeec15c75bb26c9397a84b656 = L.AwesomeMarkers.icon(\n",
              "                {\n",
              "  &quot;markerColor&quot;: &quot;blue&quot;,\n",
              "  &quot;iconColor&quot;: &quot;white&quot;,\n",
              "  &quot;icon&quot;: &quot;info-sign&quot;,\n",
              "  &quot;prefix&quot;: &quot;glyphicon&quot;,\n",
              "  &quot;extraClasses&quot;: &quot;fa-rotate-0&quot;,\n",
              "}\n",
              "            );\n",
              "            marker_619f4215855de0b72017e59c216ad635.setIcon(icon_ea72e40eeec15c75bb26c9397a84b656);\n",
              "        \n",
              "    \n",
              "        var popup_e43a312a16f3feeb004ca11aecae33d2 = L.popup({\n",
              "  &quot;maxWidth&quot;: &quot;100%&quot;,\n",
              "});\n",
              "\n",
              "        \n",
              "            \n",
              "                var html_93dab19c3d62aa5b4328f1a3ce772415 = $(`&lt;div id=&quot;html_93dab19c3d62aa5b4328f1a3ce772415&quot; style=&quot;width: 100.0%; height: 100.0%;&quot;&gt;Other site: 48-113-0049&lt;/div&gt;`)[0];\n",
              "                popup_e43a312a16f3feeb004ca11aecae33d2.setContent(html_93dab19c3d62aa5b4328f1a3ce772415);\n",
              "            \n",
              "        \n",
              "\n",
              "        marker_619f4215855de0b72017e59c216ad635.bindPopup(popup_e43a312a16f3feeb004ca11aecae33d2)\n",
              "        ;\n",
              "\n",
              "        \n",
              "    \n",
              "    \n",
              "            var marker_b0e2e9493d06b046255219d2e84dbe8f = L.marker(\n",
              "                [32.616389, -96.756944],\n",
              "                {\n",
              "}\n",
              "            ).addTo(map_b3ef0a901766b62eefe44dd736611518);\n",
              "        \n",
              "    \n",
              "            var icon_79d2eca029555b34a4e6cd062cc30e4b = L.AwesomeMarkers.icon(\n",
              "                {\n",
              "  &quot;markerColor&quot;: &quot;blue&quot;,\n",
              "  &quot;iconColor&quot;: &quot;white&quot;,\n",
              "  &quot;icon&quot;: &quot;info-sign&quot;,\n",
              "  &quot;prefix&quot;: &quot;glyphicon&quot;,\n",
              "  &quot;extraClasses&quot;: &quot;fa-rotate-0&quot;,\n",
              "}\n",
              "            );\n",
              "            marker_b0e2e9493d06b046255219d2e84dbe8f.setIcon(icon_79d2eca029555b34a4e6cd062cc30e4b);\n",
              "        \n",
              "    \n",
              "        var popup_5320af5b00817b6ed6597a7a051f14a0 = L.popup({\n",
              "  &quot;maxWidth&quot;: &quot;100%&quot;,\n",
              "});\n",
              "\n",
              "        \n",
              "            \n",
              "                var html_af11f845cb70400389750c6298c0012e = $(`&lt;div id=&quot;html_af11f845cb70400389750c6298c0012e&quot; style=&quot;width: 100.0%; height: 100.0%;&quot;&gt;Other site: 48-113-0055&lt;/div&gt;`)[0];\n",
              "                popup_5320af5b00817b6ed6597a7a051f14a0.setContent(html_af11f845cb70400389750c6298c0012e);\n",
              "            \n",
              "        \n",
              "\n",
              "        marker_b0e2e9493d06b046255219d2e84dbe8f.bindPopup(popup_5320af5b00817b6ed6597a7a051f14a0)\n",
              "        ;\n",
              "\n",
              "        \n",
              "    \n",
              "    \n",
              "            var marker_4445b89acd96fff7726a23533116223e = L.marker(\n",
              "                [32.664753, -97.337917],\n",
              "                {\n",
              "}\n",
              "            ).addTo(map_b3ef0a901766b62eefe44dd736611518);\n",
              "        \n",
              "    \n",
              "            var icon_c9cbb39a1d7ebfd268a1b6c95781643c = L.AwesomeMarkers.icon(\n",
              "                {\n",
              "  &quot;markerColor&quot;: &quot;blue&quot;,\n",
              "  &quot;iconColor&quot;: &quot;white&quot;,\n",
              "  &quot;icon&quot;: &quot;info-sign&quot;,\n",
              "  &quot;prefix&quot;: &quot;glyphicon&quot;,\n",
              "  &quot;extraClasses&quot;: &quot;fa-rotate-0&quot;,\n",
              "}\n",
              "            );\n",
              "            marker_4445b89acd96fff7726a23533116223e.setIcon(icon_c9cbb39a1d7ebfd268a1b6c95781643c);\n",
              "        \n",
              "    \n",
              "        var popup_f904f30b5e312c7e68f53a26f9431a72 = L.popup({\n",
              "  &quot;maxWidth&quot;: &quot;100%&quot;,\n",
              "});\n",
              "\n",
              "        \n",
              "            \n",
              "                var html_dc552a40c1f9c77e17f643ffcb8a09ef = $(`&lt;div id=&quot;html_dc552a40c1f9c77e17f643ffcb8a09ef&quot; style=&quot;width: 100.0%; height: 100.0%;&quot;&gt;Other site: 48-439-1053&lt;/div&gt;`)[0];\n",
              "                popup_f904f30b5e312c7e68f53a26f9431a72.setContent(html_dc552a40c1f9c77e17f643ffcb8a09ef);\n",
              "            \n",
              "        \n",
              "\n",
              "        marker_4445b89acd96fff7726a23533116223e.bindPopup(popup_f904f30b5e312c7e68f53a26f9431a72)\n",
              "        ;\n",
              "\n",
              "        \n",
              "    \n",
              "    \n",
              "            var marker_84bc209cdcc22c9a1194786d5bc220b7 = L.marker(\n",
              "                [32.778889, -96.873056],\n",
              "                {\n",
              "}\n",
              "            ).addTo(map_b3ef0a901766b62eefe44dd736611518);\n",
              "        \n",
              "    \n",
              "            var icon_0f6c81d68386c468e04a6df3551c5feb = L.AwesomeMarkers.icon(\n",
              "                {\n",
              "  &quot;markerColor&quot;: &quot;blue&quot;,\n",
              "  &quot;iconColor&quot;: &quot;white&quot;,\n",
              "  &quot;icon&quot;: &quot;info-sign&quot;,\n",
              "  &quot;prefix&quot;: &quot;glyphicon&quot;,\n",
              "  &quot;extraClasses&quot;: &quot;fa-rotate-0&quot;,\n",
              "}\n",
              "            );\n",
              "            marker_84bc209cdcc22c9a1194786d5bc220b7.setIcon(icon_0f6c81d68386c468e04a6df3551c5feb);\n",
              "        \n",
              "    \n",
              "        var popup_ce08db3a194e2a63015c645a506eb25d = L.popup({\n",
              "  &quot;maxWidth&quot;: &quot;100%&quot;,\n",
              "});\n",
              "\n",
              "        \n",
              "            \n",
              "                var html_7eb3e97e86cf6a2fa5ee908918720b5d = $(`&lt;div id=&quot;html_7eb3e97e86cf6a2fa5ee908918720b5d&quot; style=&quot;width: 100.0%; height: 100.0%;&quot;&gt;Other site: 48-113-0057&lt;/div&gt;`)[0];\n",
              "                popup_ce08db3a194e2a63015c645a506eb25d.setContent(html_7eb3e97e86cf6a2fa5ee908918720b5d);\n",
              "            \n",
              "        \n",
              "\n",
              "        marker_84bc209cdcc22c9a1194786d5bc220b7.bindPopup(popup_ce08db3a194e2a63015c645a506eb25d)\n",
              "        ;\n",
              "\n",
              "        \n",
              "    \n",
              "    \n",
              "            var marker_e823ce4b3f785b9dc644cf558f318096 = L.marker(\n",
              "                [32.744981, -96.781883],\n",
              "                {\n",
              "}\n",
              "            ).addTo(map_b3ef0a901766b62eefe44dd736611518);\n",
              "        \n",
              "    \n",
              "            var icon_754719e4161a5ea02da4e1b4bb34a817 = L.AwesomeMarkers.icon(\n",
              "                {\n",
              "  &quot;markerColor&quot;: &quot;blue&quot;,\n",
              "  &quot;iconColor&quot;: &quot;white&quot;,\n",
              "  &quot;icon&quot;: &quot;info-sign&quot;,\n",
              "  &quot;prefix&quot;: &quot;glyphicon&quot;,\n",
              "  &quot;extraClasses&quot;: &quot;fa-rotate-0&quot;,\n",
              "}\n",
              "            );\n",
              "            marker_e823ce4b3f785b9dc644cf558f318096.setIcon(icon_754719e4161a5ea02da4e1b4bb34a817);\n",
              "        \n",
              "    \n",
              "        var popup_ae25e2424958c83fced876e595b88ba0 = L.popup({\n",
              "  &quot;maxWidth&quot;: &quot;100%&quot;,\n",
              "});\n",
              "\n",
              "        \n",
              "            \n",
              "                var html_cc1ccd1a619398c49f51eb7016f3c698 = $(`&lt;div id=&quot;html_cc1ccd1a619398c49f51eb7016f3c698&quot; style=&quot;width: 100.0%; height: 100.0%;&quot;&gt;Other site: 48-113-0018&lt;/div&gt;`)[0];\n",
              "                popup_ae25e2424958c83fced876e595b88ba0.setContent(html_cc1ccd1a619398c49f51eb7016f3c698);\n",
              "            \n",
              "        \n",
              "\n",
              "        marker_e823ce4b3f785b9dc644cf558f318096.bindPopup(popup_ae25e2424958c83fced876e595b88ba0)\n",
              "        ;\n",
              "\n",
              "        \n",
              "    \n",
              "    \n",
              "            var marker_2e11181896f2dcebb0261fd90c9963b1 = L.marker(\n",
              "                [32.745119, -96.75319],\n",
              "                {\n",
              "}\n",
              "            ).addTo(map_b3ef0a901766b62eefe44dd736611518);\n",
              "        \n",
              "    \n",
              "            var icon_da0d93cfc53430f14f362b9f1ce9343c = L.AwesomeMarkers.icon(\n",
              "                {\n",
              "  &quot;markerColor&quot;: &quot;blue&quot;,\n",
              "  &quot;iconColor&quot;: &quot;white&quot;,\n",
              "  &quot;icon&quot;: &quot;info-sign&quot;,\n",
              "  &quot;prefix&quot;: &quot;glyphicon&quot;,\n",
              "  &quot;extraClasses&quot;: &quot;fa-rotate-0&quot;,\n",
              "}\n",
              "            );\n",
              "            marker_2e11181896f2dcebb0261fd90c9963b1.setIcon(icon_da0d93cfc53430f14f362b9f1ce9343c);\n",
              "        \n",
              "    \n",
              "        var popup_6c0926af1727d2d089856bd33fde65f3 = L.popup({\n",
              "  &quot;maxWidth&quot;: &quot;100%&quot;,\n",
              "});\n",
              "\n",
              "        \n",
              "            \n",
              "                var html_5114506d9030fb6b1173ec9d87fede96 = $(`&lt;div id=&quot;html_5114506d9030fb6b1173ec9d87fede96&quot; style=&quot;width: 100.0%; height: 100.0%;&quot;&gt;Other site: 48-113-1096&lt;/div&gt;`)[0];\n",
              "                popup_6c0926af1727d2d089856bd33fde65f3.setContent(html_5114506d9030fb6b1173ec9d87fede96);\n",
              "            \n",
              "        \n",
              "\n",
              "        marker_2e11181896f2dcebb0261fd90c9963b1.bindPopup(popup_6c0926af1727d2d089856bd33fde65f3)\n",
              "        ;\n",
              "\n",
              "        \n",
              "    \n",
              "    \n",
              "            var marker_e555de298deed3341e7261d81a6adcea = L.marker(\n",
              "                [32.785129, -96.79389],\n",
              "                {\n",
              "}\n",
              "            ).addTo(map_b3ef0a901766b62eefe44dd736611518);\n",
              "        \n",
              "    \n",
              "            var icon_0772af3401d71dee818a96468df02901 = L.AwesomeMarkers.icon(\n",
              "                {\n",
              "  &quot;markerColor&quot;: &quot;blue&quot;,\n",
              "  &quot;iconColor&quot;: &quot;white&quot;,\n",
              "  &quot;icon&quot;: &quot;info-sign&quot;,\n",
              "  &quot;prefix&quot;: &quot;glyphicon&quot;,\n",
              "  &quot;extraClasses&quot;: &quot;fa-rotate-0&quot;,\n",
              "}\n",
              "            );\n",
              "            marker_e555de298deed3341e7261d81a6adcea.setIcon(icon_0772af3401d71dee818a96468df02901);\n",
              "        \n",
              "    \n",
              "        var popup_962e38b745d6aeca6d8295d18346a263 = L.popup({\n",
              "  &quot;maxWidth&quot;: &quot;100%&quot;,\n",
              "});\n",
              "\n",
              "        \n",
              "            \n",
              "                var html_dfb55bb4dac695dfd3dbac8bacea8a11 = $(`&lt;div id=&quot;html_dfb55bb4dac695dfd3dbac8bacea8a11&quot; style=&quot;width: 100.0%; height: 100.0%;&quot;&gt;Other site: 48-113-0047&lt;/div&gt;`)[0];\n",
              "                popup_962e38b745d6aeca6d8295d18346a263.setContent(html_dfb55bb4dac695dfd3dbac8bacea8a11);\n",
              "            \n",
              "        \n",
              "\n",
              "        marker_e555de298deed3341e7261d81a6adcea.bindPopup(popup_962e38b745d6aeca6d8295d18346a263)\n",
              "        ;\n",
              "\n",
              "        \n",
              "    \n",
              "    \n",
              "            var marker_223b951f79274e8b5c5f49eabe5726c6 = L.marker(\n",
              "                [32.803056, -97.383333],\n",
              "                {\n",
              "}\n",
              "            ).addTo(map_b3ef0a901766b62eefe44dd736611518);\n",
              "        \n",
              "    \n",
              "            var icon_02e6c36c40627b4b6ef8703213f9fec6 = L.AwesomeMarkers.icon(\n",
              "                {\n",
              "  &quot;markerColor&quot;: &quot;blue&quot;,\n",
              "  &quot;iconColor&quot;: &quot;white&quot;,\n",
              "  &quot;icon&quot;: &quot;info-sign&quot;,\n",
              "  &quot;prefix&quot;: &quot;glyphicon&quot;,\n",
              "  &quot;extraClasses&quot;: &quot;fa-rotate-0&quot;,\n",
              "}\n",
              "            );\n",
              "            marker_223b951f79274e8b5c5f49eabe5726c6.setIcon(icon_02e6c36c40627b4b6ef8703213f9fec6);\n",
              "        \n",
              "    \n",
              "        var popup_b9b996b258d8058751f840d9de39f360 = L.popup({\n",
              "  &quot;maxWidth&quot;: &quot;100%&quot;,\n",
              "});\n",
              "\n",
              "        \n",
              "            \n",
              "                var html_d4db9b762ce816a0f18810cecaa8933b = $(`&lt;div id=&quot;html_d4db9b762ce816a0f18810cecaa8933b&quot; style=&quot;width: 100.0%; height: 100.0%;&quot;&gt;Other site: 48-439-0006&lt;/div&gt;`)[0];\n",
              "                popup_b9b996b258d8058751f840d9de39f360.setContent(html_d4db9b762ce816a0f18810cecaa8933b);\n",
              "            \n",
              "        \n",
              "\n",
              "        marker_223b951f79274e8b5c5f49eabe5726c6.bindPopup(popup_b9b996b258d8058751f840d9de39f360)\n",
              "        ;\n",
              "\n",
              "        \n",
              "    \n",
              "    \n",
              "            var marker_cb50cfa8e50f351dbfcb01955c416465 = L.marker(\n",
              "                [32.716111, -97.335],\n",
              "                {\n",
              "}\n",
              "            ).addTo(map_b3ef0a901766b62eefe44dd736611518);\n",
              "        \n",
              "    \n",
              "            var icon_e25ccb245f5fa0b89caf6ff47cd5ba83 = L.AwesomeMarkers.icon(\n",
              "                {\n",
              "  &quot;markerColor&quot;: &quot;blue&quot;,\n",
              "  &quot;iconColor&quot;: &quot;white&quot;,\n",
              "  &quot;icon&quot;: &quot;info-sign&quot;,\n",
              "  &quot;prefix&quot;: &quot;glyphicon&quot;,\n",
              "  &quot;extraClasses&quot;: &quot;fa-rotate-0&quot;,\n",
              "}\n",
              "            );\n",
              "            marker_cb50cfa8e50f351dbfcb01955c416465.setIcon(icon_e25ccb245f5fa0b89caf6ff47cd5ba83);\n",
              "        \n",
              "    \n",
              "        var popup_dc6b3d02e4c1af88937e91310680aae9 = L.popup({\n",
              "  &quot;maxWidth&quot;: &quot;100%&quot;,\n",
              "});\n",
              "\n",
              "        \n",
              "            \n",
              "                var html_9ca650875c4c307297fe0c6edc180c9e = $(`&lt;div id=&quot;html_9ca650875c4c307297fe0c6edc180c9e&quot; style=&quot;width: 100.0%; height: 100.0%;&quot;&gt;Other site: 48-439-0021&lt;/div&gt;`)[0];\n",
              "                popup_dc6b3d02e4c1af88937e91310680aae9.setContent(html_9ca650875c4c307297fe0c6edc180c9e);\n",
              "            \n",
              "        \n",
              "\n",
              "        marker_cb50cfa8e50f351dbfcb01955c416465.bindPopup(popup_dc6b3d02e4c1af88937e91310680aae9)\n",
              "        ;\n",
              "\n",
              "        \n",
              "    \n",
              "    \n",
              "            var marker_35420c573ee264869f00372eff57d9e4 = L.marker(\n",
              "                [32.695278, -97.321944],\n",
              "                {\n",
              "}\n",
              "            ).addTo(map_b3ef0a901766b62eefe44dd736611518);\n",
              "        \n",
              "    \n",
              "            var icon_42f160e5bac2334d1ff2bd0d85d20dc3 = L.AwesomeMarkers.icon(\n",
              "                {\n",
              "  &quot;markerColor&quot;: &quot;blue&quot;,\n",
              "  &quot;iconColor&quot;: &quot;white&quot;,\n",
              "  &quot;icon&quot;: &quot;info-sign&quot;,\n",
              "  &quot;prefix&quot;: &quot;glyphicon&quot;,\n",
              "  &quot;extraClasses&quot;: &quot;fa-rotate-0&quot;,\n",
              "}\n",
              "            );\n",
              "            marker_35420c573ee264869f00372eff57d9e4.setIcon(icon_42f160e5bac2334d1ff2bd0d85d20dc3);\n",
              "        \n",
              "    \n",
              "        var popup_9d43500aa366093e32ed24a42912bb62 = L.popup({\n",
              "  &quot;maxWidth&quot;: &quot;100%&quot;,\n",
              "});\n",
              "\n",
              "        \n",
              "            \n",
              "                var html_eb44ff83f35590d18b1bbdb0202b0f66 = $(`&lt;div id=&quot;html_eb44ff83f35590d18b1bbdb0202b0f66&quot; style=&quot;width: 100.0%; height: 100.0%;&quot;&gt;Other site: 48-439-0023&lt;/div&gt;`)[0];\n",
              "                popup_9d43500aa366093e32ed24a42912bb62.setContent(html_eb44ff83f35590d18b1bbdb0202b0f66);\n",
              "            \n",
              "        \n",
              "\n",
              "        marker_35420c573ee264869f00372eff57d9e4.bindPopup(popup_9d43500aa366093e32ed24a42912bb62)\n",
              "        ;\n",
              "\n",
              "        \n",
              "    \n",
              "    \n",
              "            var marker_54bc85cc8f33b2bb89e51b8c91f2374e = L.marker(\n",
              "                [32.719576, -96.891114],\n",
              "                {\n",
              "}\n",
              "            ).addTo(map_b3ef0a901766b62eefe44dd736611518);\n",
              "        \n",
              "    \n",
              "            var icon_cfe5c959da1cc4a591a79998bad7897b = L.AwesomeMarkers.icon(\n",
              "                {\n",
              "  &quot;markerColor&quot;: &quot;blue&quot;,\n",
              "  &quot;iconColor&quot;: &quot;white&quot;,\n",
              "  &quot;icon&quot;: &quot;info-sign&quot;,\n",
              "  &quot;prefix&quot;: &quot;glyphicon&quot;,\n",
              "  &quot;extraClasses&quot;: &quot;fa-rotate-0&quot;,\n",
              "}\n",
              "            );\n",
              "            marker_54bc85cc8f33b2bb89e51b8c91f2374e.setIcon(icon_cfe5c959da1cc4a591a79998bad7897b);\n",
              "        \n",
              "    \n",
              "        var popup_1c28be870f6f898c5a9a911e0f86568b = L.popup({\n",
              "  &quot;maxWidth&quot;: &quot;100%&quot;,\n",
              "});\n",
              "\n",
              "        \n",
              "            \n",
              "                var html_19a7bcb42b59aff6684c365b4ee45dc8 = $(`&lt;div id=&quot;html_19a7bcb42b59aff6684c365b4ee45dc8&quot; style=&quot;width: 100.0%; height: 100.0%;&quot;&gt;Other site: 48-113-0052&lt;/div&gt;`)[0];\n",
              "                popup_1c28be870f6f898c5a9a911e0f86568b.setContent(html_19a7bcb42b59aff6684c365b4ee45dc8);\n",
              "            \n",
              "        \n",
              "\n",
              "        marker_54bc85cc8f33b2bb89e51b8c91f2374e.bindPopup(popup_1c28be870f6f898c5a9a911e0f86568b)\n",
              "        ;\n",
              "\n",
              "        \n",
              "    \n",
              "    \n",
              "            var marker_a388df6ce1770587c02acef2f4af9e00 = L.marker(\n",
              "                [32.759722, -97.328056],\n",
              "                {\n",
              "}\n",
              "            ).addTo(map_b3ef0a901766b62eefe44dd736611518);\n",
              "        \n",
              "    \n",
              "            var icon_d34ad3b4fc0323601e19910199868aa6 = L.AwesomeMarkers.icon(\n",
              "                {\n",
              "  &quot;markerColor&quot;: &quot;blue&quot;,\n",
              "  &quot;iconColor&quot;: &quot;white&quot;,\n",
              "  &quot;icon&quot;: &quot;info-sign&quot;,\n",
              "  &quot;prefix&quot;: &quot;glyphicon&quot;,\n",
              "  &quot;extraClasses&quot;: &quot;fa-rotate-0&quot;,\n",
              "}\n",
              "            );\n",
              "            marker_a388df6ce1770587c02acef2f4af9e00.setIcon(icon_d34ad3b4fc0323601e19910199868aa6);\n",
              "        \n",
              "    \n",
              "        var popup_97189e8b5d3a77ce1d6c3c4d7edc3576 = L.popup({\n",
              "  &quot;maxWidth&quot;: &quot;100%&quot;,\n",
              "});\n",
              "\n",
              "        \n",
              "            \n",
              "                var html_9fd6f7aa8e9bb4d49ffd7d643a9db4a4 = $(`&lt;div id=&quot;html_9fd6f7aa8e9bb4d49ffd7d643a9db4a4&quot; style=&quot;width: 100.0%; height: 100.0%;&quot;&gt;Other site: 48-439-1003&lt;/div&gt;`)[0];\n",
              "                popup_97189e8b5d3a77ce1d6c3c4d7edc3576.setContent(html_9fd6f7aa8e9bb4d49ffd7d643a9db4a4);\n",
              "            \n",
              "        \n",
              "\n",
              "        marker_a388df6ce1770587c02acef2f4af9e00.bindPopup(popup_97189e8b5d3a77ce1d6c3c4d7edc3576)\n",
              "        ;\n",
              "\n",
              "        \n",
              "    \n",
              "    \n",
              "            var marker_bf56a2667b5c1b2ef6130c34006f833a = L.marker(\n",
              "                [32.944167, -97.353333],\n",
              "                {\n",
              "}\n",
              "            ).addTo(map_b3ef0a901766b62eefe44dd736611518);\n",
              "        \n",
              "    \n",
              "            var icon_e4a844ea4a0a98e397319f91d9b093bb = L.AwesomeMarkers.icon(\n",
              "                {\n",
              "  &quot;markerColor&quot;: &quot;blue&quot;,\n",
              "  &quot;iconColor&quot;: &quot;white&quot;,\n",
              "  &quot;icon&quot;: &quot;info-sign&quot;,\n",
              "  &quot;prefix&quot;: &quot;glyphicon&quot;,\n",
              "  &quot;extraClasses&quot;: &quot;fa-rotate-0&quot;,\n",
              "}\n",
              "            );\n",
              "            marker_bf56a2667b5c1b2ef6130c34006f833a.setIcon(icon_e4a844ea4a0a98e397319f91d9b093bb);\n",
              "        \n",
              "    \n",
              "        var popup_12117ea014308b520a1385865ce6053e = L.popup({\n",
              "  &quot;maxWidth&quot;: &quot;100%&quot;,\n",
              "});\n",
              "\n",
              "        \n",
              "            \n",
              "                var html_38eaaeb32447659c879b33f01feae4b5 = $(`&lt;div id=&quot;html_38eaaeb32447659c879b33f01feae4b5&quot; style=&quot;width: 100.0%; height: 100.0%;&quot;&gt;Other site: 48-439-2002&lt;/div&gt;`)[0];\n",
              "                popup_12117ea014308b520a1385865ce6053e.setContent(html_38eaaeb32447659c879b33f01feae4b5);\n",
              "            \n",
              "        \n",
              "\n",
              "        marker_bf56a2667b5c1b2ef6130c34006f833a.bindPopup(popup_12117ea014308b520a1385865ce6053e)\n",
              "        ;\n",
              "\n",
              "        \n",
              "    \n",
              "    \n",
              "            var marker_d66b8b608bd92c3d9665f114d7d5431a = L.marker(\n",
              "                [32.92118, -96.75355],\n",
              "                {\n",
              "}\n",
              "            ).addTo(map_b3ef0a901766b62eefe44dd736611518);\n",
              "        \n",
              "    \n",
              "            var icon_44da64ab645acd4b352d521d61b4c7ce = L.AwesomeMarkers.icon(\n",
              "                {\n",
              "  &quot;markerColor&quot;: &quot;blue&quot;,\n",
              "  &quot;iconColor&quot;: &quot;white&quot;,\n",
              "  &quot;icon&quot;: &quot;info-sign&quot;,\n",
              "  &quot;prefix&quot;: &quot;glyphicon&quot;,\n",
              "  &quot;extraClasses&quot;: &quot;fa-rotate-0&quot;,\n",
              "}\n",
              "            );\n",
              "            marker_d66b8b608bd92c3d9665f114d7d5431a.setIcon(icon_44da64ab645acd4b352d521d61b4c7ce);\n",
              "        \n",
              "    \n",
              "        var popup_e5ce04d5f1888f9b8b504d8ca3a85789 = L.popup({\n",
              "  &quot;maxWidth&quot;: &quot;100%&quot;,\n",
              "});\n",
              "\n",
              "        \n",
              "            \n",
              "                var html_29d26b02b0f1c789ac0cc4966685daf1 = $(`&lt;div id=&quot;html_29d26b02b0f1c789ac0cc4966685daf1&quot; style=&quot;width: 100.0%; height: 100.0%;&quot;&gt;Other site: 48-113-1067&lt;/div&gt;`)[0];\n",
              "                popup_e5ce04d5f1888f9b8b504d8ca3a85789.setContent(html_29d26b02b0f1c789ac0cc4966685daf1);\n",
              "            \n",
              "        \n",
              "\n",
              "        marker_d66b8b608bd92c3d9665f114d7d5431a.bindPopup(popup_e5ce04d5f1888f9b8b504d8ca3a85789)\n",
              "        ;\n",
              "\n",
              "        \n",
              "    \n",
              "    \n",
              "            var marker_8aab051f8e7b90e3ce113da5bddf184d = L.marker(\n",
              "                [32.926791, -96.639161],\n",
              "                {\n",
              "}\n",
              "            ).addTo(map_b3ef0a901766b62eefe44dd736611518);\n",
              "        \n",
              "    \n",
              "            var icon_a6038c16048e3e056bb081c92fb774ee = L.AwesomeMarkers.icon(\n",
              "                {\n",
              "  &quot;markerColor&quot;: &quot;blue&quot;,\n",
              "  &quot;iconColor&quot;: &quot;white&quot;,\n",
              "  &quot;icon&quot;: &quot;info-sign&quot;,\n",
              "  &quot;prefix&quot;: &quot;glyphicon&quot;,\n",
              "  &quot;extraClasses&quot;: &quot;fa-rotate-0&quot;,\n",
              "}\n",
              "            );\n",
              "            marker_8aab051f8e7b90e3ce113da5bddf184d.setIcon(icon_a6038c16048e3e056bb081c92fb774ee);\n",
              "        \n",
              "    \n",
              "        var popup_8dd00dbeba0000635891df5e01625562 = L.popup({\n",
              "  &quot;maxWidth&quot;: &quot;100%&quot;,\n",
              "});\n",
              "\n",
              "        \n",
              "            \n",
              "                var html_480fa8e4e08c1145564288891e620cff = $(`&lt;div id=&quot;html_480fa8e4e08c1145564288891e620cff&quot; style=&quot;width: 100.0%; height: 100.0%;&quot;&gt;Other site: 48-113-1002&lt;/div&gt;`)[0];\n",
              "                popup_8dd00dbeba0000635891df5e01625562.setContent(html_480fa8e4e08c1145564288891e620cff);\n",
              "            \n",
              "        \n",
              "\n",
              "        marker_8aab051f8e7b90e3ce113da5bddf184d.bindPopup(popup_8dd00dbeba0000635891df5e01625562)\n",
              "        ;\n",
              "\n",
              "        \n",
              "    \n",
              "    \n",
              "            var marker_a57b612bdc9f95901fe6eeb8f9411b90 = L.marker(\n",
              "                [32.772099, -96.836399],\n",
              "                {\n",
              "}\n",
              "            ).addTo(map_b3ef0a901766b62eefe44dd736611518);\n",
              "        \n",
              "    \n",
              "            var icon_0c7c397dbd2292ce54a00f3442620c47 = L.AwesomeMarkers.icon(\n",
              "                {\n",
              "  &quot;markerColor&quot;: &quot;blue&quot;,\n",
              "  &quot;iconColor&quot;: &quot;white&quot;,\n",
              "  &quot;icon&quot;: &quot;info-sign&quot;,\n",
              "  &quot;prefix&quot;: &quot;glyphicon&quot;,\n",
              "  &quot;extraClasses&quot;: &quot;fa-rotate-0&quot;,\n",
              "}\n",
              "            );\n",
              "            marker_a57b612bdc9f95901fe6eeb8f9411b90.setIcon(icon_0c7c397dbd2292ce54a00f3442620c47);\n",
              "        \n",
              "    \n",
              "        var popup_fb2e0b4b9000a4df4e557154b1b15250 = L.popup({\n",
              "  &quot;maxWidth&quot;: &quot;100%&quot;,\n",
              "});\n",
              "\n",
              "        \n",
              "            \n",
              "                var html_fdfb623be4e9cab2e80c66eb7ea49b0a = $(`&lt;div id=&quot;html_fdfb623be4e9cab2e80c66eb7ea49b0a&quot; style=&quot;width: 100.0%; height: 100.0%;&quot;&gt;Other site: 48-113-0003&lt;/div&gt;`)[0];\n",
              "                popup_fb2e0b4b9000a4df4e557154b1b15250.setContent(html_fdfb623be4e9cab2e80c66eb7ea49b0a);\n",
              "            \n",
              "        \n",
              "\n",
              "        marker_a57b612bdc9f95901fe6eeb8f9411b90.bindPopup(popup_fb2e0b4b9000a4df4e557154b1b15250)\n",
              "        ;\n",
              "\n",
              "        \n",
              "    \n",
              "    \n",
              "            var marker_ed03e63cb3836731b8423c8b6c777408 = L.marker(\n",
              "                [32.987891, -97.477175],\n",
              "                {\n",
              "}\n",
              "            ).addTo(map_b3ef0a901766b62eefe44dd736611518);\n",
              "        \n",
              "    \n",
              "            var icon_f0972d09d0bbd3f114e6dfe8e351668f = L.AwesomeMarkers.icon(\n",
              "                {\n",
              "  &quot;markerColor&quot;: &quot;blue&quot;,\n",
              "  &quot;iconColor&quot;: &quot;white&quot;,\n",
              "  &quot;icon&quot;: &quot;info-sign&quot;,\n",
              "  &quot;prefix&quot;: &quot;glyphicon&quot;,\n",
              "  &quot;extraClasses&quot;: &quot;fa-rotate-0&quot;,\n",
              "}\n",
              "            );\n",
              "            marker_ed03e63cb3836731b8423c8b6c777408.setIcon(icon_f0972d09d0bbd3f114e6dfe8e351668f);\n",
              "        \n",
              "    \n",
              "        var popup_fca846b31be476f662516e3832c0e46c = L.popup({\n",
              "  &quot;maxWidth&quot;: &quot;100%&quot;,\n",
              "});\n",
              "\n",
              "        \n",
              "            \n",
              "                var html_5a79b4c6f26028bb1ae2baa3f83fa2b0 = $(`&lt;div id=&quot;html_5a79b4c6f26028bb1ae2baa3f83fa2b0&quot; style=&quot;width: 100.0%; height: 100.0%;&quot;&gt;Other site: 48-439-0075&lt;/div&gt;`)[0];\n",
              "                popup_fca846b31be476f662516e3832c0e46c.setContent(html_5a79b4c6f26028bb1ae2baa3f83fa2b0);\n",
              "            \n",
              "        \n",
              "\n",
              "        marker_ed03e63cb3836731b8423c8b6c777408.bindPopup(popup_fca846b31be476f662516e3832c0e46c)\n",
              "        ;\n",
              "\n",
              "        \n",
              "    \n",
              "    \n",
              "            var marker_36f03e1af25749e5c6ecea4d63b996d3 = L.marker(\n",
              "                [32.769379, -96.546299],\n",
              "                {\n",
              "}\n",
              "            ).addTo(map_b3ef0a901766b62eefe44dd736611518);\n",
              "        \n",
              "    \n",
              "            var icon_090f369238579a2a9f631fe897ae4ffb = L.AwesomeMarkers.icon(\n",
              "                {\n",
              "  &quot;markerColor&quot;: &quot;blue&quot;,\n",
              "  &quot;iconColor&quot;: &quot;white&quot;,\n",
              "  &quot;icon&quot;: &quot;info-sign&quot;,\n",
              "  &quot;prefix&quot;: &quot;glyphicon&quot;,\n",
              "  &quot;extraClasses&quot;: &quot;fa-rotate-0&quot;,\n",
              "}\n",
              "            );\n",
              "            marker_36f03e1af25749e5c6ecea4d63b996d3.setIcon(icon_090f369238579a2a9f631fe897ae4ffb);\n",
              "        \n",
              "    \n",
              "        var popup_907cadd1898f44b9396da6e2ab62c089 = L.popup({\n",
              "  &quot;maxWidth&quot;: &quot;100%&quot;,\n",
              "});\n",
              "\n",
              "        \n",
              "            \n",
              "                var html_20685f47c0c62539e44e2f84c287c6f1 = $(`&lt;div id=&quot;html_20685f47c0c62539e44e2f84c287c6f1&quot; style=&quot;width: 100.0%; height: 100.0%;&quot;&gt;Other site: 48-113-3003&lt;/div&gt;`)[0];\n",
              "                popup_907cadd1898f44b9396da6e2ab62c089.setContent(html_20685f47c0c62539e44e2f84c287c6f1);\n",
              "            \n",
              "        \n",
              "\n",
              "        marker_36f03e1af25749e5c6ecea4d63b996d3.bindPopup(popup_907cadd1898f44b9396da6e2ab62c089)\n",
              "        ;\n",
              "\n",
              "        \n",
              "    \n",
              "    \n",
              "            var marker_a44d668ddab58213e2c4a0fe84b4c89a = L.marker(\n",
              "                [32.692354, -96.792778],\n",
              "                {\n",
              "}\n",
              "            ).addTo(map_b3ef0a901766b62eefe44dd736611518);\n",
              "        \n",
              "    \n",
              "            var icon_b143c50bde22ba7c6d5d7f343ab6daf3 = L.AwesomeMarkers.icon(\n",
              "                {\n",
              "  &quot;markerColor&quot;: &quot;blue&quot;,\n",
              "  &quot;iconColor&quot;: &quot;white&quot;,\n",
              "  &quot;icon&quot;: &quot;info-sign&quot;,\n",
              "  &quot;prefix&quot;: &quot;glyphicon&quot;,\n",
              "  &quot;extraClasses&quot;: &quot;fa-rotate-0&quot;,\n",
              "}\n",
              "            );\n",
              "            marker_a44d668ddab58213e2c4a0fe84b4c89a.setIcon(icon_b143c50bde22ba7c6d5d7f343ab6daf3);\n",
              "        \n",
              "    \n",
              "        var popup_005869492f345698754164a3b3d1db98 = L.popup({\n",
              "  &quot;maxWidth&quot;: &quot;100%&quot;,\n",
              "});\n",
              "\n",
              "        \n",
              "            \n",
              "                var html_41755dca633a389f08f079074fabe906 = $(`&lt;div id=&quot;html_41755dca633a389f08f079074fabe906&quot; style=&quot;width: 100.0%; height: 100.0%;&quot;&gt;Other site: 48-113-0020&lt;/div&gt;`)[0];\n",
              "                popup_005869492f345698754164a3b3d1db98.setContent(html_41755dca633a389f08f079074fabe906);\n",
              "            \n",
              "        \n",
              "\n",
              "        marker_a44d668ddab58213e2c4a0fe84b4c89a.bindPopup(popup_005869492f345698754164a3b3d1db98)\n",
              "        ;\n",
              "\n",
              "        \n",
              "    \n",
              "    \n",
              "            var marker_c8f2c0e9ef3989c9fd6dfc13288feff4 = L.marker(\n",
              "                [32.750408, -97.333905],\n",
              "                {\n",
              "}\n",
              "            ).addTo(map_b3ef0a901766b62eefe44dd736611518);\n",
              "        \n",
              "    \n",
              "            var icon_3a0972d7b6b2c5841c15cce71b38de4b = L.AwesomeMarkers.icon(\n",
              "                {\n",
              "  &quot;markerColor&quot;: &quot;blue&quot;,\n",
              "  &quot;iconColor&quot;: &quot;white&quot;,\n",
              "  &quot;icon&quot;: &quot;info-sign&quot;,\n",
              "  &quot;prefix&quot;: &quot;glyphicon&quot;,\n",
              "  &quot;extraClasses&quot;: &quot;fa-rotate-0&quot;,\n",
              "}\n",
              "            );\n",
              "            marker_c8f2c0e9ef3989c9fd6dfc13288feff4.setIcon(icon_3a0972d7b6b2c5841c15cce71b38de4b);\n",
              "        \n",
              "    \n",
              "        var popup_5abd9cb83088476f247e39c4e5bf8feb = L.popup({\n",
              "  &quot;maxWidth&quot;: &quot;100%&quot;,\n",
              "});\n",
              "\n",
              "        \n",
              "            \n",
              "                var html_0b0c854d12e2d779050966ca275fff75 = $(`&lt;div id=&quot;html_0b0c854d12e2d779050966ca275fff75&quot; style=&quot;width: 100.0%; height: 100.0%;&quot;&gt;Other site: 48-439-2001&lt;/div&gt;`)[0];\n",
              "                popup_5abd9cb83088476f247e39c4e5bf8feb.setContent(html_0b0c854d12e2d779050966ca275fff75);\n",
              "            \n",
              "        \n",
              "\n",
              "        marker_c8f2c0e9ef3989c9fd6dfc13288feff4.bindPopup(popup_5abd9cb83088476f247e39c4e5bf8feb)\n",
              "        ;\n",
              "\n",
              "        \n",
              "    \n",
              "    \n",
              "            var marker_3f25ee1a695e7bada80c7628d09c27a1 = L.marker(\n",
              "                [32.65637, -97.088598],\n",
              "                {\n",
              "}\n",
              "            ).addTo(map_b3ef0a901766b62eefe44dd736611518);\n",
              "        \n",
              "    \n",
              "            var icon_d56bb9e0a82780963ce77e316ef54b76 = L.AwesomeMarkers.icon(\n",
              "                {\n",
              "  &quot;markerColor&quot;: &quot;blue&quot;,\n",
              "  &quot;iconColor&quot;: &quot;white&quot;,\n",
              "  &quot;icon&quot;: &quot;info-sign&quot;,\n",
              "  &quot;prefix&quot;: &quot;glyphicon&quot;,\n",
              "  &quot;extraClasses&quot;: &quot;fa-rotate-0&quot;,\n",
              "}\n",
              "            );\n",
              "            marker_3f25ee1a695e7bada80c7628d09c27a1.setIcon(icon_d56bb9e0a82780963ce77e316ef54b76);\n",
              "        \n",
              "    \n",
              "        var popup_72a23a0de8f9a1e705bb9537a609dbc5 = L.popup({\n",
              "  &quot;maxWidth&quot;: &quot;100%&quot;,\n",
              "});\n",
              "\n",
              "        \n",
              "            \n",
              "                var html_c9ea2e42b8bf7b19141bc3411d615583 = $(`&lt;div id=&quot;html_c9ea2e42b8bf7b19141bc3411d615583&quot; style=&quot;width: 100.0%; height: 100.0%;&quot;&gt;Other site: 48-439-3011&lt;/div&gt;`)[0];\n",
              "                popup_72a23a0de8f9a1e705bb9537a609dbc5.setContent(html_c9ea2e42b8bf7b19141bc3411d615583);\n",
              "            \n",
              "        \n",
              "\n",
              "        marker_3f25ee1a695e7bada80c7628d09c27a1.bindPopup(popup_72a23a0de8f9a1e705bb9537a609dbc5)\n",
              "        ;\n",
              "\n",
              "        \n",
              "    \n",
              "    \n",
              "            var marker_f282fbaae713c3ae745f81b6d4c8d494 = L.marker(\n",
              "                [32.786266, -96.782231],\n",
              "                {\n",
              "}\n",
              "            ).addTo(map_b3ef0a901766b62eefe44dd736611518);\n",
              "        \n",
              "    \n",
              "            var icon_60d6553e28d96aae311a0352d96d38ce = L.AwesomeMarkers.icon(\n",
              "                {\n",
              "  &quot;markerColor&quot;: &quot;blue&quot;,\n",
              "  &quot;iconColor&quot;: &quot;white&quot;,\n",
              "  &quot;icon&quot;: &quot;info-sign&quot;,\n",
              "  &quot;prefix&quot;: &quot;glyphicon&quot;,\n",
              "  &quot;extraClasses&quot;: &quot;fa-rotate-0&quot;,\n",
              "}\n",
              "            );\n",
              "            marker_f282fbaae713c3ae745f81b6d4c8d494.setIcon(icon_60d6553e28d96aae311a0352d96d38ce);\n",
              "        \n",
              "    \n",
              "        var popup_5be194a41ef0bd91944427293eff7893 = L.popup({\n",
              "  &quot;maxWidth&quot;: &quot;100%&quot;,\n",
              "});\n",
              "\n",
              "        \n",
              "            \n",
              "                var html_ef52a4dc02d42159cd7e2f62c81932f5 = $(`&lt;div id=&quot;html_ef52a4dc02d42159cd7e2f62c81932f5&quot; style=&quot;width: 100.0%; height: 100.0%;&quot;&gt;Other site: 48-113-0080&lt;/div&gt;`)[0];\n",
              "                popup_5be194a41ef0bd91944427293eff7893.setContent(html_ef52a4dc02d42159cd7e2f62c81932f5);\n",
              "            \n",
              "        \n",
              "\n",
              "        marker_f282fbaae713c3ae745f81b6d4c8d494.bindPopup(popup_5be194a41ef0bd91944427293eff7893)\n",
              "        ;\n",
              "\n",
              "        \n",
              "    \n",
              "    \n",
              "            var marker_021d2d8fed9fc92dc6e122191f684a6e = L.marker(\n",
              "                [32.759154, -97.342332],\n",
              "                {\n",
              "}\n",
              "            ).addTo(map_b3ef0a901766b62eefe44dd736611518);\n",
              "        \n",
              "    \n",
              "            var icon_a2b769e187d4f4d842b89ecf3a91ec56 = L.AwesomeMarkers.icon(\n",
              "                {\n",
              "  &quot;markerColor&quot;: &quot;blue&quot;,\n",
              "  &quot;iconColor&quot;: &quot;white&quot;,\n",
              "  &quot;icon&quot;: &quot;info-sign&quot;,\n",
              "  &quot;prefix&quot;: &quot;glyphicon&quot;,\n",
              "  &quot;extraClasses&quot;: &quot;fa-rotate-0&quot;,\n",
              "}\n",
              "            );\n",
              "            marker_021d2d8fed9fc92dc6e122191f684a6e.setIcon(icon_a2b769e187d4f4d842b89ecf3a91ec56);\n",
              "        \n",
              "    \n",
              "        var popup_4301365954df5c15f46b1b1921a5d238 = L.popup({\n",
              "  &quot;maxWidth&quot;: &quot;100%&quot;,\n",
              "});\n",
              "\n",
              "        \n",
              "            \n",
              "                var html_74c6f343503e633c15194b4fff607b9b = $(`&lt;div id=&quot;html_74c6f343503e633c15194b4fff607b9b&quot; style=&quot;width: 100.0%; height: 100.0%;&quot;&gt;Other site: 48-439-1006&lt;/div&gt;`)[0];\n",
              "                popup_4301365954df5c15f46b1b1921a5d238.setContent(html_74c6f343503e633c15194b4fff607b9b);\n",
              "            \n",
              "        \n",
              "\n",
              "        marker_021d2d8fed9fc92dc6e122191f684a6e.bindPopup(popup_4301365954df5c15f46b1b1921a5d238)\n",
              "        ;\n",
              "\n",
              "        \n",
              "    \n",
              "    \n",
              "            var marker_d6730250957d5bab4d9edb054beea77f = L.marker(\n",
              "                [32.80581, -97.356529],\n",
              "                {\n",
              "}\n",
              "            ).addTo(map_b3ef0a901766b62eefe44dd736611518);\n",
              "        \n",
              "    \n",
              "            var icon_cb9caebf396f8c3811b87214f85a86a6 = L.AwesomeMarkers.icon(\n",
              "                {\n",
              "  &quot;markerColor&quot;: &quot;blue&quot;,\n",
              "  &quot;iconColor&quot;: &quot;white&quot;,\n",
              "  &quot;icon&quot;: &quot;info-sign&quot;,\n",
              "  &quot;prefix&quot;: &quot;glyphicon&quot;,\n",
              "  &quot;extraClasses&quot;: &quot;fa-rotate-0&quot;,\n",
              "}\n",
              "            );\n",
              "            marker_d6730250957d5bab4d9edb054beea77f.setIcon(icon_cb9caebf396f8c3811b87214f85a86a6);\n",
              "        \n",
              "    \n",
              "        var popup_4ae47ce0b67db8a5cba250efee01640e = L.popup({\n",
              "  &quot;maxWidth&quot;: &quot;100%&quot;,\n",
              "});\n",
              "\n",
              "        \n",
              "            \n",
              "                var html_af47da38563af814375c9abf5a2e3fb4 = $(`&lt;div id=&quot;html_af47da38563af814375c9abf5a2e3fb4&quot; style=&quot;width: 100.0%; height: 100.0%;&quot;&gt;Other site: 48-439-1002&lt;/div&gt;`)[0];\n",
              "                popup_4ae47ce0b67db8a5cba250efee01640e.setContent(html_af47da38563af814375c9abf5a2e3fb4);\n",
              "            \n",
              "        \n",
              "\n",
              "        marker_d6730250957d5bab4d9edb054beea77f.bindPopup(popup_4ae47ce0b67db8a5cba250efee01640e)\n",
              "        ;\n",
              "\n",
              "        \n",
              "    \n",
              "    \n",
              "            var marker_ae4458ebdcfca9d3fb5974336dbab036 = L.marker(\n",
              "                [32.922492, -97.282099],\n",
              "                {\n",
              "}\n",
              "            ).addTo(map_b3ef0a901766b62eefe44dd736611518);\n",
              "        \n",
              "    \n",
              "            var icon_df9b7e961f4fe7d6d72149975590cb6c = L.AwesomeMarkers.icon(\n",
              "                {\n",
              "  &quot;markerColor&quot;: &quot;blue&quot;,\n",
              "  &quot;iconColor&quot;: &quot;white&quot;,\n",
              "  &quot;icon&quot;: &quot;info-sign&quot;,\n",
              "  &quot;prefix&quot;: &quot;glyphicon&quot;,\n",
              "  &quot;extraClasses&quot;: &quot;fa-rotate-0&quot;,\n",
              "}\n",
              "            );\n",
              "            marker_ae4458ebdcfca9d3fb5974336dbab036.setIcon(icon_df9b7e961f4fe7d6d72149975590cb6c);\n",
              "        \n",
              "    \n",
              "        var popup_2377cb972536df426ee30f5e337a5271 = L.popup({\n",
              "  &quot;maxWidth&quot;: &quot;100%&quot;,\n",
              "});\n",
              "\n",
              "        \n",
              "            \n",
              "                var html_d0a69a9cedee7556d8d9d2b75053a846 = $(`&lt;div id=&quot;html_d0a69a9cedee7556d8d9d2b75053a846&quot; style=&quot;width: 100.0%; height: 100.0%;&quot;&gt;Other site: 48-439-2003&lt;/div&gt;`)[0];\n",
              "                popup_2377cb972536df426ee30f5e337a5271.setContent(html_d0a69a9cedee7556d8d9d2b75053a846);\n",
              "            \n",
              "        \n",
              "\n",
              "        marker_ae4458ebdcfca9d3fb5974336dbab036.bindPopup(popup_2377cb972536df426ee30f5e337a5271)\n",
              "        ;\n",
              "\n",
              "        \n",
              "    \n",
              "    \n",
              "            var marker_be5f06033b2e961a85d64c4cba049b1f = L.marker(\n",
              "                [32.915708, -96.638339],\n",
              "                {\n",
              "}\n",
              "            ).addTo(map_b3ef0a901766b62eefe44dd736611518);\n",
              "        \n",
              "    \n",
              "            var icon_f0b4082b628f0ac463e871483d37728e = L.AwesomeMarkers.icon(\n",
              "                {\n",
              "  &quot;markerColor&quot;: &quot;blue&quot;,\n",
              "  &quot;iconColor&quot;: &quot;white&quot;,\n",
              "  &quot;icon&quot;: &quot;info-sign&quot;,\n",
              "  &quot;prefix&quot;: &quot;glyphicon&quot;,\n",
              "  &quot;extraClasses&quot;: &quot;fa-rotate-0&quot;,\n",
              "}\n",
              "            );\n",
              "            marker_be5f06033b2e961a85d64c4cba049b1f.setIcon(icon_f0b4082b628f0ac463e871483d37728e);\n",
              "        \n",
              "    \n",
              "        var popup_5954f4b0b6a12c01c51e9f20ae118043 = L.popup({\n",
              "  &quot;maxWidth&quot;: &quot;100%&quot;,\n",
              "});\n",
              "\n",
              "        \n",
              "            \n",
              "                var html_3d373c239af4d2b73eec3c60ffb8e7a1 = $(`&lt;div id=&quot;html_3d373c239af4d2b73eec3c60ffb8e7a1&quot; style=&quot;width: 100.0%; height: 100.0%;&quot;&gt;Other site: 48-113-1001&lt;/div&gt;`)[0];\n",
              "                popup_5954f4b0b6a12c01c51e9f20ae118043.setContent(html_3d373c239af4d2b73eec3c60ffb8e7a1);\n",
              "            \n",
              "        \n",
              "\n",
              "        marker_be5f06033b2e961a85d64c4cba049b1f.bindPopup(popup_5954f4b0b6a12c01c51e9f20ae118043)\n",
              "        ;\n",
              "\n",
              "        \n",
              "    \n",
              "    \n",
              "            var marker_79454209327c93a52edbe765105763b0 = L.marker(\n",
              "                [32.755, -97.329722],\n",
              "                {\n",
              "}\n",
              "            ).addTo(map_b3ef0a901766b62eefe44dd736611518);\n",
              "        \n",
              "    \n",
              "            var icon_9ea91ffc042eedd41a0cd79b360b3866 = L.AwesomeMarkers.icon(\n",
              "                {\n",
              "  &quot;markerColor&quot;: &quot;blue&quot;,\n",
              "  &quot;iconColor&quot;: &quot;white&quot;,\n",
              "  &quot;icon&quot;: &quot;info-sign&quot;,\n",
              "  &quot;prefix&quot;: &quot;glyphicon&quot;,\n",
              "  &quot;extraClasses&quot;: &quot;fa-rotate-0&quot;,\n",
              "}\n",
              "            );\n",
              "            marker_79454209327c93a52edbe765105763b0.setIcon(icon_9ea91ffc042eedd41a0cd79b360b3866);\n",
              "        \n",
              "    \n",
              "        var popup_45391e3b66bb268ec2be33baf66a29dd = L.popup({\n",
              "  &quot;maxWidth&quot;: &quot;100%&quot;,\n",
              "});\n",
              "\n",
              "        \n",
              "            \n",
              "                var html_6bda5133d8229ea76601da000fdfd50b = $(`&lt;div id=&quot;html_6bda5133d8229ea76601da000fdfd50b&quot; style=&quot;width: 100.0%; height: 100.0%;&quot;&gt;Other site: 48-439-0022&lt;/div&gt;`)[0];\n",
              "                popup_45391e3b66bb268ec2be33baf66a29dd.setContent(html_6bda5133d8229ea76601da000fdfd50b);\n",
              "            \n",
              "        \n",
              "\n",
              "        marker_79454209327c93a52edbe765105763b0.bindPopup(popup_45391e3b66bb268ec2be33baf66a29dd)\n",
              "        ;\n",
              "\n",
              "        \n",
              "    \n",
              "    \n",
              "            var marker_db2febb2a01b0b7acdec659f73b719ed = L.marker(\n",
              "                [32.676451, -96.87206],\n",
              "                {\n",
              "}\n",
              "            ).addTo(map_b3ef0a901766b62eefe44dd736611518);\n",
              "        \n",
              "    \n",
              "            var icon_e746517aa1c991e18409315821485aae = L.AwesomeMarkers.icon(\n",
              "                {\n",
              "  &quot;markerColor&quot;: &quot;blue&quot;,\n",
              "  &quot;iconColor&quot;: &quot;white&quot;,\n",
              "  &quot;icon&quot;: &quot;info-sign&quot;,\n",
              "  &quot;prefix&quot;: &quot;glyphicon&quot;,\n",
              "  &quot;extraClasses&quot;: &quot;fa-rotate-0&quot;,\n",
              "}\n",
              "            );\n",
              "            marker_db2febb2a01b0b7acdec659f73b719ed.setIcon(icon_e746517aa1c991e18409315821485aae);\n",
              "        \n",
              "    \n",
              "        var popup_0dac8528a7867e29fad8c11a6bfd0290 = L.popup({\n",
              "  &quot;maxWidth&quot;: &quot;100%&quot;,\n",
              "});\n",
              "\n",
              "        \n",
              "            \n",
              "                var html_4c4216dded1e7bb8d513254847c82512 = $(`&lt;div id=&quot;html_4c4216dded1e7bb8d513254847c82512&quot; style=&quot;width: 100.0%; height: 100.0%;&quot;&gt;Other site: 48-113-0087&lt;/div&gt;`)[0];\n",
              "                popup_0dac8528a7867e29fad8c11a6bfd0290.setContent(html_4c4216dded1e7bb8d513254847c82512);\n",
              "            \n",
              "        \n",
              "\n",
              "        marker_db2febb2a01b0b7acdec659f73b719ed.bindPopup(popup_0dac8528a7867e29fad8c11a6bfd0290)\n",
              "        ;\n",
              "\n",
              "        \n",
              "    \n",
              "    \n",
              "            var marker_b30ad6f4eb0f41a2d668d397d47149b4 = L.marker(\n",
              "                [32.728187, -97.413075],\n",
              "                {\n",
              "}\n",
              "            ).addTo(map_b3ef0a901766b62eefe44dd736611518);\n",
              "        \n",
              "    \n",
              "            var icon_f2e44f84a80db3c55de1822f4c6a43af = L.AwesomeMarkers.icon(\n",
              "                {\n",
              "  &quot;markerColor&quot;: &quot;blue&quot;,\n",
              "  &quot;iconColor&quot;: &quot;white&quot;,\n",
              "  &quot;icon&quot;: &quot;info-sign&quot;,\n",
              "  &quot;prefix&quot;: &quot;glyphicon&quot;,\n",
              "  &quot;extraClasses&quot;: &quot;fa-rotate-0&quot;,\n",
              "}\n",
              "            );\n",
              "            marker_b30ad6f4eb0f41a2d668d397d47149b4.setIcon(icon_f2e44f84a80db3c55de1822f4c6a43af);\n",
              "        \n",
              "    \n",
              "        var popup_2ab1e31d8401f5b164ba07b9c4db8fc5 = L.popup({\n",
              "  &quot;maxWidth&quot;: &quot;100%&quot;,\n",
              "});\n",
              "\n",
              "        \n",
              "            \n",
              "                var html_642fe6f119a467d2cb2a9c2adb1fca2a = $(`&lt;div id=&quot;html_642fe6f119a467d2cb2a9c2adb1fca2a&quot; style=&quot;width: 100.0%; height: 100.0%;&quot;&gt;Other site: 48-439-0060&lt;/div&gt;`)[0];\n",
              "                popup_2ab1e31d8401f5b164ba07b9c4db8fc5.setContent(html_642fe6f119a467d2cb2a9c2adb1fca2a);\n",
              "            \n",
              "        \n",
              "\n",
              "        marker_b30ad6f4eb0f41a2d668d397d47149b4.bindPopup(popup_2ab1e31d8401f5b164ba07b9c4db8fc5)\n",
              "        ;\n",
              "\n",
              "        \n",
              "    \n",
              "    \n",
              "            var marker_ceb5f18666227c6e068acefeb341bc2e = L.marker(\n",
              "                [32.919206, -96.808498],\n",
              "                {\n",
              "}\n",
              "            ).addTo(map_b3ef0a901766b62eefe44dd736611518);\n",
              "        \n",
              "    \n",
              "            var icon_f7f2e892de273b3debda17998aeb97a6 = L.AwesomeMarkers.icon(\n",
              "                {\n",
              "  &quot;markerColor&quot;: &quot;blue&quot;,\n",
              "  &quot;iconColor&quot;: &quot;white&quot;,\n",
              "  &quot;icon&quot;: &quot;info-sign&quot;,\n",
              "  &quot;prefix&quot;: &quot;glyphicon&quot;,\n",
              "  &quot;extraClasses&quot;: &quot;fa-rotate-0&quot;,\n",
              "}\n",
              "            );\n",
              "            marker_ceb5f18666227c6e068acefeb341bc2e.setIcon(icon_f7f2e892de273b3debda17998aeb97a6);\n",
              "        \n",
              "    \n",
              "        var popup_75ff834af4ac5c0c98cc444d206b9573 = L.popup({\n",
              "  &quot;maxWidth&quot;: &quot;100%&quot;,\n",
              "});\n",
              "\n",
              "        \n",
              "            \n",
              "                var html_6adf69c7f5b003199a4881b0a829b17a = $(`&lt;div id=&quot;html_6adf69c7f5b003199a4881b0a829b17a&quot; style=&quot;width: 100.0%; height: 100.0%;&quot;&gt;Other site: 48-113-0075&lt;/div&gt;`)[0];\n",
              "                popup_75ff834af4ac5c0c98cc444d206b9573.setContent(html_6adf69c7f5b003199a4881b0a829b17a);\n",
              "            \n",
              "        \n",
              "\n",
              "        marker_ceb5f18666227c6e068acefeb341bc2e.bindPopup(popup_75ff834af4ac5c0c98cc444d206b9573)\n",
              "        ;\n",
              "\n",
              "        \n",
              "    \n",
              "    \n",
              "            var marker_35447676243ba349816c47929fe253d4 = L.marker(\n",
              "                [32.741667, -97.468889],\n",
              "                {\n",
              "}\n",
              "            ).addTo(map_b3ef0a901766b62eefe44dd736611518);\n",
              "        \n",
              "    \n",
              "            var icon_7b51cb9c0853fc09a480aa5c6d078002 = L.AwesomeMarkers.icon(\n",
              "                {\n",
              "  &quot;markerColor&quot;: &quot;blue&quot;,\n",
              "  &quot;iconColor&quot;: &quot;white&quot;,\n",
              "  &quot;icon&quot;: &quot;info-sign&quot;,\n",
              "  &quot;prefix&quot;: &quot;glyphicon&quot;,\n",
              "  &quot;extraClasses&quot;: &quot;fa-rotate-0&quot;,\n",
              "}\n",
              "            );\n",
              "            marker_35447676243ba349816c47929fe253d4.setIcon(icon_7b51cb9c0853fc09a480aa5c6d078002);\n",
              "        \n",
              "    \n",
              "        var popup_7b9440deca3ca4f835dba7309fec9f1a = L.popup({\n",
              "  &quot;maxWidth&quot;: &quot;100%&quot;,\n",
              "});\n",
              "\n",
              "        \n",
              "            \n",
              "                var html_dd7334b0a09a6974662de8098639cb0c = $(`&lt;div id=&quot;html_dd7334b0a09a6974662de8098639cb0c&quot; style=&quot;width: 100.0%; height: 100.0%;&quot;&gt;Other site: 48-439-0063&lt;/div&gt;`)[0];\n",
              "                popup_7b9440deca3ca4f835dba7309fec9f1a.setContent(html_dd7334b0a09a6974662de8098639cb0c);\n",
              "            \n",
              "        \n",
              "\n",
              "        marker_35447676243ba349816c47929fe253d4.bindPopup(popup_7b9440deca3ca4f835dba7309fec9f1a)\n",
              "        ;\n",
              "\n",
              "        \n",
              "    \n",
              "    \n",
              "            var marker_efb058734f1fd74f804f685fc743e4ba = L.marker(\n",
              "                [32.773739, -96.553046],\n",
              "                {\n",
              "}\n",
              "            ).addTo(map_b3ef0a901766b62eefe44dd736611518);\n",
              "        \n",
              "    \n",
              "            var icon_1d9b1f84006d3b39867511541cd6764d = L.AwesomeMarkers.icon(\n",
              "                {\n",
              "  &quot;markerColor&quot;: &quot;blue&quot;,\n",
              "  &quot;iconColor&quot;: &quot;white&quot;,\n",
              "  &quot;icon&quot;: &quot;info-sign&quot;,\n",
              "  &quot;prefix&quot;: &quot;glyphicon&quot;,\n",
              "  &quot;extraClasses&quot;: &quot;fa-rotate-0&quot;,\n",
              "}\n",
              "            );\n",
              "            marker_efb058734f1fd74f804f685fc743e4ba.setIcon(icon_1d9b1f84006d3b39867511541cd6764d);\n",
              "        \n",
              "    \n",
              "        var popup_5034f83168e939d1a7778bd1753e27b7 = L.popup({\n",
              "  &quot;maxWidth&quot;: &quot;100%&quot;,\n",
              "});\n",
              "\n",
              "        \n",
              "            \n",
              "                var html_24072c04498e665087b00c8db580e587 = $(`&lt;div id=&quot;html_24072c04498e665087b00c8db580e587&quot; style=&quot;width: 100.0%; height: 100.0%;&quot;&gt;Other site: 48-113-1047&lt;/div&gt;`)[0];\n",
              "                popup_5034f83168e939d1a7778bd1753e27b7.setContent(html_24072c04498e665087b00c8db580e587);\n",
              "            \n",
              "        \n",
              "\n",
              "        marker_efb058734f1fd74f804f685fc743e4ba.bindPopup(popup_5034f83168e939d1a7778bd1753e27b7)\n",
              "        ;\n",
              "\n",
              "        \n",
              "    \n",
              "    \n",
              "            var marker_a44f3810016e70ccfe32ddc4e8516a4c = L.marker(\n",
              "                [32.675556, -97.323056],\n",
              "                {\n",
              "}\n",
              "            ).addTo(map_b3ef0a901766b62eefe44dd736611518);\n",
              "        \n",
              "    \n",
              "            var icon_3979876df7e6e0ae24c452abfc75e685 = L.AwesomeMarkers.icon(\n",
              "                {\n",
              "  &quot;markerColor&quot;: &quot;blue&quot;,\n",
              "  &quot;iconColor&quot;: &quot;white&quot;,\n",
              "  &quot;icon&quot;: &quot;info-sign&quot;,\n",
              "  &quot;prefix&quot;: &quot;glyphicon&quot;,\n",
              "  &quot;extraClasses&quot;: &quot;fa-rotate-0&quot;,\n",
              "}\n",
              "            );\n",
              "            marker_a44f3810016e70ccfe32ddc4e8516a4c.setIcon(icon_3979876df7e6e0ae24c452abfc75e685);\n",
              "        \n",
              "    \n",
              "        var popup_10b68450b67f39f9cfdb6d4d9411ce20 = L.popup({\n",
              "  &quot;maxWidth&quot;: &quot;100%&quot;,\n",
              "});\n",
              "\n",
              "        \n",
              "            \n",
              "                var html_897a99e404a9db231328e2ee44c2da5a = $(`&lt;div id=&quot;html_897a99e404a9db231328e2ee44c2da5a&quot; style=&quot;width: 100.0%; height: 100.0%;&quot;&gt;Other site: 48-439-0070&lt;/div&gt;`)[0];\n",
              "                popup_10b68450b67f39f9cfdb6d4d9411ce20.setContent(html_897a99e404a9db231328e2ee44c2da5a);\n",
              "            \n",
              "        \n",
              "\n",
              "        marker_a44f3810016e70ccfe32ddc4e8516a4c.bindPopup(popup_10b68450b67f39f9cfdb6d4d9411ce20)\n",
              "        ;\n",
              "\n",
              "        \n",
              "    \n",
              "&lt;/script&gt;\n",
              "&lt;/html&gt;\" style=\"position:absolute;width:100%;height:100%;left:0;top:0;border:none !important;\" allowfullscreen webkitallowfullscreen mozallowfullscreen></iframe></div></div>"
            ]
          },
          "metadata": {},
          "execution_count": 34
        }
      ],
      "source": [
        "# Create a Folium map centered at the airport with an adjustable zoom level\n",
        "m = folium.Map(location=[AIRPORT_LAT, AIRPORT_LON], zoom_start=10)\n",
        "\n",
        "# Draw a radius circle around the airport to represent the 'nearby' zone\n",
        "folium.Circle(\n",
        "    location=[AIRPORT_LAT, AIRPORT_LON],  # Center of the circle (airport location)\n",
        "    radius=NEARBY_RADIUS * 1000,  # Radius in meters\n",
        "    color='red',\n",
        "    fill=False,\n",
        "    popup=f'{NEARBY_RADIUS} km Radius'  # Tooltip that appears when the circle is clicked\n",
        ").add_to(m)\n",
        "\n",
        "# Add markers for 'nearby' sites (within radius of the airport)\n",
        "for site_id in nearby_site_ids_list:\n",
        "    # Get latitude and longitude of the site\n",
        "    lat = site_locations.loc[site_id, 'Latitude']\n",
        "    lon = site_locations.loc[site_id, 'Longitude']\n",
        "\n",
        "    # Add a red marker for the site with a popup showing its ID\n",
        "    folium.Marker(\n",
        "        location=[lat, lon],  # Site location\n",
        "        icon=folium.Icon(color='red', icon='info-sign'),  # Red icon for nearby sites\n",
        "        popup=f\"Nearby site: {site_id}\"  # Popup text showing the site ID\n",
        "    ).add_to(m)\n",
        "\n",
        "# Add markers for 'other' sites (beyond radius from the airport)\n",
        "for site_id in all_site_ids_list:\n",
        "    # Get latitude and longitude of the site\n",
        "    lat = site_locations.loc[site_id, 'Latitude']\n",
        "    lon = site_locations.loc[site_id, 'Longitude']\n",
        "\n",
        "    # Add a blue marker for the site with a popup showing its ID\n",
        "    folium.Marker(\n",
        "        location=[lat, lon],  # Site location\n",
        "        icon=folium.Icon(color='blue', icon='info-sign'),  # Blue icon for other sites\n",
        "        popup=f\"Other site: {site_id}\"  # Popup text showing the site ID\n",
        "    ).add_to(m)\n",
        "\n",
        "# Display the map\n",
        "m\n"
      ]
    },
    {
      "cell_type": "markdown",
      "metadata": {
        "id": "d7ArgqQmrWzr"
      },
      "source": [
        "# **Visualisation for CO: (42101 Carbon Monoxide)**"
      ]
    },
    {
      "cell_type": "markdown",
      "metadata": {
        "id": "gbjlRns68xRh"
      },
      "source": [
        "Merge data"
      ]
    },
    {
      "cell_type": "code",
      "execution_count": null,
      "metadata": {
        "id": "8m_-8xrk2R06",
        "colab": {
          "base_uri": "https://localhost:8080/"
        },
        "outputId": "176a06aa-e434-4007-feb2-a911c10de26b"
      },
      "outputs": [
        {
          "output_type": "stream",
          "name": "stdout",
          "text": [
            "Len of all data:  26\n",
            "Len of nearby data:  17802\n",
            "Len of all data:  28698\n",
            "Len of nearby daily data:  8909\n",
            "Len of all daily data:  9030\n",
            "Len of plot daily data:  8627\n",
            "                       Site Id\n",
            "Year                          \n",
            "1999  48-439-0057, 48-439-1002\n",
            "2000  48-439-0057, 48-439-1002\n",
            "2001  48-439-0057, 48-439-1002\n",
            "2002  48-439-1002, 48-439-3011\n",
            "2003  48-439-1002, 48-439-3011\n",
            "2004  48-439-1002, 48-439-3011\n",
            "2005  48-439-1002, 48-439-3011\n",
            "2006  48-439-1002, 48-439-3011\n",
            "2007  48-439-1002, 48-439-3011\n",
            "2008  48-439-1002, 48-439-3011\n",
            "2009  48-439-1002, 48-439-3011\n",
            "2010  48-439-1002, 48-439-3011\n",
            "2011  48-439-1002, 48-439-3011\n",
            "2012  48-439-1002, 48-439-3011\n",
            "2013  48-439-1002, 48-439-3011\n",
            "2014  48-439-1002, 48-439-3011\n",
            "2015               48-439-1053\n",
            "2016               48-439-1053\n",
            "2017               48-439-1053\n",
            "2018               48-439-1053\n",
            "2019               48-439-1053\n",
            "2020               48-439-1053\n",
            "2021               48-439-1053\n",
            "2022               48-439-1053\n",
            "2023               48-439-1053\n",
            "2024               48-439-1053\n",
            "          Site Id\n",
            "Year             \n",
            "1999  48-113-0069\n",
            "2000  48-113-0069\n",
            "2001  48-113-0069\n",
            "2002  48-113-0069\n",
            "2003  48-113-0069\n",
            "2004  48-113-0069\n",
            "2005  48-113-0069\n",
            "2006  48-113-0069\n",
            "2007  48-113-0069\n",
            "2008  48-113-0069\n",
            "2009  48-113-0069\n",
            "2010  48-113-0069\n",
            "2011  48-113-0069\n",
            "2012  48-113-0069\n",
            "2013  48-113-0069\n",
            "2014  48-113-0069\n",
            "2015  48-113-0069\n",
            "2016  48-113-0069\n",
            "2017  48-113-0069\n",
            "2018  48-113-0069\n",
            "2019  48-113-0069\n",
            "2020  48-113-0069\n",
            "2021  48-113-0069\n",
            "2022  48-113-0069\n",
            "2023  48-113-0069\n",
            "2024  48-113-0069\n"
          ]
        }
      ],
      "source": [
        "# For CO: Parameter Code 42101\n",
        "co_nearby_daily, co_all_daily, co_plot_daily, co_nearby, co_all, co_siteyear = get_pollutant_data(42101, nearby_site_ids_list, all_site_ids_list)\n",
        "\n",
        "co_all['Year'] = co_all['Date Local'].dt.year\n",
        "print(co_all[['Year', 'Site Id']].groupby('Year').agg(lambda x: ', '.join(x.unique())).sort_index())\n",
        "\n",
        "co_nearby['Year'] = co_nearby['Date Local'].dt.year\n",
        "print(co_nearby[['Year', 'Site Id']].groupby('Year').agg(lambda x: ', '.join(x.unique())).sort_index())"
      ]
    },
    {
      "cell_type": "markdown",
      "metadata": {
        "id": "MAHMkqi_-Ua4"
      },
      "source": [
        "Visualisation: Daily Line Chart"
      ]
    },
    {
      "cell_type": "code",
      "execution_count": null,
      "metadata": {
        "colab": {
          "base_uri": "https://localhost:8080/",
          "height": 928
        },
        "id": "_DjOGGW2-eLr",
        "outputId": "848007eb-c087-4e96-ed5c-76005935f078"
      },
      "outputs": [
        {
          "output_type": "stream",
          "name": "stdout",
          "text": [
            "=== Homoscedasticity Test (Breusch-Pagan) ===\n",
            "  Lagrange multiplier statistic = 378.3365\n",
            "  p-value                        = 2.865e-84\n",
            "  => Likely Heteroscedastic\n",
            "\n",
            "=== Independence of Errors (Durbin-Watson) ===\n",
            "  Durbin-Watson Statistic = 0.5634\n",
            "  => Possible positive autocorrelation\n",
            "{'breusch_pagan_stat': 378.33651088993736, 'breusch_pagan_pvalue': 2.865042219392599e-84, 'durbin_watson_stat': 0.5634154564954044}\n",
            "==== [DAILY] Regression Analysis (Filtered) ====\n",
            "[Nearby Sites]:\n",
            "  Slope = -0.000028, Intercept = 21.075812\n",
            "  R-value = -0.4711,  P-value = 0,  StdErr = 0.000001\n",
            "\n",
            "[Other Sites]:\n",
            "  Slope = -0.000016, Intercept = 11.950537\n",
            "  R-value = -0.2801,  P-value = 2.973e-155,  StdErr = 0.000001\n",
            "\n"
          ]
        },
        {
          "output_type": "display_data",
          "data": {
            "text/plain": [
              "<Figure size 1000x600 with 1 Axes>"
            ],
            "image/png": "[encoded data removed]"
          },
          "metadata": {}
        }
      ],
      "source": [
        "show_daily_line_chart(co_plot_daily, \"CO\", \"ppm\")"
      ]
    },
    {
      "cell_type": "markdown",
      "metadata": {
        "id": "UDLOOqQT-1jE"
      },
      "source": [
        "Visualisation: Annual Line Chart"
      ]
    },
    {
      "cell_type": "code",
      "execution_count": null,
      "metadata": {
        "colab": {
          "base_uri": "https://localhost:8080/",
          "height": 1000
        },
        "id": "Xr4F0_zu-6Sg",
        "outputId": "ebd79516-d9a1-496d-d221-1716feffe837"
      },
      "outputs": [
        {
          "output_type": "stream",
          "name": "stdout",
          "text": [
            "Annual mean for nearby sites:\n",
            "     year  pollutant_mean_nearby\n",
            "0   1999               0.342774\n",
            "1   2000               0.387544\n",
            "2   2001               0.386357\n",
            "3   2002               0.336885\n",
            "4   2003               0.422337\n",
            "5   2004               0.411593\n",
            "6   2005               0.411152\n",
            "7   2006               0.339342\n",
            "8   2007               0.373051\n",
            "9   2008               0.310185\n",
            "10  2009               0.288854\n",
            "11  2010               0.263726\n",
            "12  2011               0.293159\n",
            "13  2012               0.209442\n",
            "14  2013               0.232048\n",
            "15  2014               0.210782\n",
            "16  2015               0.223485\n",
            "17  2016               0.213362\n",
            "18  2017               0.188662\n",
            "19  2018               0.215659\n",
            "20  2019               0.181881\n",
            "21  2020               0.190592\n",
            "22  2021               0.192289\n",
            "23  2022               0.176749\n",
            "24  2023               0.201600\n",
            "25  2024               0.204189\n",
            "\n",
            "Annual mean for other sites in Dallas\n",
            "     year  pollutant_mean_all\n",
            "0   1999            0.695812\n",
            "1   2000            0.477940\n",
            "2   2001            0.451679\n",
            "3   2002            0.366840\n",
            "4   2003            0.404869\n",
            "5   2004            0.388220\n",
            "6   2005            0.374118\n",
            "7   2006            0.292608\n",
            "8   2007            0.267999\n",
            "9   2008            0.240126\n",
            "10  2009            0.239502\n",
            "11  2010            0.228632\n",
            "12  2011            0.226311\n",
            "13  2012            0.244537\n",
            "14  2013            0.236957\n",
            "15  2014            0.220124\n",
            "16  2015            0.350821\n",
            "17  2016            0.374709\n",
            "18  2017            0.371637\n",
            "19  2018            0.358764\n",
            "20  2019            0.337767\n",
            "21  2020            0.310919\n",
            "22  2021            0.356356\n",
            "23  2022            0.314331\n",
            "24  2023            0.323713\n",
            "25  2024            0.391510\n",
            "==== [ANNUAL] Regression Analysis (Filtered) ====\n",
            "[Nearby Sites]:\n",
            "  Slope = -0.009945, Intercept = 20.280690\n",
            "  R-value = -0.9007,  P-value = 3.636e-10,  StdErr = 0.000979\n",
            "\n",
            "[Other Sites]:\n",
            "  Slope = -0.004869, Intercept = 10.133633\n",
            "  R-value = -0.3646,  P-value = 0.06708,  StdErr = 0.002538\n",
            "\n"
          ]
        },
        {
          "output_type": "display_data",
          "data": {
            "text/plain": [
              "<Figure size 1000x500 with 1 Axes>"
            ],
            "image/png": "[encoded data removed]"
          },
          "metadata": {}
        }
      ],
      "source": [
        "show_annual_line_chart(co_nearby_daily, co_all_daily, \"CO\", \"ppm\")"
      ]
    },
    {
      "cell_type": "markdown",
      "metadata": {
        "id": "KfU7TqFm_0vn"
      },
      "source": [
        "More Visualisation (Box Plot, Violin Plot)"
      ]
    },
    {
      "cell_type": "code",
      "execution_count": null,
      "metadata": {
        "id": "EutkbEbnAAVz",
        "colab": {
          "base_uri": "https://localhost:8080/",
          "height": 1000
        },
        "outputId": "8f197550-f95d-4352-cc14-828dbff9103d"
      },
      "outputs": [
        {
          "output_type": "display_data",
          "data": {
            "text/plain": [
              "<Figure size 800x600 with 1 Axes>"
            ],
            "image/png": "[encoded data removed]"
          },
          "metadata": {}
        },
        {
          "output_type": "display_data",
          "data": {
            "text/plain": [
              "<Figure size 800x600 with 1 Axes>"
            ],
            "image/png": "[encoded data removed]"
          },
          "metadata": {}
        }
      ],
      "source": [
        "show_other_visualisations(co_nearby, co_all, \"CO\", \"ppm\")"
      ]
    },
    {
      "cell_type": "markdown",
      "metadata": {
        "id": "aGdEtf7TAfEz"
      },
      "source": [
        "Map & Graph : Spatial Analysis"
      ]
    },
    {
      "cell_type": "code",
      "execution_count": null,
      "metadata": {
        "id": "IOMZw-nuAgk0",
        "colab": {
          "base_uri": "https://localhost:8080/",
          "height": 599,
          "referenced_widgets": [
            "e9ab155195de445f867a5512b8a932fa",
            "501a0f553db04eb983de6d9fbc5bf61a",
            "5d67d8e544e24affb528302b0b883d23",
            "081221565078454ea8800addd2bccf60",
            "06a900d6938941a286026dae52e60926",
            "5dc58d1e9ac4463a8797c6c8e7fdc0c1",
            "bd1556d5eef44e83b6b910b96c557915"
          ]
        },
        "outputId": "671e0c98-dafb-4879-eb9b-9676e7c0fa9e"
      },
      "outputs": [
        {
          "output_type": "display_data",
          "data": {
            "text/plain": [
              "interactive(children=(Dropdown(description='Select Year:', options=(1999, 2000, 2001, 2002, 2003, 2004, 2005, …"
            ],
            "application/vnd.jupyter.widget-view+json": {
              "version_major": 2,
              "version_minor": 0,
              "model_id": "e9ab155195de445f867a5512b8a932fa"
            }
          },
          "metadata": {}
        }
      ],
      "source": [
        "spatial_analysis(co_siteyear, \"CO\", \"ppm\", site_locations)\n"
      ]
    },
    {
      "cell_type": "markdown",
      "metadata": {
        "id": "W2gne-zVNrTO"
      },
      "source": [
        "# **Analysis & Hypothesis Testing for CO: (42101 Carbon Monoxide)**"
      ]
    },
    {
      "cell_type": "markdown",
      "metadata": {
        "id": "dY5S8VzXOBvf"
      },
      "source": [
        "Correlation & Proximity Analysis"
      ]
    },
    {
      "cell_type": "code",
      "execution_count": null,
      "metadata": {
        "id": "jf1wgucQOAUp",
        "colab": {
          "base_uri": "https://localhost:8080/",
          "height": 446
        },
        "outputId": "be879904-dae5-4a99-ac36-e74a023b2f3c"
      },
      "outputs": [
        {
          "output_type": "stream",
          "name": "stdout",
          "text": [
            "Pearson correlation coefficient between 25-year average CO and distance (1999-2024): -0.1032, p-value: 0.8688\n",
            "Spearman correlation coefficient between 25-year average CO and distance (1999-2024): 0.4000, p-value: 0.5046\n"
          ]
        },
        {
          "output_type": "display_data",
          "data": {
            "text/plain": [
              "<Figure size 600x400 with 1 Axes>"
            ],
            "image/png": "[encoded data removed]"
          },
          "metadata": {}
        }
      ],
      "source": [
        "correlation_proximity_analysis(co_siteyear, \"CO\", \"ppm\", distances)"
      ]
    },
    {
      "cell_type": "markdown",
      "metadata": {
        "id": "WRr9F4EMTBZ3"
      },
      "source": [
        "# Atlanta intepretation based on the results:\n",
        "\n",
        "1. **Pearson Correlation Coefficient**:\n",
        "   - The Pearson correlation coefficient is **-0.6099**, suggesting a moderate negative linear relationship between distance from the airport and the 5-year average CO concentration.\n",
        "\n",
        "   - The **p-value** is 0.1986, which is greater than 0.05. This indicates that the observed correlation is not statistically significant at the 95% confidence level.\n",
        "\n",
        "2. **Spearman Correlation Coefficient**:\n",
        "   - The Spearman correlation coefficient is **-0.2571**, suggesting a weak negative monotonic relationship between distance and CO concentration.\n",
        "   - The **p-value** is 0.6228, also greater than 0.05, meaning the relationship is not statistically significant as well.\n",
        "\n",
        "3. **Scatter Plot**:\n",
        "   - The scatter plot shows some variability in CO concentrations with distance -- Not a strong trend suggesting a definitive relationship\n",
        "\n",
        "**Interpretation:**\n",
        "While there appears to be a negative correlation in the Pearson analysis, the lack of statistical significance (high p-values for both Pearson and Spearman tests) suggests that the relationship between distance and CO concentration cannot be reliably concluded."
      ]
    },
    {
      "cell_type": "markdown",
      "source": [
        "# Dallas intepretation based on the results:"
      ],
      "metadata": {
        "id": "yssZCUsuh2uY"
      }
    },
    {
      "cell_type": "markdown",
      "metadata": {
        "id": "C0XYbgPTpasj"
      },
      "source": [
        "**Preparation for hypothesis testing**"
      ]
    },
    {
      "cell_type": "code",
      "execution_count": null,
      "metadata": {
        "id": "VjKEBuPdpXU8",
        "colab": {
          "base_uri": "https://localhost:8080/"
        },
        "outputId": "01e7de73-4531-4e8b-8a9c-56705ef2ea27"
      },
      "outputs": [
        {
          "output_type": "stream",
          "name": "stdout",
          "text": [
            "After filtering 1999 to 2024, total records: 8627\n"
          ]
        }
      ],
      "source": [
        "co_plot_daily_hypothesis_testing = get_hypothesis_testing_data(co_plot_daily)"
      ]
    },
    {
      "cell_type": "markdown",
      "metadata": {
        "id": "4TCVPxPcP4g9"
      },
      "source": [
        "**Hypothesis 1: Does proximity have an impact on air quality**"
      ]
    },
    {
      "cell_type": "code",
      "execution_count": null,
      "metadata": {
        "id": "RwIEYbqkQAQa",
        "colab": {
          "base_uri": "https://localhost:8080/"
        },
        "outputId": "189e65b7-098a-4911-b501-87e7d35c0fdc"
      },
      "outputs": [
        {
          "output_type": "stream",
          "name": "stdout",
          "text": [
            "[Hypothesis 1] Paired t-test: near vs. far, daily CO from 1999 to 2024\n",
            "\n",
            "T-statistic = -34.8238, p-value = 9.889e-249\n",
            "=> Reject H0: There is a significant difference between CO concentration near and far from the airport.\n",
            "=> Far sites have higher daily CO on average.\n"
          ]
        }
      ],
      "source": [
        "test_proximity_hypothesis(co_plot_daily_hypothesis_testing, \"CO\")"
      ]
    },
    {
      "cell_type": "markdown",
      "metadata": {
        "id": "AkLaT00Bn16s"
      },
      "source": [
        "**Hypothesis 2: Policy Effectiveness (Before vs. After Policy)**"
      ]
    },
    {
      "cell_type": "code",
      "execution_count": null,
      "metadata": {
        "id": "_eNEkdQgn1AU",
        "colab": {
          "base_uri": "https://localhost:8080/"
        },
        "outputId": "70bfb1ff-8207-4773-ef8d-a98e05a2165b"
      },
      "outputs": [
        {
          "output_type": "stream",
          "name": "stdout",
          "text": [
            "[Hypothesis 2] Policy effectiveness: before vs. after 2010 (nearby sites)\n",
            "T-statistic = 46.3509, p-value = 0\n",
            "=> Reject H0: There is a significant difference in near-site CO before vs. after 2010.\n",
            "=> Policy to reduce emissions is effective: emissions significantly decreased after implementation.\n"
          ]
        }
      ],
      "source": [
        "test_policy_hypothesis(co_plot_daily_hypothesis_testing, \"CO\", POLICY_YEAR)\n"
      ]
    },
    {
      "cell_type": "markdown",
      "metadata": {
        "id": "gWmJWM25wPkq"
      },
      "source": [
        "# Visualisation for NO₂: (42602 Nitrogen Dioxide)"
      ]
    },
    {
      "cell_type": "markdown",
      "metadata": {
        "id": "Bf0gJlQ4xZ6L"
      },
      "source": [
        "Merge data"
      ]
    },
    {
      "cell_type": "code",
      "execution_count": null,
      "metadata": {
        "id": "50etdodvwmhI"
      },
      "outputs": [],
      "source": [
        "no2_nearby_daily, no2_all_daily, no2_plot_daily, no2_nearby, no2_all, no2_siteyear = get_pollutant_data(42602, nearby_site_ids_list, all_site_ids_list)\n",
        "\n",
        "no2_all['Year'] = no2_all['Date Local'].dt.year\n",
        "print(no2_all[['Year', 'Site Id']].groupby('Year').agg(lambda x: ', '.join(x.unique())).sort_index())\n",
        "\n",
        "no2_nearby['Year'] = no2_nearby['Date Local'].dt.year\n",
        "print(no2_nearby[['Year', 'Site Id']].groupby('Year').agg(lambda x: ', '.join(x.unique())).sort_index())"
      ]
    },
    {
      "cell_type": "markdown",
      "metadata": {
        "id": "FYQL1oBmxhQ-"
      },
      "source": [
        "Visualisation: Daily Line Chart"
      ]
    },
    {
      "cell_type": "code",
      "execution_count": null,
      "metadata": {
        "id": "BvKJ20Smxlam"
      },
      "outputs": [],
      "source": [
        "# Merge the two datasets to facilitate plotting\n",
        "show_daily_line_chart(no2_plot_daily, \"NO₂\", \"ppb\")"
      ]
    },
    {
      "cell_type": "markdown",
      "metadata": {
        "id": "Yae78J4qyM7S"
      },
      "source": [
        "Visualisation: Annual Line Chart"
      ]
    },
    {
      "cell_type": "code",
      "execution_count": null,
      "metadata": {
        "id": "3VM3xFqUyQhO"
      },
      "outputs": [],
      "source": [
        "show_annual_line_chart(no2_nearby_daily, no2_all_daily, \"NO₂\", \"ppb\")"
      ]
    },
    {
      "cell_type": "markdown",
      "metadata": {
        "id": "dQDzZbvwyx5C"
      },
      "source": [
        "More Visualisation (Box Plot, Violin Plot)"
      ]
    },
    {
      "cell_type": "code",
      "execution_count": null,
      "metadata": {
        "id": "gX02CjcKy0fp"
      },
      "outputs": [],
      "source": [
        "show_other_visualisations(no2_nearby, no2_all, \"NO₂\", \"ppb\")\n"
      ]
    },
    {
      "cell_type": "markdown",
      "metadata": {
        "id": "oGALF3uz0oFt"
      },
      "source": [
        "Map & Graph: Spacial Data Analysis"
      ]
    },
    {
      "cell_type": "code",
      "execution_count": null,
      "metadata": {
        "id": "T8MbLoMm0ury"
      },
      "outputs": [],
      "source": [
        "spatial_analysis(no2_siteyear, \"NO₂\", \"ppb\", site_locations)"
      ]
    },
    {
      "cell_type": "markdown",
      "metadata": {
        "id": "b-FrVXIwZ1T6"
      },
      "source": [
        "# Analysis & Hypothesis Testing for NO₂: (42602 Nitrogen Dioxide)"
      ]
    },
    {
      "cell_type": "markdown",
      "metadata": {
        "id": "cfAT4s1FaB4j"
      },
      "source": [
        "Correlation & Proximity Analysis"
      ]
    },
    {
      "cell_type": "code",
      "execution_count": null,
      "metadata": {
        "id": "PbE-djguZ_Zc"
      },
      "outputs": [],
      "source": [
        "correlation_proximity_analysis(no2_siteyear, \"NO₂\", \"ppb\", distances)\n"
      ]
    },
    {
      "cell_type": "markdown",
      "metadata": {
        "id": "qt36D9uMa3FN"
      },
      "source": [
        "Preparation for hypothesis testing"
      ]
    },
    {
      "cell_type": "code",
      "execution_count": null,
      "metadata": {
        "id": "6z75RadYa-HN"
      },
      "outputs": [],
      "source": [
        "no2_plot_daily_hypothesis_testing = get_hypothesis_testing_data(no2_plot_daily)"
      ]
    },
    {
      "cell_type": "markdown",
      "metadata": {
        "id": "eMJ_dn_kb9Dk"
      },
      "source": [
        "Hypothesis 1: Does proximity have an impact on air quality"
      ]
    },
    {
      "cell_type": "code",
      "execution_count": null,
      "metadata": {
        "id": "MCNdR6VpcDV7"
      },
      "outputs": [],
      "source": [
        "test_proximity_hypothesis(no2_plot_daily_hypothesis_testing, \"NO₂\")\n",
        "\n"
      ]
    },
    {
      "cell_type": "markdown",
      "metadata": {
        "id": "o1ACCE9xcqrD"
      },
      "source": [
        "Hypothesis 2: Policy Effectiveness (Before vs. After Policy)"
      ]
    },
    {
      "cell_type": "code",
      "execution_count": null,
      "metadata": {
        "id": "Qla8AyfXcrl8"
      },
      "outputs": [],
      "source": [
        "test_policy_hypothesis(no2_plot_daily_hypothesis_testing, \"NO₂\", POLICY_YEAR)\n"
      ]
    },
    {
      "cell_type": "markdown",
      "metadata": {
        "id": "umXp6nnfdZUR"
      },
      "source": [
        "# Visualisation for SO₂:(42401 Sulfur Dioxide)"
      ]
    },
    {
      "cell_type": "markdown",
      "metadata": {
        "id": "m8M6BcSGd0c6"
      },
      "source": [
        "Merge data"
      ]
    },
    {
      "cell_type": "code",
      "execution_count": null,
      "metadata": {
        "id": "peOGJolyd1we"
      },
      "outputs": [],
      "source": [
        "so2_nearby_daily, so2_all_daily, so2_plot_daily, so2_nearby, so2_all, so2_siteyear = get_pollutant_data(42401, nearby_site_ids_list, all_site_ids_list)\n",
        "\n",
        "so2_all['Year'] = so2_all['Date Local'].dt.year\n",
        "print(so2_all[['Year', 'Site Id']].groupby('Year').agg(lambda x: ', '.join(x.unique())).sort_index())\n",
        "\n",
        "so2_nearby['Year'] = so2_nearby['Date Local'].dt.year\n",
        "print(so2_nearby[['Year', 'Site Id']].groupby('Year').agg(lambda x: ', '.join(x.unique())).sort_index())"
      ]
    },
    {
      "cell_type": "markdown",
      "metadata": {
        "id": "bD0Tph88hnvf"
      },
      "source": [
        "Visualisation: Daily Line Chart"
      ]
    },
    {
      "cell_type": "code",
      "execution_count": null,
      "metadata": {
        "id": "QdMPjGTNhr4o"
      },
      "outputs": [],
      "source": [
        "show_daily_line_chart(so2_plot_daily, \"SO₂\", \"ppm\")"
      ]
    },
    {
      "cell_type": "markdown",
      "metadata": {
        "id": "4dR0FB0PlVXL"
      },
      "source": [
        "Visualisation: Annual Line Chart"
      ]
    },
    {
      "cell_type": "code",
      "execution_count": null,
      "metadata": {
        "id": "T-AqxSPclbZ3"
      },
      "outputs": [],
      "source": [
        "show_annual_line_chart(so2_nearby_daily, so2_all_daily, \"SO₂\", \"ppm\")"
      ]
    },
    {
      "cell_type": "markdown",
      "metadata": {
        "id": "SNZ4e5e8nv8r"
      },
      "source": [
        "More visualisation(Box Plot, Violin Plot)"
      ]
    },
    {
      "cell_type": "code",
      "execution_count": null,
      "metadata": {
        "id": "fA5cX28-n5NI"
      },
      "outputs": [],
      "source": [
        "show_other_visualisations(so2_nearby, so2_all, \"SO₂\", \"ppb\")\n"
      ]
    },
    {
      "cell_type": "markdown",
      "metadata": {
        "id": "czuG2TMsoTXj"
      },
      "source": [
        "Map & Graph: Spatial Analysis"
      ]
    },
    {
      "cell_type": "code",
      "execution_count": null,
      "metadata": {
        "id": "i24w1qB4oZ2K"
      },
      "outputs": [],
      "source": [
        "spatial_analysis(so2_siteyear, \"SO₂\", \"ppb\", site_locations)\n"
      ]
    },
    {
      "cell_type": "markdown",
      "metadata": {
        "id": "pG0QHowYq0a1"
      },
      "source": [
        "# Analysis & Hypothesis Testing for SO₂: (42401 Sulfur Dioxide)"
      ]
    },
    {
      "cell_type": "markdown",
      "metadata": {
        "id": "0EafK4HAq9-1"
      },
      "source": [
        "Correlation & Proximity Analysis"
      ]
    },
    {
      "cell_type": "code",
      "execution_count": null,
      "metadata": {
        "id": "FoKFLuBwrBpt"
      },
      "outputs": [],
      "source": [
        "correlation_proximity_analysis(so2_siteyear, \"SO₂\", \"ppb\", distances)\n"
      ]
    },
    {
      "cell_type": "markdown",
      "metadata": {
        "id": "4ssPz99zrbaI"
      },
      "source": [
        "Preparation for hypothesis testing"
      ]
    },
    {
      "cell_type": "code",
      "execution_count": null,
      "metadata": {
        "id": "oEHtjCqXrec7"
      },
      "outputs": [],
      "source": [
        "so2_plot_daily_hypothesis_testing = get_hypothesis_testing_data(so2_plot_daily)"
      ]
    },
    {
      "cell_type": "markdown",
      "metadata": {
        "id": "eMhV2x59ro0_"
      },
      "source": [
        "Hypothesis 1: Does proximity have an impact on air quality"
      ]
    },
    {
      "cell_type": "code",
      "execution_count": null,
      "metadata": {
        "id": "-iAFfzXmrqhp"
      },
      "outputs": [],
      "source": [
        "test_proximity_hypothesis(so2_plot_daily_hypothesis_testing, \"SO₂\")\n",
        "\n"
      ]
    },
    {
      "cell_type": "markdown",
      "metadata": {
        "id": "3aTlJtG4sHmI"
      },
      "source": [
        "Hypothesis 2: Policy Effectiveness (Before vs. After Policy)"
      ]
    },
    {
      "cell_type": "code",
      "execution_count": null,
      "metadata": {
        "id": "q_vxJsgzsLw0"
      },
      "outputs": [],
      "source": [
        "test_policy_hypothesis(so2_plot_daily_hypothesis_testing, \"SO2\", 2009)\n"
      ]
    },
    {
      "cell_type": "markdown",
      "metadata": {
        "id": "KZvLxP8aGSRd"
      },
      "source": []
    },
    {
      "cell_type": "markdown",
      "metadata": {
        "id": "Jq1LOqOIGS77"
      },
      "source": [
        "# Visualisation for PM10: (81102)"
      ]
    },
    {
      "cell_type": "markdown",
      "metadata": {
        "id": "c-NR_d1oGwja"
      },
      "source": [
        "Merge data"
      ]
    },
    {
      "cell_type": "code",
      "execution_count": null,
      "metadata": {
        "id": "gOQc8-nyGxxB"
      },
      "outputs": [],
      "source": [
        "pm10_nearby_daily, pm10_all_daily, pm10_plot_daily, pm10_nearby, pm10_all, pm10_siteyear = get_pollutant_data(81102, nearby_site_ids_list, all_site_ids_list)\n",
        "\n",
        "pm10_all['Year'] = pm10_all['Date Local'].dt.year\n",
        "print(pm10_all[['Year', 'Site Id']].groupby('Year').agg(lambda x: ', '.join(x.unique())).sort_index())\n",
        "\n",
        "pm10_nearby['Year'] = pm10_nearby['Date Local'].dt.year\n",
        "print(pm10_nearby[['Year', 'Site Id']].groupby('Year').agg(lambda x: ', '.join(x.unique())).sort_index())"
      ]
    },
    {
      "cell_type": "markdown",
      "metadata": {
        "id": "7vmnFBDWHO0n"
      },
      "source": [
        "Visualisation: Daily Line Chart"
      ]
    },
    {
      "cell_type": "code",
      "execution_count": null,
      "metadata": {
        "id": "TERYwEpiHR1E"
      },
      "outputs": [],
      "source": [
        "show_daily_line_chart(pm10_plot_daily, \"PM10\", \"µg/m3\")"
      ]
    },
    {
      "cell_type": "markdown",
      "metadata": {
        "id": "Ehkyii1cHpCO"
      },
      "source": [
        "Visualisation: Annual Line Chart"
      ]
    },
    {
      "cell_type": "code",
      "execution_count": null,
      "metadata": {
        "id": "ufQTIR8eHt8x"
      },
      "outputs": [],
      "source": [
        "show_annual_line_chart(pm10_nearby_daily, pm10_all_daily, \"PM10\", \"µg/m3\")\n"
      ]
    },
    {
      "cell_type": "markdown",
      "metadata": {
        "id": "J_8ehU1QL7L-"
      },
      "source": [
        "More Visualisation (Box Plot, Violin Plot)"
      ]
    },
    {
      "cell_type": "code",
      "execution_count": null,
      "metadata": {
        "id": "Ryf0059kL7p9"
      },
      "outputs": [],
      "source": [
        "show_other_visualisations(pm10_nearby, pm10_all, \"PM10\", \"µg/m3\")"
      ]
    },
    {
      "cell_type": "markdown",
      "metadata": {
        "id": "f_0Fpr0pNEy-"
      },
      "source": [
        "Map & Graph : Spatial Analysis"
      ]
    },
    {
      "cell_type": "code",
      "execution_count": null,
      "metadata": {
        "id": "9BRgIVljNHaL"
      },
      "outputs": [],
      "source": [
        "spatial_analysis(pm10_siteyear, \"PM10\", \"µg/m3\", site_locations)"
      ]
    },
    {
      "cell_type": "markdown",
      "metadata": {
        "id": "wuXuJ-AaNkLA"
      },
      "source": []
    },
    {
      "cell_type": "markdown",
      "metadata": {
        "id": "Y5ZHu3krNk4L"
      },
      "source": [
        "# Analysis & Hypothesis Tesing for PM10:(81102)"
      ]
    },
    {
      "cell_type": "markdown",
      "metadata": {
        "id": "sLqyQAW_Nvle"
      },
      "source": [
        "Correlation & Proximity Analysis"
      ]
    },
    {
      "cell_type": "code",
      "execution_count": null,
      "metadata": {
        "id": "ajx4ZmZnNz7W"
      },
      "outputs": [],
      "source": [
        "correlation_proximity_analysis(pm10_siteyear, \"PM10\", \"µg/m3\", distances)\n"
      ]
    },
    {
      "cell_type": "markdown",
      "metadata": {
        "id": "6dPunNkxOTWi"
      },
      "source": [
        "Preparation for hypothesis testing"
      ]
    },
    {
      "cell_type": "code",
      "execution_count": null,
      "metadata": {
        "id": "3h5wmPImOWQ_"
      },
      "outputs": [],
      "source": [
        "pm10_plot_daily_hypothesis_testing = get_hypothesis_testing_data(pm10_plot_daily)"
      ]
    },
    {
      "cell_type": "markdown",
      "metadata": {
        "id": "DtyS-uuIREsn"
      },
      "source": [
        "Hypothesis 1: Does proximity have an impact on air quality"
      ]
    },
    {
      "cell_type": "code",
      "execution_count": null,
      "metadata": {
        "id": "uJG6TqTDRF6i"
      },
      "outputs": [],
      "source": [
        "test_proximity_hypothesis(pm10_plot_daily_hypothesis_testing, \"PM10\")\n"
      ]
    },
    {
      "cell_type": "markdown",
      "metadata": {
        "id": "oI_71c01TKId"
      },
      "source": [
        "Hypothesis 2: Policy Effectiveness (Before vs. After Policy)"
      ]
    },
    {
      "cell_type": "code",
      "execution_count": null,
      "metadata": {
        "id": "Oro70hkRTK47"
      },
      "outputs": [],
      "source": [
        "test_policy_hypothesis(pm10_plot_daily_hypothesis_testing, \"PM10\", POLICY_YEAR)"
      ]
    },
    {
      "cell_type": "markdown",
      "metadata": {
        "id": "CwSCNmhBdG23"
      },
      "source": [
        "# Visualisation for PM2.5: (88101)"
      ]
    },
    {
      "cell_type": "markdown",
      "metadata": {
        "id": "_ZL7jwhqdG23"
      },
      "source": [
        "Merge data"
      ]
    },
    {
      "cell_type": "code",
      "execution_count": null,
      "metadata": {
        "id": "tGR4UCWtdG23"
      },
      "outputs": [],
      "source": [
        "pm25_nearby_daily, pm25_all_daily, pm25_plot_daily, pm25_nearby, pm25_all, pm25_siteyear = get_pollutant_data(88101, nearby_site_ids_list, all_site_ids_list)\n",
        "\n",
        "pm25_all['Year'] = pm25_all['Date Local'].dt.year\n",
        "print(pm25_all[['Year', 'Site Id']].groupby('Year').agg(lambda x: ', '.join(x.unique())).sort_index())\n",
        "\n",
        "pm25_nearby['Year'] = pm25_nearby['Date Local'].dt.year\n",
        "print(pm25_nearby[['Year', 'Site Id']].groupby('Year').agg(lambda x: ', '.join(x.unique())).sort_index())"
      ]
    },
    {
      "cell_type": "markdown",
      "metadata": {
        "id": "VBzeoe8pdG23"
      },
      "source": [
        "Visualisation: Daily Line Chart"
      ]
    },
    {
      "cell_type": "code",
      "execution_count": null,
      "metadata": {
        "id": "GUBsCG3edG23"
      },
      "outputs": [],
      "source": [
        "show_daily_line_chart(pm25_plot_daily, \"PM2.5\", \"µg/m3\")"
      ]
    },
    {
      "cell_type": "markdown",
      "metadata": {
        "id": "dDTnyj5xdG23"
      },
      "source": [
        "Visualisation: Annual Line Chart"
      ]
    },
    {
      "cell_type": "code",
      "execution_count": null,
      "metadata": {
        "id": "lBCQNG7PdG23"
      },
      "outputs": [],
      "source": [
        "show_annual_line_chart(pm25_nearby_daily, pm25_all_daily, \"PM2.5\", \"µg/m3\")\n"
      ]
    },
    {
      "cell_type": "markdown",
      "metadata": {
        "id": "FpKIT1zrdG24"
      },
      "source": [
        "More Visualisation (Box Plot, Violin Plot)"
      ]
    },
    {
      "cell_type": "code",
      "execution_count": null,
      "metadata": {
        "id": "BWQMWgt-dG24"
      },
      "outputs": [],
      "source": [
        "show_other_visualisations(pm25_nearby, pm25_all, \"PM2.5\", \"µg/m3\")"
      ]
    },
    {
      "cell_type": "markdown",
      "metadata": {
        "id": "FQEA-doSdG24"
      },
      "source": [
        "Map & Graph : Spatial Analysis"
      ]
    },
    {
      "cell_type": "code",
      "execution_count": null,
      "metadata": {
        "id": "N8N_c2MOdG24"
      },
      "outputs": [],
      "source": [
        "spatial_analysis(pm25_siteyear, \"PM2.5\", \"µg/m3\", site_locations)"
      ]
    },
    {
      "cell_type": "markdown",
      "metadata": {
        "id": "-0mQuriVdG24"
      },
      "source": []
    },
    {
      "cell_type": "markdown",
      "metadata": {
        "id": "YxdO97c1dG24"
      },
      "source": [
        "# Analysis & Hypothesis Tesing for PM2.5:(88101)"
      ]
    },
    {
      "cell_type": "markdown",
      "metadata": {
        "id": "2RFBC0oldG24"
      },
      "source": [
        "Correlation & Proximity Analysis"
      ]
    },
    {
      "cell_type": "code",
      "execution_count": null,
      "metadata": {
        "id": "W4D92RS0dG24"
      },
      "outputs": [],
      "source": [
        "correlation_proximity_analysis(pm25_siteyear, \"PM2.5\", \"µg/m3\", distances)\n"
      ]
    },
    {
      "cell_type": "markdown",
      "metadata": {
        "id": "-ePQSijHdG25"
      },
      "source": [
        "Preparation for hypothesis testing"
      ]
    },
    {
      "cell_type": "code",
      "execution_count": null,
      "metadata": {
        "id": "TegWT3Z2dG25"
      },
      "outputs": [],
      "source": [
        "pm25_plot_daily_hypothesis_testing = get_hypothesis_testing_data(pm25_plot_daily)"
      ]
    },
    {
      "cell_type": "markdown",
      "metadata": {
        "id": "YUzDtF-PdG25"
      },
      "source": [
        "Hypothesis 1: Does proximity have an impact on air quality"
      ]
    },
    {
      "cell_type": "code",
      "execution_count": null,
      "metadata": {
        "id": "iVxzxiVZdG25"
      },
      "outputs": [],
      "source": [
        "test_proximity_hypothesis(pm25_plot_daily_hypothesis_testing, \"PM2.5\")\n"
      ]
    },
    {
      "cell_type": "markdown",
      "metadata": {
        "id": "kr_exIqEdG25"
      },
      "source": [
        "Hypothesis 2: Policy Effectiveness (Before vs. After Policy)"
      ]
    },
    {
      "cell_type": "code",
      "execution_count": null,
      "metadata": {
        "id": "BCfR7RxrdG25"
      },
      "outputs": [],
      "source": [
        "test_policy_hypothesis(pm25_plot_daily_hypothesis_testing, \"PM2.5\", POLICY_YEAR)"
      ]
    },
    {
      "cell_type": "markdown",
      "metadata": {
        "id": "0RBAHph4dG25"
      },
      "source": [
        "# Visualisation for O₃: (44201)"
      ]
    },
    {
      "cell_type": "markdown",
      "metadata": {
        "id": "Z5g7Gk9KdG25"
      },
      "source": [
        "Merge data"
      ]
    },
    {
      "cell_type": "code",
      "execution_count": null,
      "metadata": {
        "id": "8ykQpCKUdG26"
      },
      "outputs": [],
      "source": [
        "o3_nearby_daily, o3_all_daily, o3_plot_daily, o3_nearby, o3_all, o3_siteyear = get_pollutant_data(44201, nearby_site_ids_list, all_site_ids_list)\n",
        "\n",
        "o3_all['Year'] = o3_all['Date Local'].dt.year\n",
        "print(o3_all[['Year', 'Site Id']].groupby('Year').agg(lambda x: ', '.join(x.unique())).sort_index())\n",
        "\n",
        "o3_nearby['Year'] = o3_nearby['Date Local'].dt.year\n",
        "print(o3_nearby[['Year', 'Site Id']].groupby('Year').agg(lambda x: ', '.join(x.unique())).sort_index())"
      ]
    },
    {
      "cell_type": "markdown",
      "metadata": {
        "id": "8AC_X_LcdG26"
      },
      "source": [
        "Visualisation: Daily Line Chart"
      ]
    },
    {
      "cell_type": "code",
      "execution_count": null,
      "metadata": {
        "id": "EufWugKQdG26"
      },
      "outputs": [],
      "source": [
        "show_daily_line_chart(o3_plot_daily, \"O₃\", \"ppm\")"
      ]
    },
    {
      "cell_type": "markdown",
      "metadata": {
        "id": "7ptPRJW7dG26"
      },
      "source": [
        "Visualisation: Annual Line Chart"
      ]
    },
    {
      "cell_type": "code",
      "execution_count": null,
      "metadata": {
        "id": "OvOYRyQYdG26"
      },
      "outputs": [],
      "source": [
        "show_annual_line_chart(o3_nearby_daily, o3_all_daily, \"O₃\", \"ppm\")\n"
      ]
    },
    {
      "cell_type": "markdown",
      "metadata": {
        "id": "i-YlqvSldG26"
      },
      "source": [
        "More Visualisation (Box Plot, Violin Plot)"
      ]
    },
    {
      "cell_type": "code",
      "execution_count": null,
      "metadata": {
        "id": "hItXX0MgdG26"
      },
      "outputs": [],
      "source": [
        "show_other_visualisations(o3_nearby, o3_all, \"O₃\", \"ppm\")"
      ]
    },
    {
      "cell_type": "markdown",
      "metadata": {
        "id": "5jyuGWGRdG26"
      },
      "source": [
        "Map & Graph : Spatial Analysis"
      ]
    },
    {
      "cell_type": "code",
      "execution_count": null,
      "metadata": {
        "id": "anSUjy5GdG26"
      },
      "outputs": [],
      "source": [
        "spatial_analysis(o3_siteyear, \"O₃\", \"ppm\", site_locations)"
      ]
    },
    {
      "cell_type": "markdown",
      "metadata": {
        "id": "pI2xsyixdG27"
      },
      "source": []
    },
    {
      "cell_type": "markdown",
      "metadata": {
        "id": "44dmfxzvdG27"
      },
      "source": [
        "# Analysis & Hypothesis Tesing for O₃:(44201)"
      ]
    },
    {
      "cell_type": "markdown",
      "metadata": {
        "id": "OWT6mD5edG27"
      },
      "source": [
        "Correlation & Proximity Analysis"
      ]
    },
    {
      "cell_type": "code",
      "execution_count": null,
      "metadata": {
        "id": "ri8Pr3lodG27"
      },
      "outputs": [],
      "source": [
        "correlation_proximity_analysis(o3_siteyear, \"O₃\", \"ppm\", distances)\n"
      ]
    },
    {
      "cell_type": "markdown",
      "metadata": {
        "id": "m0u9WGPTdG27"
      },
      "source": [
        "Preparation for hypothesis testing"
      ]
    },
    {
      "cell_type": "code",
      "execution_count": null,
      "metadata": {
        "id": "CDf1yntddG27"
      },
      "outputs": [],
      "source": [
        "o3_plot_daily_hypothesis_testing = get_hypothesis_testing_data(o3_plot_daily)"
      ]
    },
    {
      "cell_type": "markdown",
      "metadata": {
        "id": "ujJwtGNNdG27"
      },
      "source": [
        "Hypothesis 1: Does proximity have an impact on air quality"
      ]
    },
    {
      "cell_type": "code",
      "execution_count": null,
      "metadata": {
        "id": "gJtTSQMPdG27"
      },
      "outputs": [],
      "source": [
        "test_proximity_hypothesis(o3_plot_daily_hypothesis_testing, \"O₃\")\n"
      ]
    },
    {
      "cell_type": "markdown",
      "metadata": {
        "id": "8eKgG_q2dG28"
      },
      "source": [
        "Hypothesis 2: Policy Effectiveness (Before vs. After Policy)"
      ]
    },
    {
      "cell_type": "code",
      "execution_count": null,
      "metadata": {
        "id": "NUkoemZudG28"
      },
      "outputs": [],
      "source": [
        "test_policy_hypothesis(o3_plot_daily_hypothesis_testing, \"O₃\", POLICY_YEAR)"
      ]
    }
  ],
  "metadata": {
    "colab": {
      "provenance": [],
      "toc_visible": true,
      "include_colab_link": true
    },
    "kernelspec": {
      "display_name": "Python 3",
      "name": "python3"
    },
    "language_info": {
      "codemirror_mode": {
        "name": "ipython",
        "version": 3
      },
      "file_extension": ".py",
      "mimetype": "text/x-python",
      "name": "python",
      "nbconvert_exporter": "python",
      "pygments_lexer": "ipython3",
      "version": "3.11.3"
    },
    "widgets": {
      "application/vnd.jupyter.widget-state+json": {
        "e9ab155195de445f867a5512b8a932fa": {
          "model_module": "@jupyter-widgets/controls",
          "model_name": "VBoxModel",
          "model_module_version": "1.5.0",
          "state": {
            "_dom_classes": [
              "widget-interact"
            ],
            "_model_module": "@jupyter-widgets/controls",
            "_model_module_version": "1.5.0",
            "_model_name": "VBoxModel",
            "_view_count": null,
            "_view_module": "@jupyter-widgets/controls",
            "_view_module_version": "1.5.0",
            "_view_name": "VBoxView",
            "box_style": "",
            "children": [
              "IPY_MODEL_501a0f553db04eb983de6d9fbc5bf61a",
              "IPY_MODEL_5d67d8e544e24affb528302b0b883d23"
            ],
            "layout": "IPY_MODEL_081221565078454ea8800addd2bccf60"
          }
        },
        "501a0f553db04eb983de6d9fbc5bf61a": {
          "model_module": "@jupyter-widgets/controls",
          "model_name": "DropdownModel",
          "model_module_version": "1.5.0",
          "state": {
            "_dom_classes": [],
            "_model_module": "@jupyter-widgets/controls",
            "_model_module_version": "1.5.0",
            "_model_name": "DropdownModel",
            "_options_labels": [
              "1999",
              "2000",
              "2001",
              "2002",
              "2003",
              "2004",
              "2005",
              "2006",
              "2007",
              "2008",
              "2009",
              "2010",
              "2011",
              "2012",
              "2013",
              "2014",
              "2015",
              "2016",
              "2017",
              "2018",
              "2019",
              "2020",
              "2021",
              "2022",
              "2023",
              "2024"
            ],
            "_view_count": null,
            "_view_module": "@jupyter-widgets/controls",
            "_view_module_version": "1.5.0",
            "_view_name": "DropdownView",
            "description": "Select Year:",
            "description_tooltip": null,
            "disabled": false,
            "index": 0,
            "layout": "IPY_MODEL_06a900d6938941a286026dae52e60926",
            "style": "IPY_MODEL_5dc58d1e9ac4463a8797c6c8e7fdc0c1"
          }
        },
        "5d67d8e544e24affb528302b0b883d23": {
          "model_module": "@jupyter-widgets/output",
          "model_name": "OutputModel",
          "model_module_version": "1.0.0",
          "state": {
            "_dom_classes": [],
            "_model_module": "@jupyter-widgets/output",
            "_model_module_version": "1.0.0",
            "_model_name": "OutputModel",
            "_view_count": null,
            "_view_module": "@jupyter-widgets/output",
            "_view_module_version": "1.0.0",
            "_view_name": "OutputView",
            "layout": "IPY_MODEL_bd1556d5eef44e83b6b910b96c557915",
            "msg_id": "",
            "outputs": [
              {
                "output_type": "display_data",
                "data": {
                  "text/plain": "<Figure size 800x800 with 2 Axes>",
                  "image/png": "iVBORw0KGgoAAAANSUhEUgAAAmsAAAImCAYAAAAMis1WAAAAOXRFWHRTb2Z0d2FyZQBNYXRwbG90bGliIHZlcnNpb24zLjguMCwgaHR0cHM6Ly9tYXRwbG90bGliLm9yZy81sbWrAAAACXBIWXMAAA9hAAAPYQGoP6dpAABzEklEQVR4nO3dd1hTZxsG8DsJS1SGIiCK4MAtoqC4V6laN7WOutFaqzhpq7Xt52zdWuu27q3V4lbUotZFq2JxVMVRJwqKICAoSHK+P1KiEVSSnEMCuX/Xda6Sk5PnvAetPDzvkgmCIICIiIiITJLc2A0gIiIiordjskZERERkwpisEREREZkwJmtEREREJozJGhEREZEJY7JGREREZMKYrBERERGZMCZrRERERCaMyRoRERGRCWOyRvna6tWrIZPJcPv2bWM3JUfNmjVDs2bNjN2MXMnpe5mf2i8GU//7RETmicmamVq0aBFkMhn8/f2N3ZQ8FRUVhV69esHd3R3W1tYoVqwYAgICsGrVKiiVSq1rU1NTMXnyZHh7e8PW1hb29vZo3Lgx1q5dC2Pt0paVTGQdNjY2cHNzQ6tWrTBv3jykpKQYpV1iev35ZDIZ7Ozs0LRpU+zdu9fYTTMZp0+fxpAhQ+Dr6wtLS0vIZLK3XhsXF4egoCA4OzujUKFCqF27NrZu3ZrjtZs3b0bt2rVhY2ODEiVKYMCAAYiPjzcoJhEZjsmamdqwYQM8PT1x+vRp3Lhxw9jNyRPLly+Hn58fjhw5gp49e2LRokUYN24cChUqhAEDBmD69Omaa+Pi4uDv748JEyagRo0amDt3LiZPngy5XI6+ffvi008/zZbc5eTgwYM4ePCg6M8yadIkrFu3DosXL8awYcMAACNHjkSNGjVw4cIF0e+X1z788EOsW7cOa9euxejRo3Hjxg20b98eBw4ckPS+vXv3xvPnz+Hh4SHpfQy1b98+LF++HDKZDOXKlXvrdcnJyWjUqBF+++03DBo0CLNmzULRokXRtWtXbNy4UevaxYsX49NPP0WxYsUwZ84cDBw4EJs3b8YHH3yAFy9e6BWTiEQikNn5999/BQBCaGioUKJECWHChAnGbpLeVq1aJQAQbt269c7rIiIiBIVCITRq1EhITk7O9v6ZM2eEVatWaV63atVKkMvlws6dO7Nd+9VXXwkAhGnTphnafJ1lPe+ZM2eyvRceHi4UKlRI8PDwENLS0vSO/fr3smnTpkLTpk0NaLHuAAjBwcFa5y5fviwAED766KM8bYupio2N1fwZBwcHC2/7p3zGjBkCACE8PFxzTqlUCnXq1BFcXV2F9PR0QRAEIT09XXBwcBCaNGkiqFQqzbW7d+8WAAjz5s3TOSYRiYeVNTO0YcMGODo6om3btvjkk0+wYcOGbNfcvn0bMpkMs2bNwi+//ILy5cvD2toaderUwZkzZ7Su7devH4oUKYKYmBh06tQJRYoUQYkSJfDVV19pVZ+OHj0KmUyGo0eP5niv1atXa85duHAB/fr1Q7ly5WBjYwNXV1f0798fT5480euZJ06cCJlMhg0bNqBo0aLZ3vfz80O/fv0AAH/++ScOHDiAfv36oUOHDtmunTp1Kry8vDB9+nQ8f/78nfd9c8xX1vfg119/xY8//ojSpUvDxsYGH3zwgcEVzhYtWuB///sf7ty5g/Xr12vOi/m9zMjIwLhx4+Dr6wt7e3sULlwYjRs3xpEjR7Jdu3nzZvj6+qJo0aKws7NDjRo18PPPP+v1bFWqVIGTkxNu3rypdT49PR3jx49HhQoVYG1tDXd3d4wePRrp6ela1z1//hzDhw+Hk5MTihYtig4dOiAmJgYymQwTJkzQXPe2MWuLFi1CtWrVYG1tDTc3NwQHB+Pp06da1zRr1gzVq1fH5cuX0bx5c9ja2qJUqVKYMWOGXs/8Li4uLihUqNB7rzt+/DhKlCiBFi1aaM7J5XJ07doVsbGx+OOPPwAAly5dwtOnT9GtWzetLtV27dqhSJEi2Lx5s84xiUg8TNbM0IYNG/Dxxx/DysoKn376Ka5fv54tAcuyceNGzJw5E4MGDcIPP/yA27dv4+OPP8bLly+1rlMqlWjVqhWKFy+OWbNmoWnTppg9ezZ++eUXvdp46NAh/PvvvwgKCsL8+fPRvXt3bN68GW3atNF5vFhaWhrCw8PRpEkTlClT5r3X7969GwDQp0+fHN+3sLBAjx49kJiYiJMnT+rUlizTpk3D9u3b8dVXX2Hs2LH4888/0bNnT71iva53794AoNX1Kub3Mjk5GcuXL0ezZs0wffp0TJgwAY8fP0arVq0QFRWldc9PP/0Ujo6OmD59OqZNm4ZmzZrp/f1KSkpCYmIiHB0dNedUKhU6dOiAWbNmoX379pg/fz46deqEn376Cd26ddP6fL9+/TB//ny0adMG06dPR6FChdC2bdtc3XvChAkIDg6Gm5sbZs+ejc6dO2Pp0qVo2bJltv8PEhMT0bp1a9SsWROzZ89G5cqVMWbMGOzfv1+v5zZUenp6jkmdra0tACAyMlJzHYAcry1UqBD+/vtvqFQqnWISkYiMXdqjvHX27FkBgHDo0CFBEARBpVIJpUuXFkaMGKF13a1btwQAQvHixYWEhATN+Z07dwoAhN27d2vO9e3bVwAgTJo0SStGrVq1BF9fX83rI0eOCACEI0eO5Hiv17shc+rG27RpkwBAOHbsmOZcbrpBz58/LwDI9oxv06lTJwGAkJiY+NZrQkNDs3UP5eTNbsSs70GVKlW0uot+/vlnAYBw8eLFd8Z7VzdoFnt7e6FWrVqa14Z8L99sf2ZmZrZursTERMHFxUXo37+/5tyIESMEOzs7ITMz853PkxMAwoABA4THjx8Ljx49Es6ePSu0bt1aACDMnDlTc926desEuVwuHD9+XOvzS5YsEQAIJ0+eFARBECIjIwUAwsiRI7Wu69evnwBAGD9+/Fu/B48ePRKsrKyEli1bCkqlUnPdggULBADCypUrNeeaNm0qABDWrl2rOZeeni64uroKnTt31vn7kFvv6gYdNmyYIJfLhdu3b2ud7969uwBAGDp0qCAIgvD48WNBJpMJAwYM0Lru6tWrAgABgBAfH69TTCISDytrZmbDhg1wcXFB8+bNAahn3nXr1g2bN2/OccB8t27dtKoZjRs3BgD8+++/2a794osvtF43btw4x+ty4/Xf3F+8eIH4+HjUq1cPAHDu3DmdYiUnJwNAjt2fOcmaUfmu67Pey4qtq6CgIFhZWWlev+v7qqsiRYpozQoV83upUCg07VapVEhISEBmZib8/Py0Yjk4OCA1NRWHDh3S6xlWrFiBEiVKwNnZGX5+fggPD8fo0aMREhKiuWbr1q2oUqUKKleujPj4eM2R1T2X1TUbFhYGABgyZIjWPbImZrzL77//joyMDIwcORJy+at/LgcOHAg7O7tsM1SLFCmCXr16aV5bWVmhbt26ovy56uOzzz6DQqFA165dcerUKdy8eRNTp07F9u3bAUDTje/k5ISuXbtizZo1mD17Nv79918cP34c3bp1g6Wlpda1uY1JROJhsmZGlEolNm/ejObNm+PWrVu4ceMGbty4AX9/f8TFxSE8PDzbZ97sNsxK3BITE7XOZ031f/PaN6/LrYSEBIwYMUIzNqdEiRIoW7YsAHWXmC7s7OwAINfLWmQlYu+6PjcJ3bvk9vuqj2fPnmm1S8zvJQCsWbMG3t7esLGxQfHixVGiRAns3btXK9aQIUNQsWJFfPTRRyhdujT69++vSZpyo2PHjjh06BD27t2LCRMmQCaTIS0tTSthun79Ov755x+UKFFC66hYsSIA4NGjRwCAO3fuQC6Xa545S4UKFd7bjjt37gAAKlWqpHXeysoK5cqV07yfpXTp0tmW0cjN/wcJCQmIjY3VHPr8ueTE29sbGzduxM2bN9GwYUNUqFAB8+bNw9y5cwGok8ssS5cuRZs2bfDVV1+hfPnyaNKkCWrUqIH27dtrXatLTCISh4WxG0B55/Dhw3j48CE2b96sNWA4y4YNG9CyZUutcwqFIsdYwhtjnd523evethZUThW9rN/av/76a/j4+KBIkSJQqVRo3bq1ZuxMblWoUAEWFha4ePFirq6vUqUKduzYgQsXLqBJkyY5XpO1PEbVqlV1akuW3H5fdXX//n0kJSVpJSJifi/Xr1+Pfv36oVOnTvj666/h7OwMhUKBqVOnag3+d3Z2RlRUFA4cOID9+/dj//79WLVqFfr06YM1a9a89z6lS5dGQEAAAKBNmzZwcnLC0KFD0bx5c3z88ccA1JW9GjVqYM6cOTnGcHd31+nZxKDvn+vHH3+sNTC/b9++WhNuDPHJJ5+gQ4cOOH/+PJRKJWrXrq2Z5JOV2AKAvb09du7cibt37+L27dvw8PCAh4cHGjRogBIlSsDBwUHnmEQkDiZrZmTDhg1wdnbGwoULs70XGhqK7du3Y8mSJbmaZaaPrOrRm7Po3qxOJCYmIjw8HBMnTsS4ceM0569fv67XfW1tbdGiRQscPnwY9+7de+8P8Xbt2mHq1KlYu3ZtjsmaUqnExo0b4ejoiIYNG+rVJqmsW7cOANCqVSsA4n8vt23bhnLlyiE0NFQr+R4/fny2a62srNC+fXu0b98eKpUKQ4YMwdKlS/G///0vV1Wt1w0aNAg//fQTvv/+ewQGBkImk6F8+fI4f/48Pvjgg3cuCuvh4QGVSoVbt27By8tLcz43s2+z1luLjo7WWs8sIyMDt27d0iSUhpo9e7ZW9c3NzU2UuFmsrKxQp04dzevff/8dAHJsf5kyZTSV36dPnyIyMhKdO3c2KCYRGYbdoGbi+fPnCA0NRbt27fDJJ59kO4YOHYqUlBTs2rVLsjZ4eHhAoVDg2LFjWucXLVqk9TqrOvFmNSKrm0Uf48ePhyAI6N27N549e5bt/cjISE3Fp0GDBppdDfbs2ZPt2u+++w7Xrl3D6NGjJUts9XH48GFMnjwZZcuW1cwsFft7mVO8v/76CxEREVrXvbksiFwuh7e3NwBkW1YjNywsLPDll1/iypUr2LlzJwB1xTAmJgbLli3Ldv3z58+RmpoK4FXi+ubfs/nz57/3vgEBAbCyssK8efO0nnnFihVISkrK9YzS9/H19UVAQIDm0LdimxvXr1/HkiVL0K5du/dWwcaOHYvMzEyMGjVKtJhEpDtW1szErl27kJKSkuO6YQBQr149lChRAhs2bMi27IFY7O3t0aVLF8yfP19TGdmzZ49mbFEWOzs7NGnSBDNmzMDLly9RqlQpHDx4ELdu3dL73g0aNMDChQsxZMgQVK5cGb1794aXlxdSUlJw9OhR7Nq1Cz/88IPm+rVr1+KDDz5Ax44d0aNHDzRu3Bjp6ekIDQ3F0aNH0a1bN3z99dd6t8dQ+/fvx9WrV5GZmYm4uDgcPnwYhw4dgoeHB3bt2gUbGxsA4n8v27Vrh9DQUAQGBqJt27a4desWlixZgqpVq2olwZ999hkSEhLQokULlC5dGnfu3MH8+fPh4+ODKlWq6HXvfv36Ydy4cZg+fTo6deqE3r1749dff8UXX3yBI0eOoGHDhlAqlbh69Sp+/fVXHDhwAH5+fvD19UXnzp0xd+5cPHnyBPXq1cMff/yBa9euAXh79zwAlChRAmPHjsXEiRPRunVrdOjQAdHR0Vi0aBHq1KmjNZkgL925c0dTRT179iwAaP7+enh4aJZwAdRd9V26dEGZMmVw69YtLF68GMWKFcOSJUu0Yk6bNg2XLl2Cv78/LCwssGPHDhw8eBA//PCDVgVNl5hEJBLjTUSlvNS+fXvBxsZGSE1Nfes1/fr1EywtLYX4+HjNchqvL5WQBW8sd9C3b1+hcOHC2a4bP358tiUFHj9+LHTu3FmwtbUVHB0dhUGDBgmXLl3KtnTH/fv3hcDAQMHBwUGwt7cXunTpIjx48OC9Sy28T2RkpNCjRw/Bzc1NsLS0FBwdHYUPPvhAWLNmjdbSDIIgCCkpKcKECROEatWqCYUKFRKKFi0qNGzYUFi9erXWKu/v8ralO7Zu3ap1XU7Ll+Qk63mzDisrK8HV1VX48MMPhZ9//jnH3RkM+V6+2X6VSiVMmTJF8PDwEKytrYVatWoJe/bsEfr27St4eHhortu2bZvQsmVLwdnZWbCyshLKlCkjDBo0SHj48OF7v2fIYQeDLBMmTNBa/iUjI0OYPn26UK1aNcHa2lpwdHQUfH19hYkTJwpJSUmaz6WmpgrBwcFCsWLFhCJFigidOnUSoqOjs+1E8ba/TwsWLBAqV64sWFpaCi4uLsLgwYOzLe3StGlToVq1atna/Ob3RgxZf49yOt7ccaJ79+6Cu7u7YGVlJbi5uQlffPGFEBcXly3mnj17hLp16wpFixYVbG1thXr16gm//vprjvfPbUwiEodMEIy0IzURkRFFRUWhVq1aWL9+vSgLEhMRSYVj1oiowMtp7a+5c+dCLpe/dcYvEZGp4Jg1IirwZsyYgcjISDRv3hwWFhaa5UQ+//xzoyzxQUSkC3aDElGBd+jQIUycOBGXL1/Gs2fPUKZMGfTu3RvfffcdLCz4OysRmTYma0REREQmjGPWiIiIiEwYkzUiIiIiE5arwRoqlQoPHjxA0aJF37mAJBEREeVfgiAgJSUFbm5ukMtZzzEVuUrWHjx4wBlTREREZuLevXsoXbq0sZtB/8lVsla0aFEA6j88Ozs7SRtERERExpGcnAx3d3fNz30yDblK1rK6Pu3s7JisERERFXAc8mRa2CFNREREZMKYrBERERGZMCZrRERERCaMyRoRERGRCWOyRkRERGTCmKwRERERmTAma0REREQmjMkaERERkQljskZERERkwpisEREREZkwJmtEREREJozJGhEREZEJY7JGREREZMKYrBERERGZMCZrRERERCaMyRoRERGRCWOyRkRERGTCmKwRERERmTAma0REREQmjMkaERERkQljskZERERkwpisEREREZkwJmtEREREJozJGhEREZEJY7JGREREZMKYrBERERGZMCZrRERERCaMyRoRERGRCWOyRkRERGTCmKwRERERmTAma0REREQmjMkaERERkQljskZERERkwpisEREREZkwC2M3gIiIiAqmFy9eICMjQ/S4VlZWsLGxET2uqWKyRkRERKJ78eIFyhYtitjMTNFju7q64tatW2aTsDFZIyIiItFlZGQgNjMT92rUgJ1CIVrcZKUS7hcvIiMjg8kaERERkaHsLBWiJmvmONreDB+ZiIiIKP9gZY2IiIikI/vvEDOemWGyRkRERNKRQdx+PJWIsfIJdoMSERERmTBW1oiIiEg6cohbGjLDMpNOj6xSmWHtkYiIiMiIdErWJk6cKFU7iIiIqCCSSXCYGZ26QS9fvixVO4iIiKggYjeowXR6ZIVCgUwJto0gIiIiopzplKx5enri33//laotREREVNCwG9RgOiVrlSpVwpUrV6RqCxERERG9Qedk7erVq1K1hYiIiAoauQSHmdHpkStWrMjKGhEREeUeu0ENplOy5uTkhPj4eKnaQkRERERv0GsHA0EQIJOZYWpLREREuuHSHQbT+ZFLliyJhw8fStEWIiIiInqDzslalSpVOG6NiIiIcocTDAym896gVapU4YxQIiIiyh1OMDCYTsna+vXrWVkjIiIiykM6JWvbtm2DnZ0d7ty5I1V7iIiIqCBhN6jBdHrk0aNHY/LkyRAEQar2EBEREdFrdErWGjVqhMePH0MQBCQlJUnVJiIiIipIOF7NIDoXE6dOnYqbN29y3BoRERG9H7tBDabzI7u7u6NWrVpYv369FO0hIiIiotfotYPBhAkTUK9ePezYsQMlS5ZE+fLl4e3tDX9/f9StWxdFixYVu51ERESUH3EHA4PplaxVqlQJiYmJSEhIQEREBE6fPo3IyEhs3boVcXFxUCqVkMlkcHR0hKenJ6pWrQpfX180bNgQZcqU4VZVRERERLkkE3IxtTM5ORn29vZISkqCnZ1drgJnZGTg4sWLiIiIQFRUFKKjo3H//n2kpaUBAGxsbFCqVClUrFgRNWvWhL+/P3x9fWFtbW3YExEREZFe9Pl5/95YH/nAzlIhUguB5JdK2O+PEqWN+YVelbXcsLKygq+vL3x9fbO9JwgCHjx4gIiICJw9exZHjhzBypUrER8fD5VKBZlMBicnJ5QtW1arKufm5saqHBEREZkVySprhkhPT8e5c+fw559/4sKFC7h27RpiYmLw/PlzAEChQoU0VbmssXKsyhERERlGkspaWwkqa3tZWTM6a2tr1K9fH/Xr18/2niAIiImJwalTpxAZGYnDhw9jxYoVePLkiaYqV7x4cXh6eqJKlSqoXbs2GjRoAA8PD1bliIiI8prY66OZ4Y9yk6ysGeLly5eaqtz58+dx/fp1rbFyVlZWKFWqFCpUqIDq1aujTp06qFevHgoXLmzklhMRERmXJJW1dhJU1vawspavWVpawt/fH/7+/jm+/+jRI5w6dQpnzpzBX3/9hS1btmhmsAKAvb09ypQpg0qVKsHHxwf169dH1apVIZeb4VxhIiIiQ3HpDoMVuMqaIVQqFS5fvoxTp07h/PnziI6Oxt27dzVbaykUCjg7O2smPtSuXRsNGzaEq6urkVtORERkOEkqax0kqKztYmXNbMnlclSvXh3Vq1fP8f3U1FT8+eefOHv2LC5duoTDhw9j1KhRSE5OxpgxYzB27Ng8bjEREZGJY2XNYEzWdFC4cGF88MEH+OCDD7TOJyQkwNfXF//88w+34SIiInodJxgYjMmaCIoVK4br16+jadOmqFOnDiIiImBhYfxvrUqlQnp6OjIyMpCRkYHnz58jLS0NaWlpmq+fP3+O58+f48WLF0hLS8OLFy+Qnp6O58+fIz09XfM6PT0d/v7+GDRokLEfi4iIyKwYP6MoICwsLHDy5En0798f5cqVw7lz5+Dk5CT6fY4ePYqePXtqJkS8i0wmg1wu1/xXoVDAwsJCc1haWsLS0hIWFhawsrKCpaWl5r/W1tawsrKClZUVrK2tYW9vj//973+oXr06GjZsKPpzERFRAcVuUIMxWRPZypUrMWfOHFSuXBmHDx+Gt7e3aLGnTZuGmTNnYs+ePTmuQSc1W1tbjB49GidPnszzexMREZkrM8xPpRcSEoK1a9eiadOm2L59u8HxVCoV2rVrh+XLl+P69etGSdQA4JtvvsGdO3dw+fJlo9yfiIjyIZkEh5lhsiaRNm3a4NSpU/j888/x448/6h0nPj4eXl5esLCwwLVr11CsWDERW6mbokWLokOHDvjqq6+M1gYiIspn5BIcZsYMHznvVKlSBdevX8fy5cvRo0cPnT9/8uRJVKpUCYMGDcKOHTtMYmHeyZMn4/z587h//76xm0JERGQWjP/Tv4BzcHDA9evXcffuXfj5+SEjIyNXn5s7dy46dOiA7du3Y/To0RK3MveKFy+Oxo0bY8yYMcZuChER5QcyiFtVYzcoScHCwgInTpyAj48PKlSogEePHr31WpVKhc6dO+Pnn3/GlStX0KRJkzxsae7Mnj0bR44cQWJiorGbQkREVOAxWctDy5cvR0hICKpUqYKoqKhs7z99+hSVK1dGWloabt68CWdn57xvZC6UKlUKNWvWxIQJE4zdFCIiMnWcYGAwJmt5bOTIkVi/fj2aN2+Obdu2ac6fOXMGFSpUQJ8+fbB//36TGJ/2LvPmzcPWrVvx/PlzYzeFiIhMGScYGMwMH9n4PvroI5w6dQqDBw/GDz/8gEWLFqFVq1bYtGkTvv/+e2M3L1e8vLxQtmxZzJo1y9hNISIieqeFCxfC09MTNjY28Pf3x+nTp996bbNmzSCTybIdbdu2zcMWa+OiuEaSNVO0bt26ePnyJS5dugQ3NzdjN0sn8+bNQ8eOHTF27FiT2F6LiIhMkJH3Bt2yZQtCQkKwZMkS+Pv7Y+7cuWjVqhWio6NzHG4UGhqqNRnwyZMnqFmzJrp06WJoy/XGypoROTg44Nq1a7h161a+S9QAwNfXF05OTli2bJmxm0JERJSjOXPmYODAgQgKCkLVqlWxZMkS2NraYuXKlTleX6xYMbi6umqOQ4cOwdbWlska5V9z5szB9OnTIQiCsZtCRESmSKIxa8nJyVpHenp6tltnZGQgMjISAQEBr5ojlyMgIAARERG5av6KFSvQvXt3FC5cWOdHFwuTNTJIixYtYG1tjdDQUGM3hYiITJFEyZq7uzvs7e01x9SpU7PdOj4+HkqlEi4uLlrnXVxcEBsb+96mnz59GpcuXcJnn32m82OLiQONyGBTpkzBt99+i86dOxu7KUREZCbu3bsHOzs7zWtra2vR77FixQrUqFEDdevWFT22LlhZI4N9/PHHSE9Px5EjR4zdFCIiMjUSrbNmZ2endeSUrDk5OUGhUCAuLk7rfFxcHFxdXd/Z7NTUVGzevBkDBgzQ67HFxGSNDCaTyfDdd99h1KhRxm4KERGRhpWVFXx9fREeHq45p1KpEB4ejvr167/zs1u3bkV6ejp69eoldTPfi8kaiWLAgAF49OgRLly4YOymEBGRKTHyorghISFYtmwZ1qxZgytXrmDw4MFITU1FUFAQAKBPnz4YO3Zsts+tWLECnTp1QvHixXV9YtFxzBqJQi6XY9iwYQgODsbx48eN3RwiIjIVRl5nrVu3bnj8+DHGjRuH2NhY+Pj4ICwsTDPp4O7du9l2DYqOjsaJEydw8OBBsVptEJmQizUXkpOTYW9vj6SkJK3BfESve/nyJUqVKoWzZ8+iTJkyxm4OERHpSMyf95pYA3xgZ6UQqYVAcoYS9iuizConYTcoicbS0hJ9+vTB4MGDjd0UIiIyFdwb1GDsBiVR/fDDDyhdujQSEhJQrFgxYzeHiIgo32OyRqKysbFBhw4dMHz4cKxfv97YzXmrtLQ0rFu3DoIgoHTp0mjXrp2xm0REVDCJXQ1jZY3IcHPnzkW5cuWQlpYGW1tbYzdHy6NHjzB//nzs3r0bMpkMaWlpKF26NK5du4aQkBBjN4+IiCgbM8xPSWp2dnZo0qRJjlOhjeXq1avo168fAgICsGfPHvTs2ROHDx/G5cuXUblyZezbtw8//PCDsZtJRAXUwIEDUaRIEYwYMQIqlcrYzcl7Ii+Ia26YrJEkFi1ahA0bNiAzM9NobRAEAX/88QdatWqFjz/+GLdv38akSZNw9uxZfP3113B0dIRCocCCBQvQsGFDHDp0CN999x03pSciUY0ePRqHDx/G7du3cf36dbi6umLVqlXGblbe4QQDg5nhI1NecHV1hbe3N6ZMmZLn93758iU2bNgAPz8/fP755yhRogQ2b96Mo0ePolOnTlAotKeQy2QyTJw4EZ07d8bhw4cREhLChI2IRDF16lRs3LgRFy9ehJOTE/bt24cjR45g1qxZqFChAv766y9jN5HyASZrJJlly5Zh4cKFeZb4JCcnY8qUKahevTomTZqEjh074uTJk1i/fj28vb3f+/nhw4dj6NChOHHiBAYPHmyeXRV6WLFiBWxsbDBt2jRjN4XMTHx8PEJCQkz2/9XFixdj7ty5uHTpktb43WrVquGff/7B9OnT0alTJzRp0gSxsbFGbKnEJNob1JwwWSPJlC9fHh4eHliyZImk97l37x4+++wzeHt747fffsOkSZNw6dIljBs3Dk5OTjrF6tmzJyZMmIC//voL/fv3h1KplKjVBUNCQgK+/vprHD16FFu3bkWFChVw5coVYzeLzMCECRPg5eWF0NBQDB061NjNyWbTpk343//+h7///hsODg45XtO5c2fExMSgRYsWqFq1Kvr372/UoSNkupiskaSWLFmCH3/8UZLYZ8+eRUBAABo0aIDY2Fj89ttviIyMRLdu3WBpaal33LZt22L+/Pk4d+4cevTogZcvX4rY6oLlww8/xLBhw1CvXj1ERkZiwoQJaNSoEfr372+y1Q7K386cOYMyZcrgwIEDuHbtGq5evYpff/3VpLoT9+3bh+DgYPz1119wc3N757VyuRwTJkzA/fv3kZKSAhcXF8ydOzdvGppXOGbNYGb4yJSXateuDTs7O2zdulWUeCqVClu3bkWNGjUQGBiIGjVq4OzZs9izZw98fX1FuQcANGrUCOvXr8fly5fRuXNnZGRkiBa7oJg/fz6ePXuGCRMmaM716tULMTExePLkCUqWLIn9+/cbr4FUoLx48QKdOnXS/DIVERGBEiVKwMbGBhs2bECnTp1Moip18uRJ9OzZE0ePHkX58uVz/TlbW1ts3boVZ8+exfr161GmTBkcOnRIwpbmISZrBjPDR6a8Nn/+fHzzzTcGxXj+/Dl+/PFHlC1bFt9//z2GDx+Omzdv4qefftJsxis2b29v7NixA3fu3EG7du3w4sULSe6THz148AATJkxAWFgYZDLtASQ2NjbYuXMnQkNDMXDgQLRo0QLJyclGaikVBCtWrECpUqVQvHhxPHz4EB07dtR6v1WrVmjcuDG6detmpBaqXbhwAe3atcOePXtyNU42J2XLlsXZs2exYsUKDBgwAL6+vrh165bILaX8hskaSe6DDz6AIAgIDw/X+bNxcXHo06cPPD09sX//fmzcuBHR0dEYOHAgrKysJGittvLlyyMsLAzx8fFo2bIlUlNTJb+nqRMEAR999BGGDx+OsmXLvvW6hg0b4u7du/Dx8YGnpycWLFiQh62kguD27duoXr06Zs6ciYiICKxYsSLbbO4smzdvxqlTp7Bv3748bqXazZs30axZM2zcuBENGzY0ON6HH36Iu3fvonfv3vDz88Mnn3yCtLQ0EVpqBJxgYDAma5Qnpk+fjuHDh+f6+nPnzqFJkyaoUaMGACAqKgonTpwQ5R9BXZUsWRLh4eHIyMhglQjAtGnTkJmZiXHjxr33Wrlcjjlz5uDvv//G0qVLUbVqVaNUCeLj4/Hpp5/i0qVLeX5v0p1KpcKQIUNQu3ZtDBkyBFevXkXFihXf+Rm5XI7du3ejT58+eZ7UPHjwAP7+/li8eDE++ugjUWOPHDkSDx8+hIODA0qXLo1x48ZxPKgZYrJGeaJLly54+vQp/v7777deIwgCNm3ahIoVK6Jjx45o27Yt7t+/j7Vr16JkyZJ52NrsHB0dcfjwYdja2qJJkyZITEw0anveRurp/9evX8dPP/2EXbt2Zev+fBcPDw9cvHgRI0aMgK+vL4YPH54nP3AyMzMxcOBAeHl5QS6Xo3Hjxjhx4oTk9yX97d+/H25ubrh9+zbu3buHIUOG5Pqzfn5++PTTT9GmTRsJW6jt6dOnqFWrFn788UfJumGtrKywfPlyXL58GX/88QdKlSqFbdu2SXIvSXDMmsHM8JHJWL777jsMGjQo2/mMjAx8++23KFmyJKZOnYq5c+fi3r17GDNmTJ50deaWra0tDh48iNKlS6Nhw4Z4/PixsZsEQP3927hxIxo3bowqVapgxowZktwnMzMTgYGBGDx4sE4Dp183aNAg3L17F1evXkXp0qVx7NgxkVv5ysyZM+Hi4oLExETcu3cPGzZswJ49e9C+fXvs2rVLsvsWBCqVCiEhIXB0dETFihXx7bffIj4+XtJ7JiYmokmTJhg4cCC2bduGffv2oXDhwjrHmT9/Pu7cuZMnOwSkpaWhevXqGDVqVI7/tonN1dUVf/zxB3bs2IGxY8eiSpUquHDhguT3NRi7QQ3GZI3yzODBg3H79m1NN1hMTAw+/vhjuLq64sKFCzh16hQuXLiQp78V68rS0hK7du1C7dq1Ub9+fTx8+NBobYmNjcW4cePg5+eHadOmwcvLC0FBQdi8ebMkCxF/++23UCgUGD9+vEFxihQpgoMHD2LdunXo1q0b2rZtK2q31c6dOzWVh3PnzmHbtm0oUqQIAPU4uuPHjyMoKAhr1qwR7Z4FycmTJ1GmTBlERUVpkp7r16+jevXqKF26NIKCgnD58mVR7zllyhSUK1cODRs2xL1799CoUSOD4v3+++/48ssvMXr0aMyePRubNm3CsWPHcOfOHdFmjGZkZKBGjRro0aOHwROodOXv74/r169j7NixCAgIQMuWLZGQkJCnbaC8ZWHsBpD5kMlkGDZsGDp16gQLCwvcu3cPvXv3xsaNG2FjY2Ps5uWaXC7HunXrMHLkSNSrVw/Hjx9HmTJl8uz+Z86cwdSpU3H58mUULlwYX3zxBXr16gU7Ozv8888/OHLkCK5cuYKqVauKes9Nmzbh4MGDkMvF+R3vgw8+QExMDIYMGQJ3d3fMmjULQUFBese7cOECunfvjvT0dGzZsuWtP/CrV6+Oc+fOoU6dOnjy5AlCQkL0vmdB8uLFC3Tv3h0RERFYvXq1ZuxVw4YNNWNF79y5g5kzZ6JNmzZIS0tD3bp1MWzYMLRq1Uqve0ZFRSEwMBBOTk64fPmyaMMdypcvj/Xr1yM0NBTXr19HQkICkpKSkJKSgrS0tGy/zCgUChQuXBh2dnZwcHBAsWLF4OTkBBcXF7i6uqJUqVIoXbo0PD094eDgAJVKhdq1a6NFixaSVbJzo0+fPujVqxfGjBmD8uXLo1evXvj5559F+39UNGJ3XZrY4+UFmZCLX8GTk5Nhb2+PpKQk2NnZ5UW7qIBSqVRo0aIF+vXrh379+hm7OQabNGkSlixZgj/++ANeXl6S3ScjIwObN2/G3LlzkZycjFq1auHLL7+Ev7+/1tgxQRBQt25dfPzxxxg7dqwo905LS0OdOnUQGBiIH374QZSYb4qOjkaHDh1QqFAh7NmzB6VLl871Z+Pj49G9e3dcuHABM2fORN++fXP9OW9vbwQFBUm2cHN+sWHDBgwfPhwdOnTAihUrcvXDPiUlBfPnz8fGjRvx8OFDeHl5oX///ujfvz8sLN5dB0hPT0evXr1w9OhRLFq0CF26dBHrUfTy7Nkz3LlzB/fv38f9+/cRGxuLuLg4xMfH48mTJ3j69CmSk5Px7NkzvHz5EiqVCgEBAdi4caNR2/265ORk9OzZExEREfjxxx/17pYV8+e9JtZXPrCzznkWr15x05WwnxVlVjkJkzUiAy1YsACTJ0/G77//rpm9KpbY2FjMmDEDO3bsgLW1NYKCgjBw4EA4Ojq+9TNBQUG4ffs2jhw5IkobPvvsM0RGRuL06dMG7QyRG7Nnz8YPP/yAL774AlOnTn3ntRkZGRgyZAhCQ0PxxRdf4IcfftC5ovDs2TN4e3ujZcuWkm+LZopiY2PRrl07PH36FDt37kS1atX0iqNSqbBhwwb88ssvuHLlCpycnNC1a1eMGjUq29/VdevWYdSoUWjTpg1Wrlz53sSOdBMdHY0uXbogOTkZa9euRZMmTXT6vCTJ2mgJkrUZ5pWsmWExkUhcQ4cOxU8//YTmzZuLtuXNn3/+iRYtWsDPzw8XL17EqlWrcPnyZYwePfqdiRoAtG7dGi9evBBlZuiBAwdw4sQJrFy5UvJEDQC+/PJL3Lp1CydOnECZMmVw5syZHK+bMWMGSpYsieTkZNy/fx9TpkzRq+unSJEiuHr1Kk6cOIHOnTsb2vx8ZcKECahSpQoCAwNx48YNvRM1QD00oHfv3jh+/Dji4+Pxyy+/4NKlS6hSpQrc3d0xcOBAHDt2DD4+Ppg8eTL++OMPrF27lomaBCpVqoQLFy5g0aJF6NGjB/z9/XH37l3jNooTDAzGZI1IBD169MCaNWvQpk0bHD58WK8YGRkZWLBgAby8vNCtWzf4+/sjKioKhw4dQtOmTXO9VEZAQAAUCgV2796tVzuyPHnyBF9//TXat2+PWrVqGRRLFw4ODjh+/DgWLFiAtm3b4pNPPtFs97V9+3a4ubkhNDQUf//9N3799VfY2toadD8rKytcuHABDx8+RPPmzQv8GlZRUVHw9PREWFgYrl+/ju+++070ezRp0gShoaGIjY3F0aNHYWFhgQEDBqBv3764du2aQYkh5U6bNm1w//59BAYGwsfHB59++il3YcnH2A1KJKKTJ0+iffv2WLVqVbYtcd7m4cOHGDNmDA4cOIAyZcpg/PjxaNOmjUGDhFu2bIkiRYogNDRUr88LgoAuXbrgzp07OH78uNEmgGRmZqJfv34ICwuDk5MTXr58ibVr10q2OHLbtm3x4MEDnDlzpsBVfTIzM9GnTx8cPHgQixYtQteuXY3dJMojGRkZGDhwIHbv3o2RI0e+c0FrSbpBv/GBnY2I3aAvlLCfxm5QItJTw4YNceTIEfTv3x/r1q1757VhYWHw9fVFzZo1YWlpiaioKJw5cwbt2rUzeDaXv78/njx5gmfPnun1+XXr1uH27duYO3euUWfqWlhYYP369Th8+DB++OEH3Lx5U9JdLPbu3Qtvb29UqVKlQFUhdu7cCTc3N7x8+RIPHjxgomZmrKyssGbNGly6dAkHDx6Em5sbfvvtN2M3i3TAZI1IZDVr1sSZM2cQEhKChQsXar2Xnp6O77//Hm5ubhgxYgSGDh2K2NhYrFixQtRdGlq2bAk7OzscOnRI58/evn0bCxYsQL169YyyvVdOvL298cknn+TJvdasWYMOHTrAy8sLT58+zZN7SiUhIQGNGjXCsGHDsHfvXmzdutWkFpqmvOXm5oYTJ05g+/btGDNmDKpWrZo3W7BxzJrBmKwRSaBcuXK4ePEiJk+ejB9//BGXL19Gq1atULJkSZw/fx5Hjx5FdHQ0goKCJFkTqV69enj+/LnOK/UrlUp88cUXUCgUmDZtmujtyi9mz56N4OBgVKpUCffv3zd2c/Qyc+ZMlC9fHk2aNMHdu3dRp04dYzeJTIS/vz9u3LiBMWPGoEWLFtIvqsvtpgxmho9MlDdcXV1x9epVrFy5Eh9++CEaN26MuLg47N69+72bUhvK0tISjo6OuHfvnk4rts+ePRtKpRITJ07UrPpvrr755hv8+OOPqFmzJq5cuWLs5uRadHQ0KlasiI0bN+Kff/7BlClTjN0kMlF9+/ZFbGwsatasifLlyyM4OFi0HR5IXEzWiCTk4OCAmzdvIiYmBt9//32eLH+RpUWLFnB2dsapU6dydX1UVJRmkkPLli0lbl3+8Nlnn2H58uVo0KCBaMuySEWlUmHgwIFo0KABvvvuO/z9999wc3MzdrPIxMnlcsycOVOzKHCFChXEvwm7QQ3GZI2ogGrZsiUyMzNz1RX64sULhISE4OXLl5g1a1YetC7/CAwMxPbt29G6dWvs37/f2M3J0YEDB1CyZEk8fPgQMTExud7FgSiLnZ0ddu7cifDwcGM3hXJQsOamE5FG+fLlkZycjAsXLkAQhHeu0/btt9/C2dkZ3bp1e++iu+aoWbNmOHLkCFq0aIH58+ejZ8+exm4SAPXSCIGBgbh69Sp+++03gzdAJypfvrz4Qbk3qMHM8JGJzEe5cuVQsmTJd465+v3333H//n3I5XIEBgbmYevyFx8fH0RGRmLkyJH4+eefjd0cLFiwAJ6envD29sa9e/eYqJHp4gQDg7GyRlSAtWrVCocPH8bOnTtRtWrVbO8nJCTgxx9/hFwuN6lNqU1V2bJl8c8//8DHxwfx8fGYPHlynrfh5s2baNeuHRQKBf7++294eHjkeRuIKG+ZYX5KZD6aN2+O+/fv4/jx49neEwQBw4cPR9WqVdG3b1+4uLgYoYX5j7OzM65du4Z169Zh8ODBeXZflUqF4OBg1KlTByNHjsSlS5eYqFH+wAkGBmOyRlSA2dnZIT09HY6Ojtk2dt+4cSMcHR3x8OFD9O7d20gtzJ+KFCmCa9eu4dixY3myAfzhw4dRqlQp3LhxA3fv3sWgQYMkvycRmQ4ma0QFXP369VGxYkWtjd3v3r2LtWvX4saNG5g7d26uN4mnV6ysrHDx4kU8ePAAzZo1k2QD+LS0NLRq1Qo9e/bEhg0bcODAAbNf/47yIY5ZM5gZPjKReWnZsiWePXuGsLAwAOrutCFDhqB+/fpo3749ypQpY+QW5l9yuRwREREoXLgwateuLeqCor/88gtKly6NChUqICYmBi1atBAtNhHlL5xgQFTA1a5dG+PHj4eVlRVSU1OxePFiNGrUCCdOnNB5OyrK2d69e9GvXz9UrlwZFy5cgK2trd6x7ty5g7Zt20KpVOLMmTPSLKVAlJfEHmdmhh0BrKwRFXAKhQKOjo5o0KABli5ditOnT+PPP//EnDlzJNmX1FytXr0aH3/8MSpWrKjXPosqlQqjRo1CrVq18MUXX+DKlStM1KhgYDeowVhZIzIDAQEBePr0KWbOnIlvv/0WaWlpku9Pao5mzJiBEiVKoHLlyjh79myuu5iPHTuG7t27o2rVqrh79y7HpRGRFiZrRGbgww8/RNWqVVGhQgXs3r0be/fuNXaTCqyvv/4aTk5OqFWrFv744w9Ur179rdempaWhS5cuiIyMxJo1a9CqVas8bClRHuEOBgZjskZkBkqXLo2tW7ciMTER1apVg4UF/9eXUlBQEIoXL47GjRtj9+7dOe4usHz5cowZMwZdunTB7t272SVNRG/Ff7GJzASrNnmrQ4cO2LNnD9q1a4c1a9agQ4cOANQTCNq1a4eXL1/izz//hJeXl5FbSiQxTjAwGH+VIyKSSMOGDXHixAkEBQVh1apVGDVqFHx8fPDZZ5/h6tWrTNTIPMgg7uQCM0zWWFkjIpJQtWrV8Pfff6NBgwaoVKkS7ty5Azs7O2M3i4jyESZrREQSK1OmDO7fv2/sZhAZB7tBDcZuUCIiIiITxsoaERERSYdLdxiMyRoRERFJh8mawczwkYmIiIjyD1bWiIiISDqcYGAwVtaIiIiITBgra0RERCQdjlkzGJM1IiIikg67QQ1mhvkpERERUf7ByhoRERFJh92gBjPDRyYiIiLKP1hZIyIiIumwsmYwJmtEREQkHU4wMJgZ5qdERERE+Qcra0RERCQddoMazAwfmYiIiCj/YGWNiIiIpGWG48zExMoaERERSUcuwaGjhQsXwtPTEzY2NvD398fp06ffef3Tp08RHByMkiVLwtraGhUrVsS+fft0v7FIWFkjIiKiAmvLli0ICQnBkiVL4O/vj7lz56JVq1aIjo6Gs7NztuszMjLw4YcfwtnZGdu2bUOpUqVw584dODg45H3j/8NkjYiIiKRj5AkGc+bMwcCBAxEUFAQAWLJkCfbu3YuVK1fim2++yXb9ypUrkZCQgFOnTsHS0hIA4OnpaWirDcJuUCIiIsp3kpOTtY709PRs12RkZCAyMhIBAQGac3K5HAEBAYiIiMgx7q5du1C/fn0EBwfDxcUF1atXx5QpU6BUKiV7lvdhskZERETSkUlwAHB3d4e9vb3mmDp1arZbx8fHQ6lUwsXFReu8i4sLYmNjc2zuv//+i23btkGpVGLfvn343//+h9mzZ+OHH34w6NtgCHaDEhERUb5z79492NnZaV5bW1uLElelUsHZ2Rm//PILFAoFfH19ERMTg5kzZ2L8+PGi3ENXTNaIiIhIOhKNWbOzs9NK1nLi5OQEhUKBuLg4rfNxcXFwdXXN8TMlS5aEpaUlFAqF5lyVKlUQGxuLjIwMWFlZvbeJL1++RGxsLNLS0lCiRAkUK1bsvZ95F3aDEhERkXQk6gbNDSsrK/j6+iI8PFxzTqVSITw8HPXr18/xMw0bNsSNGzegUqk0565du4aSJUu+M1FLSUnB4sWL0bRpU9jZ2cHT0xNVqlRBiRIl4OHhgYEDB+LMmTO5b/xrmKwRERFRgRUSEoJly5ZhzZo1uHLlCgYPHozU1FTN7NA+ffpg7NixmusHDx6MhIQEjBgxAteuXcPevXsxZcoUBAcHv/Uec+bMgaenJ1atWoWAgADs2LEDUVFRuHbtGiIiIjB+/HhkZmaiZcuWaN26Na5fv67TM7AblIiIiKRj5KU7unXrhsePH2PcuHGIjY2Fj48PwsLCNJMO7t69C7n8VVB3d3ccOHAAo0aNgre3N0qVKoURI0ZgzJgxb73HmTNncOzYMVSrVi3H9+vWrYv+/ftjyZIlWLVqFY4fPw4vL69cP4NMEAThfRclJyfD3t4eSUlJ7+0fJiIiovxJzJ/3mljrfWBnq3j/B3IbN00J+15RZpWTsLJGRERE0jFyZa0gYLJGRERE0tFxUkCu4pmwFy9eYP78+Thy5AgePXqkNVEBAM6dO6dzTCZrRERERCIZMGAADh48iE8++QR169aFTGZ4dslkjYiIiKRjZt2ge/bswb59+9CwYUPRYpr4IxMRERHlH6VKlULRokVFjclkjYiIiKRjxEVxjWH27NkYM2YM7ty5I1pMdoMSERGRdMysG9TPzw8vXrxAuXLlYGtrC0tLS633ExISdI7JZI2IiIhIJJ9++iliYmIwZcoUuLi4cIIBERERmTgZxK2GmXg36KlTpxAREYGaNWuKFtPEi4lERERE+UflypXx/PlzUWMyWSMiIiLpmNkEg2nTpuHLL7/E0aNH8eTJEyQnJ2sd+mA3KBEREUnHzCYYtG7dGgDwwQcfaJ0XBAEymQxKpVLnmEzWiIiIiERy5MgR0WMyWSMiIiLpmNneoE2bNhU9JpM1IiIiIhElJiZixYoVuHLlCgCgatWqCAoKQrFixfSKZ+I9v0RERJSvySU4TNixY8fg6emJefPmITExEYmJiZg3bx7Kli2LY8eO6RWTlTUiIiKSjpl1gwYHB6Nbt25YvHgxFAoFAECpVGLIkCEIDg7GxYsXdY5p4vkpERERUf5x48YNfPnll5pEDQAUCgVCQkJw48YNvWIyWSMiIiLpmFk3aO3atTVj1V535coVvXc1YDcoERERkUiGDx+OESNG4MaNG6hXrx4A4M8//8TChQsxbdo0XLhwQXOtt7d3rmLKBEEQ3ndRcnIy7O3tkZSUBDs7Oz2bT0RERKZMzJ/3mlhhPrArrHj/B3IbN1UJ+9ZRJpuTyOXvLv3JZDKdF8hlZY2IiIikY2YTDG7duiV6TCZrRERERCLx8PAQPSaTNSIiIpKOme0NCgDR0dGYP3++ZqJBlSpVMGzYMFSqVEmvePngkYmIiIjyh99++w3Vq1dHZGQkatasiZo1a+LcuXOoXr06fvvtN71isrJGRERE0jGzMWujR4/G2LFjMWnSJK3z48ePx+jRo9G5c2edY7KyRkRERCSShw8fok+fPtnO9+rVCw8fPtQrJpM1IiIiko4M4i6Ia+KVtWbNmuH48ePZzp84cQKNGzfWKya7QYmIiEg6ZjbBoEOHDhgzZgwiIyO1FsXdunUrJk6ciF27dmldmxtcFJeIiIgASLQo7hEf2BURcVHcZ0rYN8+/i+Jm4aK4REREZBrMbIKBSqUSPaaJFxOJiIiIzBuTNSIiIpKOmJMLxB7/JpLNmzfn+tp79+7h5MmTOsU3wUcmIiKiAkMmwWFiFi9ejCpVqmDGjBmaXQtel5SUhH379qFHjx6oXbs2njx5olN8jlkjIiIiMsAff/yBXbt2Yf78+Rg7diwKFy4MFxcX2NjYIDExEbGxsXByckK/fv1w6dIluLi46BSfyRoRERFJx0yW7ujQoQM6dOiA+Ph4nDhxAnfu3MHz58/h5OSEWrVqoVatWrmeKfomJmtEREREInFyckKnTp1EjclkjYiIiKRjJpU1KTFZIyIiIumY2TprUjDD/JSIiIgo/2BljYiIiKTDblCDmeEjExEREUkrPj4e8fHxosRiskZERETSMYNFcbM8ffoUwcHBcHJygouLC1xcXODk5IShQ4fi6dOnesdlNygRERFJx0y6QRMSElC/fn3ExMSgZ8+eqFKlCgDg8uXLWL16NcLDw3Hq1Ck4OjrqHJvJGhEREZGBJk2aBCsrK9y8eTPbDgWTJk1Cy5YtMWnSJPz00086xzbR/JSIiIgKBBnE3cTdRLtBd+zYgVmzZuW4lZSrqytmzJiB7du36xWbyRoRERGRgR4+fIhq1aq99f3q1asjNjZWr9hM1oiIiEg6ZjLBwMnJCbdv337r+7du3UKxYsX0is1kjYiIiKQjZheo2JMVRNSqVSt89913yMjIyPZeeno6/ve//6F169Z6xeYEAyIiIiIDTZo0CX5+fvDy8kJwcDAqV64MQRBw5coVLFq0COnp6Vi3bp1esZmsERERkXTMZG/Q0qVL49SpUwgODsbYsWMhCAIAQCaT4cMPP8SCBQvg7u6uV2wma0REREQiKFeuHPbv34/ExERcv34dAFChQgW9x6plYbJGRERE0jGTRXGVSiX++ecfeHl5wdHREXXr1tW8l5aWhhs3bqB69eqQy3V/ABN9ZCIiIioQzGSCwbp169C/f39YWVlle8/Kygr9+/fHxo0b9Yptoo9MRERElH+sWLECX331FRQKRbb3LCwsMHr0aPzyyy96xWY3KBEREUnHTCYYREdHo169em99v06dOrhy5YpesZmsEVF2KhXw8iWgVALW1kAOvykSEdErqampSE5Ofuv7KSkpSEtL0ys2kzUic6ZSAdHRQFQUcOUKcPs2EBsLPH2qfi+LrS3g5AR4eABeXkCNGkDt2kDhwkZqOBHlG2YywcDLywunTp2Ct7d3ju+fOHECXl5eesVmskZkbgQBOH8e2LcPOHoUSEh4/2fS0oC7d9XH8ePqcwoF4OsLtG4NBASoEzoiIjPVo0cPfP/992jQoEG2hO38+fMYN24cRo8erVdsmZC1ats7JCcnw97eHklJSbCzs9PrRkRkZEolEBYGrF8P/Lf+TzYyGVCiBFC8uDr5ksuB9HQgKQmIiwNevMj5c4ULAx07An36qCtwRJQvifnzXhPrmg/sioo3lCI5RQn7ilEml5O8fPkSLVu2xIkTJxAQEIDKlSsDAK5evYrff/8dDRs2xKFDh2BpaalzbFbWiMzByZPAnDnAnTva521sAH9/9VGjBlCunHqMWk5UKnUX6ZUrQGQkcOIE8OCB+r3UVGDjRmDbNqBXLyAoCChUSNpnIqL8wUy6QS0tLXHw4EH89NNP2LhxI44dOwZBEFCxYkX8+OOPGDlypF6JGsDKGlHBlpgITJ8O/P679vkaNYAuXYDmzfVPqgQBuHwZ2L5d3aX6+ubFrq7AuHHAa4tCEpHpk6SydkOCyloF3SprCxcuxMyZMxEbG4uaNWti/vz5WovWvm716tUICgrSOmdtbY0Xb+tZyAMmmp8SkcH+/hvo3l07UfP2Bn75BVi1CmjTxrDql0wGVKsGfP89sGcP0KMHYPFfsT42FhgyBFiwQN39SkTmy8iL4m7ZsgUhISEYP348zp07h5o1a6JVq1Z49OjRWz9jZ2eHhw8fao47b/ZK5DEma0QF0c6dwBdfAE+eqF/b2QGTJgErVqhncYqtWDEgJAT49VfAz+/V+dWrgVGj1BMUiIiMYM6cORg4cCCCgoJQtWpVLFmyBLa2tli5cuVbPyOTyeDq6qo5XFxc8rDF2TFZIypo1q4FJk9+VdGqU0edRLVpo66GSalMGWDRInWClrU226lT6sTxHesPEVEBJpPggLqb9fUjPT09260zMjIQGRmJgIAAzTm5XI6AgABERES8tcnPnj2Dh4cH3N3d0bFjR/zzzz8GfQsMxWSNqCDZuBGYN+/V6+7d1V2ReTlDUy4HevYEFi8GihZVn7t8GRg6lBU2InMkg7hdoP8la+7u7rC3t9ccU6dOzXbr+Ph4KJXKbJUxFxcXxMbG5tjcSpUqYeXKldi5cyfWr18PlUqFBg0a4P79+wZ9GwzB2aBEBcWhQ+oZn1mGDAH69zdee2rXVne7fvGFei23y5eBb74B5s5VJ3RERAa4d++e1gQD67fNZNdR/fr1Ub9+fc3rBg0aoEqVKli6dCkmT56c6zgZGRm4desWypcvDwsLw9It/otJVBDcvAlMnPjq9eefGzdRy1KuHLBkyasK26lT6oobEZkPibpB7ezstI6ckjUnJycoFArExcVpnY+Li4Orq2uumm9paYlatWrhxo0bubo+LS0NAwYMgK2tLapVq4a7d+8CAIYNG4Zp06blKsabmKwR5XcZGcDYsa8WrG3fHhg40Lhtel25csDs2a+qaatWAadPG7dNRGQWrKys4Ovri/DwcM05lUqF8PBwrerZuyiVSly8eBElS5bM1fVjx47F+fPncfToUdjY2GjOBwQEYMuWLbo9wH+YrBHld8uXA//+q/66YkV1V6PUEwl0Vbs2MHz4q9eTJgHPnxuvPUSUd4y8dEdISAiWLVuGNWvW4MqVKxg8eDBSU1M1a6n16dMHY8eO1Vw/adIkHDx4EP/++y/OnTuHXr164c6dO/jss89ydb8dO3ZgwYIFaNSoEWSv/VtcrVo13Lx5U7fG/4dj1ojys7t31bM/AcDSUj0LVKRxG6Lr0UO968HZs+p12FatUo+rI6KCzcg7GHTr1g2PHz/GuHHjEBsbCx8fH4SFhWkmHdy9exfy18bRJiYmYuDAgYiNjYWjoyN8fX1x6tQpVK1aNVf3e/z4MZydnbOdT01N1UredMEdDIjys7Fj1RMLAPUYNVNPfu7eBbp2BTIzASsrYNcu7iVKZEIk2cEgxgd2diLuYJCshH0p09sbNEuTJk3QpUsXDBs2DEWLFsWFCxdQtmxZDBs2DNevX0dYWJjOMVlZI8qvbt16lagVK6bej9PUlSmjTtY2blSPtVu7Vr2YLhEVXK9NChAtngmbMmUKPvroI1y+fBmZmZn4+eefcfnyZZw6dQp//PGHXjE5Zo0ov9q06dXXvXvnn43T+/VTV9UA9U4LXHuNiAqQRo0aISoqCpmZmahRowYOHjwIZ2dnREREwNfXV6+YTNaI8qMXL4CsUrqtLRAYKPotoqKi8NFHHyEqKkrcwMWKAR99pP46NRV4bZYWERVARp5gYAzly5fHsmXLcPr0aVy+fBnr169HjRo19I6XDx6ZiLI5ceJVRSogAChSRPRb/PbbbwgLC0NoaKjosbWSy/37xY9PRKZDonXWTNWb22BlHSkpKcjIyNArJpM1ovzo2LFXX7dqJcktdu/erfVfUVWrBri5qb8+d05dYSMiKgAcHBzg6OiY7XBwcEChQoXg4eGB8ePHQ6VS5TomkzWi/EYQgDNn1F8XKgTUqiX6LeLi4nD+/HkA6u7QR48eiXsDmQxo1Ej9dWamOmEjooLJzLpBV69eDTc3N3z77bfYsWMHduzYgW+//RalSpXC4sWL8fnnn2PevHk67WbA2aBE+U1sLPD4sfprb+9Xg/VFdODAgWyve/fuLe5NatcGfv1V/fXFi0DjxuLGJyIygjVr1mD27Nno2rWr5lz79u1Ro0YNLF26FOHh4ShTpgx+/PFHfPvtt7mKaeL5KRFl8/r+dLlcpFFXe/fuhUKhXhfJwsICe/fuFf8mr7c9l3vuEVE+ZGaVtVOnTqFWDj0etWrVQkREBAD1jNGsPUNzg5U1ovzm9f/By5bVO0xMTEy2zY0BQBAEhIWFQalUAgAyMzOxf/9+REZG5rj6touLC0qVKqV7A1xdARsb9czWO3d0/zwR5Q9mts6au7s7VqxYka2bc8WKFXB3dwcAPHnyBI6OjrmOyWSNKL/J6gIF1AmPnrp27YpTp07l+N6bSVlKSgr8/PxyvLZhw4Y4ceKE7g2QywFnZ3XyGR+v++eJiEzQrFmz0KVLF+zfvx916tQBAJw9exZXr17Ftm3bAABnzpxBt27dch2TyRpRfpOc/OprBwe9wwQFBeH06dNQKpV4c9e5970G1AmdQqHQbIasFwcHdbKWmgoolYBCvC1piMhEGHlv0LzWoUMHREdHY+nSpYiOjgYAfPTRR9ixYwc8PT0BAIMHD9YpJpM1ovzm9XV6DJhc8Nlnn6F69ero0KEDEhMTkZmZmevPKhQKFC9eHDt37kS9evX0boNW+zMy8s8uDERE7+Dp6YmpU6eKFo/JGlF+I3/t10od1unJSb169XD+/HkEBgbizJkzuVr3RyaToU6dOti+fTtcDeiGBaDdflbViAokQaY+xIyXH6SlpeHu3bvZFsL19vbWORaTNaL8xsbm1dci7KtZsmRJHDt2DAMGDMD69evfe33Pnj2xYsUKWImxZMjz5+r/yuWApaXh8YjI5KgE9SFmPFP2+PFjBAUFYf9bdmfJmrylCxPv+SWibIoVe/X1kyeihLSysoKnp6dmuY63USgUKFu2rDiJGvCq/Y6O6oVyiYjyuZEjR+Lp06f466+/UKhQIYSFhWHNmjXw8vLCrl279IrJZI0ov3m96zEmRrSwu3fvfu9vfEqlUrztp9LTX81sdXERJyYRmRxBEP8wZYcPH8acOXPg5+cHuVwODw8P9OrVCzNmzNB7HBuTNaL85r/ZRABEW0z29e2lsmQt3/HmMh6ibT/177+v/tU1YL04IiJTkpqaCmdnZwCAo6MjHv/3S2mNGjVwTs+t9ZisEeU3FSu+mmRw4YIoId/cXkqhUMDe3h7jxo2Dvb19tu7RN69/H0EQkJIeg4Tn1/D0xQ2kZyYB/01pBwBUqaJ324nItGWNWRPzMGWVKlXSLNlRs2ZNLF26FDExMViyZAlKliypV0wma0T5ja0tUKmS+usbN0RZUHbfvn2Qy+WaKlrWOkETJ05EdHQ0OnToAEBdZZPL5di3b1+uY6ek38fFR8tw8N/+2H+jB/Ze/xRHb4/Efa9UZLRtob7Ix8fgZyAiMgUjRozAw4cPAQDjx4/H/v37UaZMGcybNw9TpkzRK6ZMyGm1yzckJyfD3t4eSUlJsLOz0+tGRPQGQQDiY4Dnz9SVMjsnwK7Y+z8HAIsWAStXqr/+9lvg44/1bkZmZiaKFy+O5ORkODg4YOnSpVobEGf59ddfMWjQIDx9+hR2dnZISEh474SE5PR7OH7nazxNf6O7VqUCrl2DT6nhqBgug+V3k7WXJCEioxDz531WrLgnPrCzE29pnuRkJVyKR+WbnCQtLQ1Xr15FmTJl4OTkpFcM/utIZAzx94E9S4DZQcCMXsC0HsCCIcDZA8CzpPd/vnnzV1/rUOXKyfPnz1GuXDkEBgYiOjo6x0QNUG9PFR0djcDAQJQvXx5p71k2RKnKxNX4DdkTNQBISQEEAVH35+Fp1wZM1IgKMEGCw1S9fPkS5cuXx5UrVzTnbG1tUbt2bb0TNYDrrBHlvcf3gGWjgQfXtc8/uAGs/g74sK/6sH3Hb4yVK6sH5d+6BURFAdevA15eejWnaNGiOHv27HurZADg7OyM0NBQKJXK917/LOM+bj3NeZ0hJCT+94WAm4qTKKZqCYWc66wRUf5maWmJFy9eiB6Xv84S5SWlEji2NXui9rpDa4CYd7wPqNck69Ll1evVqw1qVm4SNV2vf5GZiExVavY30tKAF/8thmttjceqa8hQJme/jogKBHObYBAcHIzp06frtIXf+7CyRpSX4u8Df+ZinbJjWwGPaoCVzduvadcO+OUX4OlT4OBBoF8/vatrUnjrGrevL/tRvDgALoZLRAXHmTNnEB4ejoMHD6JGjRooXLiw1vuhoaE6x2SyRpSXUp8Cz1Pef93dy0Ba8ruTNVtboG9f4Oef1ZMVZs4EliwxmfFfNhbFYa2wR7rytTF4SUmvtpiysgLs7OFWtAGsLRyM0kYikp7YC9ma+qK4Dg4O6Ny5s6gxmawR5SVZLhMpmQy5qjh16waEhgL37gHnzgHbtgFvmSCQ14palUaFYh/jn8er1CcyM4HYuFcXuLhAJlPA074V5DJu4k5UUJnb3qCrVq0SPaZp/ApOZC7sigMOzu+/rmoDoKjj+6+zsgLGjn31eu5c4No1vZsnJplMDq9ineFauK56+lZMDKD6bzsrOzvIitijXunvYW9TwajtJCISW2ZmJn7//XcsXboUKSnq3pQHDx7g2bNnesVjskaUl4q7AU27vfsauQKo2xZQ5LLwXbfuq2paRgbw1VeibfBuqMJWrqhfejwaWA2Bo2UFWFgUhlWhEvCsFIQPy/0CD/tWsJCLtCk8EZkkc5tgcOfOHdSoUQMdO3ZEcHCwZrup6dOn46uvvtIrJpM1orxWpw3g0yLn9+QK4NPvgFI6ThQYORKoWlX99YMHwPDhQLJpzLC0Xb8XZUf+ihaXP8JHsklo7bsT9TzGo0ThmlAwUSOiAmbEiBHw8/NDYmIiChUqpDkfGBiI8PBwvWIyWSPKaw4lgC6jgQEzgLI11eupFXFUV9NG/gL4tgIsrXWLaWUFzJ4NuLioX0dHA198YdwKmyCoZ6suWgTEx8Nmwy7YKdxQ1K0mFHIdn4+I8i1zWhQXAI4fP47vv/8eVlbav4x6enoiJiZGr5icYEBkDPZOQK0WQEU/9axPmQywLwFYGlBpKlECWLgQ+PxzICFBPXYtKAiYNUu9+XteSk8Hpk4F9ux5dW74cOC/PUaJyHwIInddmvpsUJVKBaVSme38/fv3UbRoUb1isrJGZEyF7YASpQGnUoYlalk8PdXVLFdX9esHD9Trr/36q3o/zrxw44Y6SXw9UQsJAfr0yZv7ExEZUcuWLTF37lzNa5lMhmfPnmH8+PFo06aNXjGZrBEVNJ6ewKpVr8awZWQAM2YAgwapt6WSSlqausuzd+9XM1JtbIBp04AePaS7LxGZtKx11sQ8TNns2bNx8uRJVK1aFS9evECPHj00XaDTp0/XK6ZMEN7/2MnJybC3t883O9wTEdRJ2ty56qpaFpkMaNkSGDAAsLcHEhPV//LZ2b0a76arZ8+A7duBtWvV8bKUK6fuCi1f3qDHIKK8I+bP+6xY/z70QVE78dZSTElWolzJKJPOSTIzM7F582ZcuHABz549Q+3atdGzZ0+tCQe64Jg1ooLKygoYPRpo1kydNN27p07MihRRL6S7YwcQG6t+7eEBfPop0Lx57pK2jAz1IrwHDwK//66uqmWxtFRX1z77TN0GIjJr5rYo7osXL2BjY4NevXqJFpPJGlFBV7cusGWL+oiNBf75B9i6Vfuau3eBs2eBFi2AL79Ud1/a2qorcRkZ6v1H4+KAW7fUn7948dW2UVlkMuDDD9WzUMuUybPHIyLTZm7JmrOzMwIDA9GrVy988MEHkIuwBSCTNSJzYGWlrnYdPqzeP9TaWj1jM0t6uvoIDQUqVACiotSVuNywtQU++gjo3h0oW1aS5hMR5Rdr1qzBxo0b0bFjR9jb26Nbt27o1asX/Pz89I7JZI3IXCQnA5s2AY6O6uPFCyAlRT3m7MWLV9f9+qt6TNvGjW+P5eQE+PsDjRurD2uum0ZEORN7bTQTL6whMDAQgYGBSElJwbZt27Bp0ybUq1cP5cqVQ69evTBu3DidY3KCAZG5uHcP6NlTe3xZFpXqVXXt5Utg8WLgr7/U5y0t1ZMRSpRQd2+WL69eGkSWi43miShfkWKCQXSM+BMMKpUy7QkGb7p8+TJ69uyJCxcu5LgG2/uwskZkTt6WYMnlQKFC6gMAvLwAPdcDIiJ6nbmNWcvy4sUL7Nq1Cxs3bkRYWBhcXFzw9ddf6xWLyRqRuSheHPDxAU6efPd15curu0mJiEQg9tpopr7O2oEDB7Bx40bs2LEDFhYW+OSTT3Dw4EE0adJE75hM1ojMha2tenHa9yVrvXurx6QREZHOAgMD0a5dO6xduxZt2rSBpaWlwTGZrBGZk6pV1UtrLFmS8/sdOwINGuRtm4ioQDO3btC4uLhse4AmJydjw4YNWLFiBc6ePatzTCZrROakaFGgWzegRg31bM+oKHWfgpeXuqLm7Q0UK2bsVhIR5VuvJ2pHjhzBypUrERoaCnt7ewQGBuoVk8kakbkpWlS97EaNGsCTJ+pz9vbqLaeIiERmbpW1mJgYrF69GqtWrcLTp0+RmJiIjRs3omvXrpDpOYueG7kTmStbW8DdXX0wUSMiiQgSHKbot99+Q5s2bVCpUiVERUVh9uzZePDgAeRyOWrUqKF3ogawskZERERksG7dumHMmDHYsmVLtjFrhmJljYiIiCST1Q0q5mGKBgwYgIULF6J169ZYsmQJEhMTRYvNZI2IiIjIQEuXLsXDhw/x+eefY9OmTShZsiQ6duwIQRCgUqkMis1kjYiIiCSTtSiumIepKlSoEPr27Ys//vgDFy9eRLVq1eDi4oKGDRuiR48eCA0N1SsukzUiIiIikXl5eWHKlCm4d+8e1q9fj7S0NHz66ad6xeIEAyIiIpKMAHHHmZlwYS1Hcrkc7du3R/v27fHo0SO9YjBZIyIiIsmY2zpr7+Ls7KzX59gNSkRERGTCWFkjIiIiyYi9kG0+LqzpjZU1IiIiIhPGyhoRERFJhmPWDMdkjYiIiCQj9tpoprjOmqOjY673/kxISNA5PpM1IiIiIgPMnTtX0vhM1oiIiEgy5tAN2rdvX0njM1kjIiIiksCLFy+QkZGhdc7Ozk7nOJwNSkRERJLJqqyJeZiy1NRUDB06FM7OzihcuDAcHR21Dn0wWSMiIiLJCBIculq4cCE8PT1hY2MDf39/nD59Olef27x5M2QyGTp16pTre40ePRqHDx/G4sWLYW1tjeXLl2PixIlwc3PD2rVr9Wg9kzUiIiIqwLZs2YKQkBCMHz8e586dQ82aNdGqVav37tN5+/ZtfPXVV2jcuLFO99u9ezcWLVqEzp07w8LCAo0bN8b333+PKVOmYMOGDXo9A5M1IiIikoyxu0HnzJmDgQMHIigoCFWrVsWSJUtga2uLlStXvvUzSqUSPXv2xMSJE1GuXDmd7peQkKD5jJ2dnWapjkaNGuHYsWO6Nf4/TNaIiIgo30lOTtY60tPTs12TkZGByMhIBAQEaM7J5XIEBAQgIiLirbEnTZoEZ2dnDBgwQOd2lStXDrdu3QIAVK5cGb/++isAdcXNwcFB53gAkzUiIiKSUNaiuGIeAODu7g57e3vNMXXq1Gz3jo+Ph1KphIuLi9Z5FxcXxMbG5tjeEydOYMWKFVi2bJlezxsUFITz588DAL755hssXLgQNjY2GDVqFL7++mu9YnLpDiIiIpKMVOus3bt3T2sZDGtra4Njp6SkoHfv3li2bBmcnJz0ijFq1CjN1wEBAbh69SoiIyNRoUIFeHt76xWTyRoRERHlO3Z2du9ds8zJyQkKhQJxcXFa5+Pi4uDq6prt+ps3b+L27dto37695pxKpQIAWFhYIDo6GuXLl9epnR4eHvDw8NDpM29iskZERESSEUSurOmyN6iVlRV8fX0RHh6uWX5DpVIhPDwcQ4cOzXZ95cqVcfHiRa1z33//PVJSUvDzzz/D3d39vfecNGnSO98fN25c7h/gP0zWiIiIqMAKCQlB37594efnh7p162Lu3LlITU1FUFAQAKBPnz4oVaoUpk6dChsbG1SvXl3r81mTAt48/zbbt2/Xev3y5UvcunULFhYWKF++PJM1IiIiMi36LmT7rni66NatGx4/foxx48YhNjYWPj4+CAsL00w6uHv3LuRy8eZb/v3339nOJScno1+/fggMDNQrpkwQ3l9QTE5Ohr29PZKSkvTa04qIiIhMn5g/77NiHfjHB4WLKkRqIZCaokSralH5Lie5ePEi2rdvj9u3b+v8WS7dQURERCSxpKQkJCUl6fVZdoMSERGRZF5fG02seKZs3rx5Wq8FQcDDhw+xbt06fPTRR3rFZLJGREREJJKffvpJ67VcLkeJEiXQt29fjB07Vq+YTNaIiIhIMlItimuqsraaEhOTNSIiIpKMuSVrUmCyRkRERCSS1NRUTJs2DeHh4Xj06JFmB4Qs//77r84xmawRERGRZIy9zlpe++yzz/DHH3+gd+/eKFmyJGQymcExmawRERERiWT//v3Yu3cvGjZsKFpMJmtEREQkGXMbs+bo6IhixYqJGpOL4hIRERGJZPLkyRg3bhzS0tJEi8nKGhEREUnG3BbFnT17Nm7evAkXFxd4enrC0tJS6/1z587pHJPJGhEREUnG3LpBO3XqJHpMJmtEREREIhk/frzoMZmsERERkWTMrRs0S0ZGRo7rrJUpU0bnWEzWiIiIiERy7do1DBgwAKdOndI6LwgCZDIZlEqlzjGZrBEREZFkBACq916lWzxTFhQUBAsLC+zZs4eL4hIREZHpU0HkCQbihZJEVFQUIiMjUblyZdFicp01IiIiIpFUrVoV8fHxosZkskZERESSyZpgIOZhyqZPn47Ro0fj6NGjePLkCZKTk7UOfbAblIiIiEgkAQEBAIAPPvhA6zwnGBAREZFJMrdFcY8cOSJ6TCZrREREJBlzW2etadOmb33v0qVLesXkmDUiIiIiiaSkpOCXX35B3bp1UbNmTb1iMFkjIiIiyagkOPKDY8eOoW/fvihZsiRmzZqFFi1a4M8//9QrFrtBiYiIiEQQGxuL1atXY8WKFUhOTkbXrl2Rnp6OHTt2oGrVqnrHZWWNiIiIJJM1wUDMwxS1b98elSpVwoULFzB37lw8ePAA8+fPFyU2K2tEREQkGXOZYLB//34MHz4cgwcPhpeXl6ixWVkjIiIiMtCJEyeQkpICX19f+Pv7Y8GCBaLtZMBkjYiIiCRjLt2g9erVw7Jly/Dw4UMMGjQImzdvhpubG1QqFQ4dOoSUlBS9YzNZIyIiIhJJ4cKF0b9/f5w4cQIXL17El19+iWnTpsHZ2RkdOnTQKyaTNSIiIpKMue0N+rpKlSphxowZuH//PjZt2qR3HE4wICIiIsmIvTZaflln7XUKhQKdOnVCp06d9Po8K2tEREREJoyVNSIiIpKMuW3kLgVW1oiIiIhMGCtrREREJB2xJwWYYWWNyRoRERFJht2ghmM3KBEREZEJY2WNiIiIJGMue4NKiZU1IiIiIhPGyhoRERFJhoviGo6VNSIiIiITxsoaERERSYazQQ3HZI2IiIgkwwkGhmM3KBEREZEJY2WNiIiIJMNuUMOxskZERERkwlhZIyIiIslwzJrhmKwRERGRZLjOmuHYDUpERERkwlhZIyIiIslwgoHhWFkjIiIiMmGsrBEREZFkOMHAcEzWiIiISDICxO26NMNcjd2gRERERKaMlTUiIiKSDLtBDcfKGhEREZEJY2WNiIiIJMNFcQ3HZI2IiIgkw3XWDMduUCIiIiITxsoaERERSYYTDAzHyhoREREVaAsXLoSnpydsbGzg7++P06dPv/Xa0NBQ+Pn5wcHBAYULF4aPjw/WrVuXh63NjskaERERSSZrzJqYhy62bNmCkJAQjB8/HufOnUPNmjXRqlUrPHr0KMfrixUrhu+++w4RERG4cOECgoKCEBQUhAMHDojw3dAPkzUiIiKSTFY3qJiHLubMmYOBAwciKCgIVatWxZIlS2Bra4uVK1fmeH2zZs0QGBiIKlWqoHz58hgxYgS8vb1x4sQJEb4b+mGyRkRERPlOcnKy1pGenp7tmoyMDERGRiIgIEBzTi6XIyAgABEREe+9hyAICA8PR3R0NJo0aSJq+3XBZI2IiIgko5LgAAB3d3fY29trjqlTp2a7d3x8PJRKJVxcXLTOu7i4IDY29q1tTkpKQpEiRWBlZYW2bdti/vz5+PDDD/X9FhiMs0GJiIgo37l37x7s7Ow0r62trUWLXbRoUURFReHZs2cIDw9HSEgIypUrh2bNmol2D10wWSMiIiLJSLUorp2dnVaylhMnJycoFArExcVpnY+Li4Orq+tbPyeXy1GhQgUAgI+PD65cuYKpU6caLVljNygRERFJxpgTDKysrODr64vw8HDNOZVKhfDwcNSvXz/XcVQqVY5j4vIKK2tERERUYIWEhKBv377w8/ND3bp1MXfuXKSmpiIoKAgA0KdPH5QqVUoz5m3q1Knw8/ND+fLlkZ6ejn379mHdunVYvHix0Z6ByRoRERFJxth7g3br1g2PHz/GuHHjEBsbCx8fH4SFhWkmHdy9exdy+auOxtTUVAwZMgT3799HoUKFULlyZaxfvx7dunUT7yF0JBOE9xcUk5OTYW9vj6SkpPf2DxMREVH+JObP+6xYY/f6wKawQqQWAi9SlZjaNsqschJW1oiIiEgy3BvUcJxgQERERGTCWFkjIiIiyQh4tZCtWPHMDZM1IiIikgy7QQ3HblAiIiIiE8bKGhEREUnG2Et3FASsrBERERGZMFbWiIiISDKsrBmOyRoRERFJRoC4MzjNMFdjNygRERGRKWNljYiIiCTDblDDsbJGREREZMJYWSMiIiLJcFFcwzFZIyIiIsmwG9Rw7AYlIiIiMmGsrBEREZFkWFkzHCtrRERERCaMlTUiIiKSDBfFNRyTNSIiIpIMu0ENx25QIiIiIhPGyhoRERFJyhzXRhMTK2tEREREJoyVNSIiIpIMx6wZjskaERERSYbJmuHYDUpERERkwlhZIyIiIslwnTXDsbJGREREZMJYWSMiIiLJcMya4ZisERERkWQEQdx11sxxzTZ2gxIRERGZMFbWiIiISDLsBjUcK2tEREREJoyVNSIiIpIMK2uGY2WNiIiIyISxskZERESS4aK4hmOyRkRERJJhN6jh2A1KREREZMJYWSMiIiLJcFFcw7GyRkRERGTCWFkjIiIiyQgij1kzx8oakzUiIiKSDCcYGI7doEREREQmjJU1IiIikgzXWTMcK2tEREREJoyVNSIiIpIMx6wZjskaERERSYbrrBmO3aBEREREJoyVNSIiIpIMu0ENx8oaERERkQljZY2IiIgkw8qa4ZisERERkWS4zprh2A1KREREZMJYWSMiIiLJsBvUcKysEREREZkwVtaIiIhIMlwU13BM1oiIiEgy7AY1HLtBiYiIiEwYK2tEREQkGVbWDMfKGhEREZEJY2WNiIiIJGWGxTBRsbJGREREZMJYWSMiIiLJqCDymDXxQuUbrKwRERGRZLLWWRPz0NXChQvh6ekJGxsb+Pv74/Tp02+9dtmyZWjcuDEcHR3h6OiIgICAd16fF5isERERUYG1ZcsWhISEYPz48Th37hxq1qyJVq1a4dGjRzlef/ToUXz66ac4cuQIIiIi4O7ujpYtWyImJiaPW/6KTBDen6MmJyfD3t4eSUlJsLOzy4t2ERERUR4T8+d9VqymS3xgUUghUguBzOdK/PFFVK7b6O/vjzp16mDBggUAAJVKBXd3dwwbNgzffPPNez+vVCrh6OiIBQsWoE+fPga3Xx+srBEREVG+k5ycrHWkp6dnuyYjIwORkZEICAjQnJPL5QgICEBERESu7pOWloaXL1+iWLFiorVdV0zWiIiISDJZi+KKeQCAu7s77O3tNcfUqVOz3Ts+Ph5KpRIuLi5a511cXBAbG5ur9o8ZMwZubm5aCV9e42xQIiIikowAcddZy4p17949rW5Qa2trEe+iNm3aNGzevBlHjx6FjY2N6PFzi8kaERER5Tt2dnbvHbPm5OQEhUKBuLg4rfNxcXFwdXV952dnzZqFadOm4ffff4e3t7fB7TUEu0GJiIhIMlJ1g+aGlZUVfH19ER4e/qo9KhXCw8NRv379t35uxowZmDx5MsLCwuDn52fI44uClTUiIiIqsEJCQtC3b1/4+fmhbt26mDt3LlJTUxEUFAQA6NOnD0qVKqUZ8zZ9+nSMGzcOGzduhKenp2ZsW5EiRVCkSBGjPAOTNSIiIpKMvgvZviueLrp164bHjx9j3LhxiI2NhY+PD8LCwjSTDu7evQu5/FVH4+LFi5GRkYFPPvlEK8748eMxYcIEQ5uvFyZrREREJBlduy5zE09XQ4cOxdChQ3N87+jRo1qvb9++rfsNJMYxa0REREQmjJU1IiIikoyxu0ELAlbWiIiIiEwYK2tEREQkGdV/h5jxzA2TNSIiIpKMIPIEA3aDEhEREZFJYWWNiIiIJMMJBoZjZY2IiIjIhLGyRkRERJJ5+Vwp6pg15QuleMHyCSZrREREJDorKyu4urri4jcXRY/t6uoKKysr0eOaKiZrREREJDobGxvcunULGRkZose2srKCjY2N6HFNFZM1IiIikoSNjY1ZJVVS4QQDIiIiIhPGZI2IiIjIhDFZIyIiIjJhoo5ZUyqVePnypZghKZ+ytLSEQqEwdjOIiIjyPVGSNUEQEBsbi6dPn4oRjgoIBwcHuLq6QiaTGbspRERE+ZYoyVpWoubs7AxbW1v+cDZzgiAgLS0Njx49AgCULFnSyC0iIiLKvwxO1pRKpSZRK168uEGxoqKiMHbsWEydOhU+Pj6GNo2MqFChQgCAR48ewdnZmV2iREREejJ4gkHWGDVbW1uDG/Pbb78hLCwMoaGhBsci48v6O8FxjERERPoTbTaoGF2fu3fv1vov5W/sDiciIjKcySzdERcXh/PnzwNQd4dmjXciIiIiMmcmk6wdOHDgna9JbfXq1XBwcDB2M4iIiCiPmEyytnfvXs0gdAsLC+zdu1fS+/Xr1w8ymQwymQyWlpZwcXHBhx9+iJUrV0KlUmld6+npqbk26yhdujQAoHv37mjdurXW9WFhYZDJZJgwYYLW+QkTJqBMmTLvbdumTZugUCgQHByc7b1u3brh2rVrOj6tuPr164dOnToZtQ1ERETmIk83co+JiUFcXFy284IgICwsDEqlEgCQmZmJ/fv3IzIyMsdxTy4uLihVqpTB7WndujVWrVoFpVKJuLg4hIWFYcSIEdi2bRt27doFC4tX355JkyZh4MCBmtdZiWXz5s3x1VdfITMzU3P9kSNH4O7ujqNHj2rd78iRI2jevPl727VixQqMHj0aS5cuxezZs7U2wS1UqJBmpmVOMjIyYGVllavn15VSqeQ4NCIiorwm5EJSUpIAQEhKSsr23vPnz4XLly8Lz58/f2+cBg0aCAByPGQy2Ttfv340bNgwN81+p759+wodO3bMdj48PFwAICxbtkxzzsPDQ/jpp59yjBMdHS0AECIiIjTn6tatKyxcuFCwsbHRfF+eP38uWFtbC6tWrXpnu/7991+hUKFCwtOnTwV/f39hw4YNWu+vWrVKsLe317weP368ULNmTWHZsmWCp6enIJPJBEEQhKZNmwrBwcFCcHCwYGdnJxQvXlz4/vvvBZVKpflsQkKC0Lt3b8HBwUEoVKiQ0Lp1a+HatWvZ7rVz506hSpUqgkKhEPr27Zvtz+PIkSM5PosufzeIiMj43vXznoxHkm5QQRCQmpqa7ejRowcsLCxyrM4IgvDO14B6dqGFhQV69OiRY/ycPqOrFi1aoGbNmrlePqRixYpwc3PDkSNHAAApKSk4d+4cunTpAk9PT0RERAAATp06hfT09PdW1latWoW2bdvC3t4evXr1wooVK97bhhs3buC3335DaGgooqKiNOfXrFkDCwsLnD59Gj///DPmzJmD5cuXa97v168fzp49i127diEiIgKCIKBNmzZaS22kpaVh+vTpWL58Of755x/MmzcPXbt2RevWrfHw4UM8fPgQDRo0yNX3ioiIiHQnSbKWlpaGIkWKZDuGDh2KzMxMvZMqQRCQmZmJ4ODgHOOnpaWJ0v7KlSvj9u3bWufGjBmjda958+Zp3mvevLmmy/P48eOoWLEiSpQogSZNmmjOHz16FGXLloWHh8db76tSqbB69Wr06tULgHo83IkTJ3Dr1q13tjcjIwNr165FrVq14O3trTnv7u6On376CZUqVULPnj0xbNgw/PTTTwCA69evY9euXVi+fDkaN26MmjVrYsOGDYiJicGOHTs0MV6+fIlFixahQYMGqFSpEuzs7FCoUCFYW1vD1dUVrq6uknW7EhERkQlNMDAlgiBkq/59/fXXiIqK0hx9+vTRvNesWTOcPHkSL1++xNGjR9GsWTMAQNOmTbWStfdV1Q4dOoTU1FS0adMGAODk5KSZ9PAuHh4eKFGiRLbz9erV03qO+vXr4/r161Aqlbhy5QosLCzg7++veb948eKoVKkSrly5ojlnZWWllQASERFR3pIkWbO1tcWzZ8/eeSQkJKB79+65ite9e3ckJCS8N6YYuygAwJUrV1C2bFmtc05OTqhQoYLmeH35jObNmyM1NRVnzpzBkSNH0LRpUwDqZO2vv/5CQkIC/vrrL7Ro0eKd912xYgUSEhJQqFAhWFhYwMLCAvv27cOaNWuyzVB9XeHChfV/2PcoVKgQJxUQEREZkSSzQWUy2XsTiMKFC6NChQpQKBSaWaA5USgU8PLygqOjo9jNzNHhw4dx8eJFjBo1KtefKV++PNzd3bFr1y5ERUVpkrVSpUqhVKlSmD17NjIyMt5ZWXvy5Al27tyJzZs3o1q1aprzSqUSjRo1wsGDB7MtEfI+f/31l9brP//8E15eXlAoFKhSpQoyMzPx119/acacPXnyBNHR0ahateo741pZWb3zz4yIiIjEY9Ru0N27d7/3h75SqZRs+6n09HTExsYiJiYG586dw5QpU9CxY0e0a9dOq5szN5o3b45FixahQoUKcHFx0Zxv2rQp5s+fr5mI8Dbr1q1D8eLF0bVrV1SvXl1z1KxZE23atMnVRIM33b17FyEhIYiOjsamTZswf/58jBgxAgDg5eWFjh07YuDAgThx4gTOnz+PXr16oVSpUujYseM743p6euLChQuIjo5GfHw89/4kIiKSkNGStde3l8qS1d32ZrebVNtPhYWFoWTJkvD09ETr1q1x5MgRzJs3Dzt37tSso5ZbzZs3R0pKima8WpamTZsiJSXlvePVVq5cicDAwBy7HDt37oxdu3YhPj5epzb16dMHz58/R926dREcHIwRI0bg888/17y/atUq+Pr6ol27dqhfvz4EQcC+fftgaWn5zrgDBw5EpUqV4OfnhxIlSuDkyZM6tYuIiIhyTybkYmpmcnIy7O3tkZSUBDs7O633Xrx4gVu3bqFs2bJai7e+z9q1a9G3b1/Na4VCgaJFi2L48OGYN28eUlJStKpua9euRe/evXMd39w1a9YMPj4+mDt3rtHaoO/fDSIiMo53/bwn4zFaZW3fvn2Qy+WaSlKHDh0QHR2NiRMnIjo6Gh06dACgrrLJ5XLs27fPWE0lIiIiMhqjJGtZ20mpVCrY29tjy5YtCA0NhbOzMwDA2dkZoaGh2LJlC+zt7aFSqbBv3z4OaiciIiKzk6d7g2Z5/vw5ypUrh7Jly2LJkiWaJO1NXbt2RbNmzfDFF1/g9u3bSEtLQ9GiRfO4tfnTm/uSEhERUf5klGStaNGiOHv2bK4G8WdV2ZRKpc6D/omIiIjyO9G6QXXdQkrXxIuJWv4jxl6tRERE5s7gZC1rmQex9uWkgiPr78T7lgIhIiKitzO4G1ShUMDBwUGzDpqtrS23JzJzgiAgLS0Njx49goODA6uiREREBhBlzJqrqysASLJwLeVfDg4Omr8bREREpB9RkjWZTIaSJUvC2dmZWw8RAHXXJytqREREhhN1NqhCoeAPaCIiIiIRGXUjdyIiIiJ6NyZrRERERCaMyRoRERGRCcvVmLWsxU2Tk5MlbQwREREZT9bPeS5qblpylaylpKQAANzd3SVtDBERERlfSkoK7O3tjd0M+o9MyEX6rFKp8ODBAxQtWpQL3hIRERVQgiAgJSUFbm5ukMs5UspU5CpZIyIiIiLjYNpMREREZMKYrBERERGZMCZrRERERCaMyRoRERGRCWOyRkRERGTCmKwRERERmTAma0REREQm7P+o3aXumIHppwAAAABJRU5ErkJggg==\n"
                },
                "metadata": {}
              }
            ]
          }
        },
        "081221565078454ea8800addd2bccf60": {
          "model_module": "@jupyter-widgets/base",
          "model_name": "LayoutModel",
          "model_module_version": "1.2.0",
          "state": {
            "_model_module": "@jupyter-widgets/base",
            "_model_module_version": "1.2.0",
            "_model_name": "LayoutModel",
            "_view_count": null,
            "_view_module": "@jupyter-widgets/base",
            "_view_module_version": "1.2.0",
            "_view_name": "LayoutView",
            "align_content": null,
            "align_items": null,
            "align_self": null,
            "border": null,
            "bottom": null,
            "display": null,
            "flex": null,
            "flex_flow": null,
            "grid_area": null,
            "grid_auto_columns": null,
            "grid_auto_flow": null,
            "grid_auto_rows": null,
            "grid_column": null,
            "grid_gap": null,
            "grid_row": null,
            "grid_template_areas": null,
            "grid_template_columns": null,
            "grid_template_rows": null,
            "height": null,
            "justify_content": null,
            "justify_items": null,
            "left": null,
            "margin": null,
            "max_height": null,
            "max_width": null,
            "min_height": null,
            "min_width": null,
            "object_fit": null,
            "object_position": null,
            "order": null,
            "overflow": null,
            "overflow_x": null,
            "overflow_y": null,
            "padding": null,
            "right": null,
            "top": null,
            "visibility": null,
            "width": null
          }
        },
        "06a900d6938941a286026dae52e60926": {
          "model_module": "@jupyter-widgets/base",
          "model_name": "LayoutModel",
          "model_module_version": "1.2.0",
          "state": {
            "_model_module": "@jupyter-widgets/base",
            "_model_module_version": "1.2.0",
            "_model_name": "LayoutModel",
            "_view_count": null,
            "_view_module": "@jupyter-widgets/base",
            "_view_module_version": "1.2.0",
            "_view_name": "LayoutView",
            "align_content": null,
            "align_items": null,
            "align_self": null,
            "border": null,
            "bottom": null,
            "display": null,
            "flex": null,
            "flex_flow": null,
            "grid_area": null,
            "grid_auto_columns": null,
            "grid_auto_flow": null,
            "grid_auto_rows": null,
            "grid_column": null,
            "grid_gap": null,
            "grid_row": null,
            "grid_template_areas": null,
            "grid_template_columns": null,
            "grid_template_rows": null,
            "height": null,
            "justify_content": null,
            "justify_items": null,
            "left": null,
            "margin": null,
            "max_height": null,
            "max_width": null,
            "min_height": null,
            "min_width": null,
            "object_fit": null,
            "object_position": null,
            "order": null,
            "overflow": null,
            "overflow_x": null,
            "overflow_y": null,
            "padding": null,
            "right": null,
            "top": null,
            "visibility": null,
            "width": null
          }
        },
        "5dc58d1e9ac4463a8797c6c8e7fdc0c1": {
          "model_module": "@jupyter-widgets/controls",
          "model_name": "DescriptionStyleModel",
          "model_module_version": "1.5.0",
          "state": {
            "_model_module": "@jupyter-widgets/controls",
            "_model_module_version": "1.5.0",
            "_model_name": "DescriptionStyleModel",
            "_view_count": null,
            "_view_module": "@jupyter-widgets/base",
            "_view_module_version": "1.2.0",
            "_view_name": "StyleView",
            "description_width": ""
          }
        },
        "bd1556d5eef44e83b6b910b96c557915": {
          "model_module": "@jupyter-widgets/base",
          "model_name": "LayoutModel",
          "model_module_version": "1.2.0",
          "state": {
            "_model_module": "@jupyter-widgets/base",
            "_model_module_version": "1.2.0",
            "_model_name": "LayoutModel",
            "_view_count": null,
            "_view_module": "@jupyter-widgets/base",
            "_view_module_version": "1.2.0",
            "_view_name": "LayoutView",
            "align_content": null,
            "align_items": null,
            "align_self": null,
            "border": null,
            "bottom": null,
            "display": null,
            "flex": null,
            "flex_flow": null,
            "grid_area": null,
            "grid_auto_columns": null,
            "grid_auto_flow": null,
            "grid_auto_rows": null,
            "grid_column": null,
            "grid_gap": null,
            "grid_row": null,
            "grid_template_areas": null,
            "grid_template_columns": null,
            "grid_template_rows": null,
            "height": null,
            "justify_content": null,
            "justify_items": null,
            "left": null,
            "margin": null,
            "max_height": null,
            "max_width": null,
            "min_height": null,
            "min_width": null,
            "object_fit": null,
            "object_position": null,
            "order": null,
            "overflow": null,
            "overflow_x": null,
            "overflow_y": null,
            "padding": null,
            "right": null,
            "top": null,
            "visibility": null,
            "width": null
          }
        }
      }
    }
  },
  "nbformat": 4,
  "nbformat_minor": 0
}